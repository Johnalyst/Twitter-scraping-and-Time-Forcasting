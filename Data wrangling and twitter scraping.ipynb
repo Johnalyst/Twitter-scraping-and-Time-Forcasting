{
 "cells": [
  {
   "cell_type": "markdown",
   "id": "58b76b39",
   "metadata": {},
   "source": [
    "### Importing the necessary libraries"
   ]
  },
  {
   "cell_type": "code",
   "execution_count": 1,
   "id": "72b56bb1",
   "metadata": {},
   "outputs": [],
   "source": [
    "import pandas as pd\n",
    "import numpy as np\n",
    "import tweepy\n",
    "from configparser import ConfigParser\n",
    "import re\n",
    "import requests\n",
    "from IPython.display import Image\n",
    "import matplotlib.pyplot as plt\n",
    "import matplotlib.dates as mdates\n",
    "import seaborn as sns\n",
    "from PIL import Image\n",
    "from wordcloud import WordCloud, STOPWORDS, ImageColorGenerator"
   ]
  },
  {
   "cell_type": "markdown",
   "id": "9fc76dac",
   "metadata": {},
   "source": [
    "### Gathering the needed datasets"
   ]
  },
  {
   "cell_type": "markdown",
   "id": "204d583b",
   "metadata": {},
   "source": [
    "##### Importing the WeRateDogs Twitter archive dataset"
   ]
  },
  {
   "cell_type": "code",
   "execution_count": 2,
   "id": "1d56c286",
   "metadata": {},
   "outputs": [
    {
     "data": {
      "text/html": [
       "<div>\n",
       "<style scoped>\n",
       "    .dataframe tbody tr th:only-of-type {\n",
       "        vertical-align: middle;\n",
       "    }\n",
       "\n",
       "    .dataframe tbody tr th {\n",
       "        vertical-align: top;\n",
       "    }\n",
       "\n",
       "    .dataframe thead th {\n",
       "        text-align: right;\n",
       "    }\n",
       "</style>\n",
       "<table border=\"1\" class=\"dataframe\">\n",
       "  <thead>\n",
       "    <tr style=\"text-align: right;\">\n",
       "      <th></th>\n",
       "      <th>tweet_id</th>\n",
       "      <th>in_reply_to_status_id</th>\n",
       "      <th>in_reply_to_user_id</th>\n",
       "      <th>timestamp</th>\n",
       "      <th>source</th>\n",
       "      <th>text</th>\n",
       "      <th>retweeted_status_id</th>\n",
       "      <th>retweeted_status_user_id</th>\n",
       "      <th>retweeted_status_timestamp</th>\n",
       "      <th>expanded_urls</th>\n",
       "      <th>rating_numerator</th>\n",
       "      <th>rating_denominator</th>\n",
       "      <th>name</th>\n",
       "      <th>doggo</th>\n",
       "      <th>floofer</th>\n",
       "      <th>pupper</th>\n",
       "      <th>puppo</th>\n",
       "    </tr>\n",
       "  </thead>\n",
       "  <tbody>\n",
       "    <tr>\n",
       "      <th>0</th>\n",
       "      <td>892420643555336193</td>\n",
       "      <td>NaN</td>\n",
       "      <td>NaN</td>\n",
       "      <td>2017-08-01 16:23:56 +0000</td>\n",
       "      <td>&lt;a href=\"http://twitter.com/download/iphone\" r...</td>\n",
       "      <td>This is Phineas. He's a mystical boy. Only eve...</td>\n",
       "      <td>NaN</td>\n",
       "      <td>NaN</td>\n",
       "      <td>NaN</td>\n",
       "      <td>https://twitter.com/dog_rates/status/892420643...</td>\n",
       "      <td>13</td>\n",
       "      <td>10</td>\n",
       "      <td>Phineas</td>\n",
       "      <td>None</td>\n",
       "      <td>None</td>\n",
       "      <td>None</td>\n",
       "      <td>None</td>\n",
       "    </tr>\n",
       "  </tbody>\n",
       "</table>\n",
       "</div>"
      ],
      "text/plain": [
       "             tweet_id  in_reply_to_status_id  in_reply_to_user_id  \\\n",
       "0  892420643555336193                    NaN                  NaN   \n",
       "\n",
       "                   timestamp  \\\n",
       "0  2017-08-01 16:23:56 +0000   \n",
       "\n",
       "                                              source  \\\n",
       "0  <a href=\"http://twitter.com/download/iphone\" r...   \n",
       "\n",
       "                                                text  retweeted_status_id  \\\n",
       "0  This is Phineas. He's a mystical boy. Only eve...                  NaN   \n",
       "\n",
       "   retweeted_status_user_id retweeted_status_timestamp  \\\n",
       "0                       NaN                        NaN   \n",
       "\n",
       "                                       expanded_urls  rating_numerator  \\\n",
       "0  https://twitter.com/dog_rates/status/892420643...                13   \n",
       "\n",
       "   rating_denominator     name doggo floofer pupper puppo  \n",
       "0                  10  Phineas  None    None   None  None  "
      ]
     },
     "execution_count": 2,
     "metadata": {},
     "output_type": "execute_result"
    }
   ],
   "source": [
    "tweets = pd.read_csv(r'C:\\Users\\JohnInalegwu\\Downloads\\twitter-archive-enhanced.csv')\n",
    "\n",
    "tweets.head(1)"
   ]
  },
  {
   "cell_type": "markdown",
   "id": "2315d317",
   "metadata": {},
   "source": [
    "#####  Importing the The tweet image predictions dataset"
   ]
  },
  {
   "cell_type": "code",
   "execution_count": 3,
   "id": "2bd2d515",
   "metadata": {},
   "outputs": [
    {
     "name": "stdout",
     "output_type": "stream",
     "text": [
      "The tweet image predictions has been successfully downloaded from Udacity's servers!!!\n"
     ]
    }
   ],
   "source": [
    "url='https://d17h27t6h515a5.cloudfront.net/topher/2017/August/599fd2ad_image-predictions/image-predictions.tsv'\n",
    "\n",
    "response = requests.get(url, stream = True)\n",
    "with open(\"image_predictions.tsv\", 'wb') as file:\n",
    "    file.write(response.content)\n",
    "    file.close()\n",
    "print(\"The tweet image predictions has been successfully downloaded from Udacity's servers!!!\")"
   ]
  },
  {
   "cell_type": "code",
   "execution_count": 4,
   "id": "7050f23d",
   "metadata": {},
   "outputs": [
    {
     "data": {
      "text/html": [
       "<div>\n",
       "<style scoped>\n",
       "    .dataframe tbody tr th:only-of-type {\n",
       "        vertical-align: middle;\n",
       "    }\n",
       "\n",
       "    .dataframe tbody tr th {\n",
       "        vertical-align: top;\n",
       "    }\n",
       "\n",
       "    .dataframe thead th {\n",
       "        text-align: right;\n",
       "    }\n",
       "</style>\n",
       "<table border=\"1\" class=\"dataframe\">\n",
       "  <thead>\n",
       "    <tr style=\"text-align: right;\">\n",
       "      <th></th>\n",
       "      <th>tweet_id</th>\n",
       "      <th>jpg_url</th>\n",
       "      <th>img_num</th>\n",
       "      <th>p1</th>\n",
       "      <th>p1_conf</th>\n",
       "      <th>p1_dog</th>\n",
       "      <th>p2</th>\n",
       "      <th>p2_conf</th>\n",
       "      <th>p2_dog</th>\n",
       "      <th>p3</th>\n",
       "      <th>p3_conf</th>\n",
       "      <th>p3_dog</th>\n",
       "    </tr>\n",
       "  </thead>\n",
       "  <tbody>\n",
       "    <tr>\n",
       "      <th>0</th>\n",
       "      <td>666020888022790149</td>\n",
       "      <td>https://pbs.twimg.com/media/CT4udn0WwAA0aMy.jpg</td>\n",
       "      <td>1</td>\n",
       "      <td>Welsh_springer_spaniel</td>\n",
       "      <td>0.465074</td>\n",
       "      <td>True</td>\n",
       "      <td>collie</td>\n",
       "      <td>0.156665</td>\n",
       "      <td>True</td>\n",
       "      <td>Shetland_sheepdog</td>\n",
       "      <td>0.061428</td>\n",
       "      <td>True</td>\n",
       "    </tr>\n",
       "  </tbody>\n",
       "</table>\n",
       "</div>"
      ],
      "text/plain": [
       "             tweet_id                                          jpg_url  \\\n",
       "0  666020888022790149  https://pbs.twimg.com/media/CT4udn0WwAA0aMy.jpg   \n",
       "\n",
       "   img_num                      p1   p1_conf  p1_dog      p2   p2_conf  \\\n",
       "0        1  Welsh_springer_spaniel  0.465074    True  collie  0.156665   \n",
       "\n",
       "   p2_dog                 p3   p3_conf  p3_dog  \n",
       "0    True  Shetland_sheepdog  0.061428    True  "
      ]
     },
     "execution_count": 4,
     "metadata": {},
     "output_type": "execute_result"
    }
   ],
   "source": [
    "pics = pd.read_csv('image_predictions.tsv', sep='\\t')\n",
    "\n",
    "pics.head(1)"
   ]
  },
  {
   "cell_type": "markdown",
   "id": "e16fe105",
   "metadata": {},
   "source": [
    "The WeRateDogs Twitter archive dataset lacks some necessary data that could drive more insight into our analysis. The needed data lacking are each tweet's retweet count and favorite (\"like\") count. Using the tweet IDs in the WeRateDogs Twitter archive, we would be querying the Twitter API for each tweet's JSON data using Python's Tweepy library."
   ]
  },
  {
   "cell_type": "markdown",
   "id": "65c10419",
   "metadata": {},
   "source": [
    "##### Getting our twitter api keys"
   ]
  },
  {
   "cell_type": "code",
   "execution_count": 5,
   "id": "83692ac1",
   "metadata": {},
   "outputs": [],
   "source": [
    "config = ConfigParser()\n",
    "config.read(\"config.ini\")\n",
    "\n",
    "api_key = config['twitter']['api_key']\n",
    "api_key_secret = config['twitter']['api_key_secret']\n",
    "\n",
    "access_token = config['twitter']['access_token']\n",
    "access_token_secret = config['twitter']['access_token_secret']"
   ]
  },
  {
   "cell_type": "markdown",
   "id": "3347921a",
   "metadata": {},
   "source": [
    "##### creating the api authenticator"
   ]
  },
  {
   "cell_type": "code",
   "execution_count": 6,
   "id": "62cbe32d",
   "metadata": {},
   "outputs": [],
   "source": [
    "auth = tweepy.OAuthHandler(api_key, api_key_secret)\n",
    "\n",
    "auth.set_access_token(access_token, access_token_secret)\n",
    "\n",
    "api = tweepy.API(auth)"
   ]
  },
  {
   "cell_type": "markdown",
   "id": "a40cf4af",
   "metadata": {},
   "source": [
    "##### Getting all tweet id to be queried from the WeRateDogs Twitter archive"
   ]
  },
  {
   "cell_type": "code",
   "execution_count": 526,
   "id": "4d43890c",
   "metadata": {},
   "outputs": [],
   "source": [
    "id = tweets['tweet_id']"
   ]
  },
  {
   "cell_type": "markdown",
   "id": "b337bf47",
   "metadata": {},
   "source": [
    "##### Looping through all tweet id to obtain the  tweet's JSON data and excluding all invalid tweets id to avoid errors"
   ]
  },
  {
   "cell_type": "code",
   "execution_count": 10,
   "id": "d6e49de8",
   "metadata": {},
   "outputs": [],
   "source": [
    "#dog_rates = []\n",
    "\n",
    "#for i in id:\n",
    " #   try:\n",
    "#        dog_rates.append(api.get_status(i, tweet_mode='extended'))\n",
    " #   except Exception:\n",
    "  #      pass"
   ]
  },
  {
   "cell_type": "markdown",
   "id": "557fb657",
   "metadata": {},
   "source": [
    "##### Checking out the structure and components of the JSON file so as to easily identify the retweet count and favorite count"
   ]
  },
  {
   "cell_type": "code",
   "execution_count": 11,
   "id": "e33860b3",
   "metadata": {},
   "outputs": [
    {
     "data": {
      "text/plain": [
       "['__class__',\n",
       " '__delattr__',\n",
       " '__dict__',\n",
       " '__dir__',\n",
       " '__doc__',\n",
       " '__eq__',\n",
       " '__format__',\n",
       " '__ge__',\n",
       " '__getattribute__',\n",
       " '__getstate__',\n",
       " '__gt__',\n",
       " '__hash__',\n",
       " '__init__',\n",
       " '__init_subclass__',\n",
       " '__le__',\n",
       " '__lt__',\n",
       " '__module__',\n",
       " '__ne__',\n",
       " '__new__',\n",
       " '__reduce__',\n",
       " '__reduce_ex__',\n",
       " '__repr__',\n",
       " '__setattr__',\n",
       " '__sizeof__',\n",
       " '__slots__',\n",
       " '__str__',\n",
       " '__subclasshook__',\n",
       " '__weakref__',\n",
       " '_api',\n",
       " '_json',\n",
       " 'author',\n",
       " 'contributors',\n",
       " 'coordinates',\n",
       " 'created_at',\n",
       " 'destroy',\n",
       " 'display_text_range',\n",
       " 'entities',\n",
       " 'extended_entities',\n",
       " 'favorite',\n",
       " 'favorite_count',\n",
       " 'favorited',\n",
       " 'full_text',\n",
       " 'geo',\n",
       " 'id',\n",
       " 'id_str',\n",
       " 'in_reply_to_screen_name',\n",
       " 'in_reply_to_status_id',\n",
       " 'in_reply_to_status_id_str',\n",
       " 'in_reply_to_user_id',\n",
       " 'in_reply_to_user_id_str',\n",
       " 'is_quote_status',\n",
       " 'lang',\n",
       " 'parse',\n",
       " 'parse_list',\n",
       " 'place',\n",
       " 'possibly_sensitive',\n",
       " 'possibly_sensitive_appealable',\n",
       " 'retweet',\n",
       " 'retweet_count',\n",
       " 'retweeted',\n",
       " 'retweets',\n",
       " 'source',\n",
       " 'source_url',\n",
       " 'truncated',\n",
       " 'user']"
      ]
     },
     "execution_count": 11,
     "metadata": {},
     "output_type": "execute_result"
    }
   ],
   "source": [
    "dir(dog_rates[0])"
   ]
  },
  {
   "cell_type": "markdown",
   "id": "6037bd71",
   "metadata": {},
   "source": [
    "##### Creating an empty list 'data'\n",
    "\n",
    "##### Looping through the JSON file, to get the tweet id, favorite count and retweet count\n",
    "\n",
    "##### Appending the informations to the empty list created "
   ]
  },
  {
   "cell_type": "code",
   "execution_count": 7,
   "id": "c05b6add",
   "metadata": {},
   "outputs": [],
   "source": [
    "data = []\n",
    "\n",
    "for tweet in dog_rates:\n",
    "    data.append([tweet.id,\n",
    "               tweet.favorite_count,\n",
    "               tweet.retweet_count])"
   ]
  },
  {
   "cell_type": "markdown",
   "id": "bff275f9",
   "metadata": {},
   "source": [
    "##### Creating the  column names needed for our new dataset"
   ]
  },
  {
   "cell_type": "code",
   "execution_count": 13,
   "id": "097c91ac",
   "metadata": {},
   "outputs": [],
   "source": [
    "columns = ['id', 'favorite_count', 'retweet_count']"
   ]
  },
  {
   "cell_type": "markdown",
   "id": "2276ae1e",
   "metadata": {},
   "source": [
    "##### Creating the dataset and saving it as csv file"
   ]
  },
  {
   "cell_type": "code",
   "execution_count": 14,
   "id": "62e3ab52",
   "metadata": {},
   "outputs": [],
   "source": [
    "#df = pd.DataFrame(data, columns=columns)\n",
    "\n",
    "#df.to_csv('twt_rt_nd_likes.csv', index = False)"
   ]
  },
  {
   "cell_type": "markdown",
   "id": "cacf55b3",
   "metadata": {},
   "source": [
    "##### Importing the retweets and likes  dataset"
   ]
  },
  {
   "cell_type": "code",
   "execution_count": 7,
   "id": "1b9abefa",
   "metadata": {},
   "outputs": [
    {
     "data": {
      "text/html": [
       "<div>\n",
       "<style scoped>\n",
       "    .dataframe tbody tr th:only-of-type {\n",
       "        vertical-align: middle;\n",
       "    }\n",
       "\n",
       "    .dataframe tbody tr th {\n",
       "        vertical-align: top;\n",
       "    }\n",
       "\n",
       "    .dataframe thead th {\n",
       "        text-align: right;\n",
       "    }\n",
       "</style>\n",
       "<table border=\"1\" class=\"dataframe\">\n",
       "  <thead>\n",
       "    <tr style=\"text-align: right;\">\n",
       "      <th></th>\n",
       "      <th>id</th>\n",
       "      <th>favorite_count</th>\n",
       "      <th>retweet_count</th>\n",
       "    </tr>\n",
       "  </thead>\n",
       "  <tbody>\n",
       "    <tr>\n",
       "      <th>0</th>\n",
       "      <td>892420643555336193</td>\n",
       "      <td>33823</td>\n",
       "      <td>7010</td>\n",
       "    </tr>\n",
       "  </tbody>\n",
       "</table>\n",
       "</div>"
      ],
      "text/plain": [
       "                   id  favorite_count  retweet_count\n",
       "0  892420643555336193           33823           7010"
      ]
     },
     "execution_count": 7,
     "metadata": {},
     "output_type": "execute_result"
    }
   ],
   "source": [
    "rt_likes = pd.read_csv('twt_rt_nd_likes.csv')\n",
    "\n",
    "rt_likes.head(1)"
   ]
  },
  {
   "cell_type": "code",
   "execution_count": null,
   "id": "97f9a9ca",
   "metadata": {},
   "outputs": [],
   "source": []
  },
  {
   "cell_type": "markdown",
   "id": "8efa5e1a",
   "metadata": {},
   "source": [
    "# Assessing the data"
   ]
  },
  {
   "cell_type": "code",
   "execution_count": 8,
   "id": "00743e2b",
   "metadata": {},
   "outputs": [
    {
     "data": {
      "text/html": [
       "<div>\n",
       "<style scoped>\n",
       "    .dataframe tbody tr th:only-of-type {\n",
       "        vertical-align: middle;\n",
       "    }\n",
       "\n",
       "    .dataframe tbody tr th {\n",
       "        vertical-align: top;\n",
       "    }\n",
       "\n",
       "    .dataframe thead th {\n",
       "        text-align: right;\n",
       "    }\n",
       "</style>\n",
       "<table border=\"1\" class=\"dataframe\">\n",
       "  <thead>\n",
       "    <tr style=\"text-align: right;\">\n",
       "      <th></th>\n",
       "      <th>tweet_id</th>\n",
       "      <th>in_reply_to_status_id</th>\n",
       "      <th>in_reply_to_user_id</th>\n",
       "      <th>timestamp</th>\n",
       "      <th>source</th>\n",
       "      <th>text</th>\n",
       "      <th>retweeted_status_id</th>\n",
       "      <th>retweeted_status_user_id</th>\n",
       "      <th>retweeted_status_timestamp</th>\n",
       "      <th>expanded_urls</th>\n",
       "      <th>rating_numerator</th>\n",
       "      <th>rating_denominator</th>\n",
       "      <th>name</th>\n",
       "      <th>doggo</th>\n",
       "      <th>floofer</th>\n",
       "      <th>pupper</th>\n",
       "      <th>puppo</th>\n",
       "    </tr>\n",
       "  </thead>\n",
       "  <tbody>\n",
       "    <tr>\n",
       "      <th>0</th>\n",
       "      <td>892420643555336193</td>\n",
       "      <td>NaN</td>\n",
       "      <td>NaN</td>\n",
       "      <td>2017-08-01 16:23:56 +0000</td>\n",
       "      <td>&lt;a href=\"http://twitter.com/download/iphone\" r...</td>\n",
       "      <td>This is Phineas. He's a mystical boy. Only eve...</td>\n",
       "      <td>NaN</td>\n",
       "      <td>NaN</td>\n",
       "      <td>NaN</td>\n",
       "      <td>https://twitter.com/dog_rates/status/892420643...</td>\n",
       "      <td>13</td>\n",
       "      <td>10</td>\n",
       "      <td>Phineas</td>\n",
       "      <td>None</td>\n",
       "      <td>None</td>\n",
       "      <td>None</td>\n",
       "      <td>None</td>\n",
       "    </tr>\n",
       "    <tr>\n",
       "      <th>1</th>\n",
       "      <td>892177421306343426</td>\n",
       "      <td>NaN</td>\n",
       "      <td>NaN</td>\n",
       "      <td>2017-08-01 00:17:27 +0000</td>\n",
       "      <td>&lt;a href=\"http://twitter.com/download/iphone\" r...</td>\n",
       "      <td>This is Tilly. She's just checking pup on you....</td>\n",
       "      <td>NaN</td>\n",
       "      <td>NaN</td>\n",
       "      <td>NaN</td>\n",
       "      <td>https://twitter.com/dog_rates/status/892177421...</td>\n",
       "      <td>13</td>\n",
       "      <td>10</td>\n",
       "      <td>Tilly</td>\n",
       "      <td>None</td>\n",
       "      <td>None</td>\n",
       "      <td>None</td>\n",
       "      <td>None</td>\n",
       "    </tr>\n",
       "  </tbody>\n",
       "</table>\n",
       "</div>"
      ],
      "text/plain": [
       "             tweet_id  in_reply_to_status_id  in_reply_to_user_id  \\\n",
       "0  892420643555336193                    NaN                  NaN   \n",
       "1  892177421306343426                    NaN                  NaN   \n",
       "\n",
       "                   timestamp  \\\n",
       "0  2017-08-01 16:23:56 +0000   \n",
       "1  2017-08-01 00:17:27 +0000   \n",
       "\n",
       "                                              source  \\\n",
       "0  <a href=\"http://twitter.com/download/iphone\" r...   \n",
       "1  <a href=\"http://twitter.com/download/iphone\" r...   \n",
       "\n",
       "                                                text  retweeted_status_id  \\\n",
       "0  This is Phineas. He's a mystical boy. Only eve...                  NaN   \n",
       "1  This is Tilly. She's just checking pup on you....                  NaN   \n",
       "\n",
       "   retweeted_status_user_id retweeted_status_timestamp  \\\n",
       "0                       NaN                        NaN   \n",
       "1                       NaN                        NaN   \n",
       "\n",
       "                                       expanded_urls  rating_numerator  \\\n",
       "0  https://twitter.com/dog_rates/status/892420643...                13   \n",
       "1  https://twitter.com/dog_rates/status/892177421...                13   \n",
       "\n",
       "   rating_denominator     name doggo floofer pupper puppo  \n",
       "0                  10  Phineas  None    None   None  None  \n",
       "1                  10    Tilly  None    None   None  None  "
      ]
     },
     "execution_count": 8,
     "metadata": {},
     "output_type": "execute_result"
    }
   ],
   "source": [
    "tweets.head(2)"
   ]
  },
  {
   "cell_type": "code",
   "execution_count": 9,
   "id": "09940caf",
   "metadata": {},
   "outputs": [
    {
     "data": {
      "text/html": [
       "<div>\n",
       "<style scoped>\n",
       "    .dataframe tbody tr th:only-of-type {\n",
       "        vertical-align: middle;\n",
       "    }\n",
       "\n",
       "    .dataframe tbody tr th {\n",
       "        vertical-align: top;\n",
       "    }\n",
       "\n",
       "    .dataframe thead th {\n",
       "        text-align: right;\n",
       "    }\n",
       "</style>\n",
       "<table border=\"1\" class=\"dataframe\">\n",
       "  <thead>\n",
       "    <tr style=\"text-align: right;\">\n",
       "      <th></th>\n",
       "      <th>tweet_id</th>\n",
       "      <th>jpg_url</th>\n",
       "      <th>img_num</th>\n",
       "      <th>p1</th>\n",
       "      <th>p1_conf</th>\n",
       "      <th>p1_dog</th>\n",
       "      <th>p2</th>\n",
       "      <th>p2_conf</th>\n",
       "      <th>p2_dog</th>\n",
       "      <th>p3</th>\n",
       "      <th>p3_conf</th>\n",
       "      <th>p3_dog</th>\n",
       "    </tr>\n",
       "  </thead>\n",
       "  <tbody>\n",
       "    <tr>\n",
       "      <th>0</th>\n",
       "      <td>666020888022790149</td>\n",
       "      <td>https://pbs.twimg.com/media/CT4udn0WwAA0aMy.jpg</td>\n",
       "      <td>1</td>\n",
       "      <td>Welsh_springer_spaniel</td>\n",
       "      <td>0.465074</td>\n",
       "      <td>True</td>\n",
       "      <td>collie</td>\n",
       "      <td>0.156665</td>\n",
       "      <td>True</td>\n",
       "      <td>Shetland_sheepdog</td>\n",
       "      <td>0.061428</td>\n",
       "      <td>True</td>\n",
       "    </tr>\n",
       "    <tr>\n",
       "      <th>1</th>\n",
       "      <td>666029285002620928</td>\n",
       "      <td>https://pbs.twimg.com/media/CT42GRgUYAA5iDo.jpg</td>\n",
       "      <td>1</td>\n",
       "      <td>redbone</td>\n",
       "      <td>0.506826</td>\n",
       "      <td>True</td>\n",
       "      <td>miniature_pinscher</td>\n",
       "      <td>0.074192</td>\n",
       "      <td>True</td>\n",
       "      <td>Rhodesian_ridgeback</td>\n",
       "      <td>0.072010</td>\n",
       "      <td>True</td>\n",
       "    </tr>\n",
       "  </tbody>\n",
       "</table>\n",
       "</div>"
      ],
      "text/plain": [
       "             tweet_id                                          jpg_url  \\\n",
       "0  666020888022790149  https://pbs.twimg.com/media/CT4udn0WwAA0aMy.jpg   \n",
       "1  666029285002620928  https://pbs.twimg.com/media/CT42GRgUYAA5iDo.jpg   \n",
       "\n",
       "   img_num                      p1   p1_conf  p1_dog                  p2  \\\n",
       "0        1  Welsh_springer_spaniel  0.465074    True              collie   \n",
       "1        1                 redbone  0.506826    True  miniature_pinscher   \n",
       "\n",
       "    p2_conf  p2_dog                   p3   p3_conf  p3_dog  \n",
       "0  0.156665    True    Shetland_sheepdog  0.061428    True  \n",
       "1  0.074192    True  Rhodesian_ridgeback  0.072010    True  "
      ]
     },
     "execution_count": 9,
     "metadata": {},
     "output_type": "execute_result"
    }
   ],
   "source": [
    "pics.head(2)"
   ]
  },
  {
   "cell_type": "code",
   "execution_count": 10,
   "id": "557d0fab",
   "metadata": {},
   "outputs": [
    {
     "data": {
      "text/html": [
       "<div>\n",
       "<style scoped>\n",
       "    .dataframe tbody tr th:only-of-type {\n",
       "        vertical-align: middle;\n",
       "    }\n",
       "\n",
       "    .dataframe tbody tr th {\n",
       "        vertical-align: top;\n",
       "    }\n",
       "\n",
       "    .dataframe thead th {\n",
       "        text-align: right;\n",
       "    }\n",
       "</style>\n",
       "<table border=\"1\" class=\"dataframe\">\n",
       "  <thead>\n",
       "    <tr style=\"text-align: right;\">\n",
       "      <th></th>\n",
       "      <th>id</th>\n",
       "      <th>favorite_count</th>\n",
       "      <th>retweet_count</th>\n",
       "    </tr>\n",
       "  </thead>\n",
       "  <tbody>\n",
       "    <tr>\n",
       "      <th>0</th>\n",
       "      <td>892420643555336193</td>\n",
       "      <td>33823</td>\n",
       "      <td>7010</td>\n",
       "    </tr>\n",
       "    <tr>\n",
       "      <th>1</th>\n",
       "      <td>892177421306343426</td>\n",
       "      <td>29337</td>\n",
       "      <td>5302</td>\n",
       "    </tr>\n",
       "  </tbody>\n",
       "</table>\n",
       "</div>"
      ],
      "text/plain": [
       "                   id  favorite_count  retweet_count\n",
       "0  892420643555336193           33823           7010\n",
       "1  892177421306343426           29337           5302"
      ]
     },
     "execution_count": 10,
     "metadata": {},
     "output_type": "execute_result"
    }
   ],
   "source": [
    "rt_likes.head(2)"
   ]
  },
  {
   "cell_type": "code",
   "execution_count": null,
   "id": "2a3f9609",
   "metadata": {},
   "outputs": [],
   "source": []
  },
  {
   "cell_type": "markdown",
   "id": "0d2433ad",
   "metadata": {},
   "source": [
    "# Quality issues"
   ]
  },
  {
   "cell_type": "markdown",
   "id": "e4e87836",
   "metadata": {},
   "source": [
    "1.  The 'timestamp' column in the twitter Archive dataset is an object datatype. This needs to be changed into a datetime column.\n",
    "\n",
    "\n",
    "2.  Url links, and ratings are also present in 'text' column in the twitter Archive dataset, and they also appear in different individual columns. So, Url links and ratings too, would be removed from the texts.\n",
    "\n",
    "\n",
    "3.  Aside the fact that the rating numerators are greater than the denominators in WeRateDogs. There are stil some instances of in inaccurate rating numerators and denominators. This is an error that occured while extraxting the rating from the texts.\n",
    "\n",
    "\n",
    "4. The 'text' column in the twitter Archive dataset, has certain features that are irrelevant to our analysis like Hashtags(#) and IG tags.\n",
    "\n",
    "\n",
    "5. The 'name' column in the twitter Archive dataset has some invalid values like 'None', 'such', \n",
    "'a', 'quite', 'not', 'one', 'incredibly', 'mad', 'an', 'very', 'just', 'my', 'his', 'actually',\n",
    "'getting', 'this', 'unacceptable', 'all', 'old', 'infuriating', 'the', 'by', 'officially', \n",
    "'life', 'light', 'space'. \n",
    "    These set of values above are invalid. Such values needs to be assigned a NaN values to avoid \n",
    "    skewing our analysis.\n",
    "\n",
    "\n",
    "\n",
    "6. Data from retweet are also present in our twitter Archive dataset. Retweet data are just duplicates of the original data in our data but with a different timestamp. So, for our analysis only original tweets are to be considered. So, we would be dropping all retweets from our dataset.\n",
    "\n",
    "\n",
    "7.  Over 324 entries in the image_predictions dataset are not dog ratings, therefore, are invalid in our dataset and should be dropped.\n",
    "\n",
    "\n",
    "8. The id column in the retweet and likes dataset that I obtained from twitter needs to be renamed into 'tweet_id' for the sake of our analysis and merging of of necessary datasets.\n",
    "\n",
    "\n",
    "9.  in_reply_to_status_id: 2278 null data, \n",
    "    in_reply_to_user_id: 2278 null data, \n",
    "    retweeted_status_id:  2175 null data, \n",
    "    retweeted_status_user_id: 2175 null data, \n",
    "    retweeted_status_timestamp: 2175 null data, \n",
    "    expanded_urls: 59 null data, \n",
    "        All of these columns listed above in our twitter Archive dataset have missing \n",
    "        values and would all be addressed as we continue the wrangling process."
   ]
  },
  {
   "cell_type": "markdown",
   "id": "a1e47af3",
   "metadata": {},
   "source": []
  },
  {
   "cell_type": "markdown",
   "id": "00a47221",
   "metadata": {},
   "source": [
    "# Tidiness issues"
   ]
  },
  {
   "cell_type": "markdown",
   "id": "069cc781",
   "metadata": {},
   "source": [
    "1. in_reply_to_status_id, \n",
    "   in_reply_to_user_id, \n",
    "   source, \n",
    "   retweeted_status_id, \n",
    "   retweeted_status_user_id, \n",
    "   retweeted_status_timestamp, \n",
    "   expanded_urls \n",
    "       The above are all listed columns that are irrelevant to our analysis.\n",
    "       Therefore, affects the structure of our dataset to carry out further analytical \n",
    "       approach.\n",
    "       \n",
    "       \n",
    "2. doggo, \n",
    "   floofer, \n",
    "   pupper, \n",
    "   puppo \n",
    "       These listed columns represent different dog growth stages. So, \n",
    "       instead of having different columns representing different stages, \n",
    "       why don't we just have a single column which states the stage of the dog.\n",
    "       \n",
    "\n",
    "3. The timestamp column, after the quality issues has been addressed. Then we focus more on the \n",
    "   structure issue of the column in our dataset. We would be splitting the existing timestamp column\n",
    "   into two different columns of date and time.\n",
    "   \n",
    "\n",
    "4.  In our image_predictions dataset, we have 3 different columns, each stating the prediction, the prediction confident score and thirdly the conditional statement if the prediction is a Dog breed or not. Now we have these three set of columns repeated 3 times in the dataset. This affects the struccture of the dataset. So, we would aim at colllapsing all six columns, leaving just three columns, which would have values for the prediction, the prediction score and the prediction number. There would be no need for the boolean values stating if the prediction is a Dog or not as we would only be having predictions for Dogs in our dataset."
   ]
  },
  {
   "cell_type": "code",
   "execution_count": null,
   "id": "5e10a0e2",
   "metadata": {},
   "outputs": [],
   "source": []
  },
  {
   "cell_type": "markdown",
   "id": "811e085b",
   "metadata": {},
   "source": [
    "# Cleaning Data "
   ]
  },
  {
   "cell_type": "markdown",
   "id": "3fb68f5f",
   "metadata": {},
   "source": [
    "##### Make copies of original pieces of data"
   ]
  },
  {
   "cell_type": "code",
   "execution_count": 11,
   "id": "d0c2bdb8",
   "metadata": {},
   "outputs": [],
   "source": [
    "tweets_copy =  tweets.copy()\n",
    "\n",
    "pics_copy = pics.copy()\n",
    "\n",
    "rt_likes_copy = rt_likes.copy()"
   ]
  },
  {
   "cell_type": "markdown",
   "id": "c82d183b",
   "metadata": {},
   "source": [
    "#### Issue #1: Inaccurate datatype for timestamp column"
   ]
  },
  {
   "cell_type": "markdown",
   "id": "66482d2f",
   "metadata": {},
   "source": [
    "#### Define: The timestamp column in the twitter archive dataset is in an object datatype. The values contained in that column are Date and Time, so the column needs to be converted into a datetime datatype, to allow proper analysis into the date and time of the data."
   ]
  },
  {
   "cell_type": "markdown",
   "id": "9984f330",
   "metadata": {},
   "source": [
    "##### Code"
   ]
  },
  {
   "cell_type": "markdown",
   "id": "bc9651e0",
   "metadata": {},
   "source": [
    "##### Before cleaning the data"
   ]
  },
  {
   "cell_type": "code",
   "execution_count": 12,
   "id": "b0bbea31",
   "metadata": {},
   "outputs": [
    {
     "name": "stdout",
     "output_type": "stream",
     "text": [
      "The data type of the timestamp column in this dataset is currently an 'object' data type.\n",
      " Now we proceed into converting it into a datetime data type below.\n"
     ]
    }
   ],
   "source": [
    "print(f'The data type of the timestamp column in this dataset is currently an \\'{tweets_copy[\"timestamp\"].dtypes}\\' data type.\\n Now we proceed into converting it into a datetime data type below.')"
   ]
  },
  {
   "cell_type": "code",
   "execution_count": 13,
   "id": "14e5bc9e",
   "metadata": {},
   "outputs": [],
   "source": [
    "tweets_copy['timestamp'] = pd.to_datetime(tweets_copy['timestamp'])"
   ]
  },
  {
   "cell_type": "markdown",
   "id": "e9aa105c",
   "metadata": {},
   "source": [
    "##### After cleaning the data"
   ]
  },
  {
   "cell_type": "code",
   "execution_count": 14,
   "id": "071feeb8",
   "metadata": {},
   "outputs": [
    {
     "name": "stdout",
     "output_type": "stream",
     "text": [
      "The data type of the timestamp column in this dataset is currently a 'datetime64[ns, UTC]' data type.\n",
      " Our conversion of the data type was successful!\n"
     ]
    }
   ],
   "source": [
    "print(f'The data type of the timestamp column in this dataset is currently a \\'{tweets_copy[\"timestamp\"].dtypes}\\' data type.\\n Our conversion of the data type was successful!')"
   ]
  },
  {
   "cell_type": "code",
   "execution_count": null,
   "id": "4e6ac29f",
   "metadata": {},
   "outputs": [],
   "source": []
  },
  {
   "cell_type": "markdown",
   "id": "06cd8e18",
   "metadata": {},
   "source": [
    "### Issue #2: Removing Url links, hashtags and IG tags from texts"
   ]
  },
  {
   "cell_type": "markdown",
   "id": "a07c075b",
   "metadata": {},
   "source": [
    "Define: Url links, hashtags and IG tags are present in the 'text' column in the twitter Archive dataset, while Url link also appear in a different individual column and would be an unnecessary repetition that adds no value to the dataset if not removed from the text column. Hashtags and IG tags from texts would have to be scraped out of the texts too, as they would hinder our progress when carrying out textual analysis."
   ]
  },
  {
   "cell_type": "markdown",
   "id": "c2c8f510",
   "metadata": {},
   "source": [
    "#### code:"
   ]
  },
  {
   "cell_type": "markdown",
   "id": "a36141ac",
   "metadata": {},
   "source": [
    "##### Before cleaning"
   ]
  },
  {
   "cell_type": "code",
   "execution_count": 15,
   "id": "30519655",
   "metadata": {},
   "outputs": [
    {
     "name": "stdout",
     "output_type": "stream",
     "text": [
      "Below are the first six texts from our dataset before cleaning and we can see that each of these text possesses at\n",
      "least one of the quality issues we addressed: \n",
      "\n",
      "1.  This is Phineas. He's a mystical boy. Only ever appears in the hole of a donut. 13/10 https://t.co/MgUWQ76dJU\n",
      "\n",
      "2.  This is Tilly. She's just checking pup on you. Hopes you're doing ok. If not, she's available for pats, snugs, boops, the whole bit. 13/10 https://t.co/0Xxu71qeIV\n",
      "\n",
      "3.  This is Archie. He is a rare Norwegian Pouncing Corgo. Lives in the tall grass. You never know when one may strike. 12/10 https://t.co/wUnZnhtVJB\n",
      "\n",
      "4.  This is Darla. She commenced a snooze mid meal. 13/10 happens to the best of us https://t.co/tD36da7qLQ\n",
      "\n",
      "5.  This is Franklin. He would like you to stop calling him \"cute.\" He is a very fierce shark and should be respected as such. 12/10 #BarkWeek https://t.co/AtUZn91f7f\n",
      "\n",
      "6.  Here we have a majestic great white breaching off South Africa's coast. Absolutely h*ckin breathtaking. 13/10 (IG: tucker_marlo) #BarkWeek https://t.co/kQ04fDDRmh\n",
      "\n"
     ]
    }
   ],
   "source": [
    "print('Below are the first six texts from our dataset before cleaning and we can see that each of these text possesses at\\nleast one of the quality issues we addressed: \\n')\n",
    "\n",
    "n = 1\n",
    "for text in tweets_copy['text'][:6]:\n",
    "    print(str(n)+ '.  ' + text + '\\n')\n",
    "    n = 1 + n"
   ]
  },
  {
   "cell_type": "code",
   "execution_count": 16,
   "id": "8cc86615",
   "metadata": {},
   "outputs": [],
   "source": [
    "#Removes the Url link\n",
    "tweets_copy['text'] = tweets_copy['text'].apply(lambda x: re.sub(r'https?:\\/\\/\\S+', '', x))\n",
    "\n",
    "#Removes the hashtag\n",
    "tweets_copy['text'] = tweets_copy['text'].apply(lambda x: re.sub(r'#[^\\s]+', '', x)  )\n",
    "\n",
    "#Removes the IG tags\n",
    "tweets_copy['text'] = tweets_copy['text'].apply(lambda x: re.sub(r'\\(IG[^/]+', '', x)  )\n"
   ]
  },
  {
   "cell_type": "markdown",
   "id": "5a0afd6d",
   "metadata": {},
   "source": [
    "###### After Cleaning"
   ]
  },
  {
   "cell_type": "code",
   "execution_count": 17,
   "id": "ba9bc21d",
   "metadata": {},
   "outputs": [
    {
     "name": "stdout",
     "output_type": "stream",
     "text": [
      "Below are the first six texts from our dataset after cleaning and we can see that non of these text possesses any\n",
      "of the quality issues we addressed: \n",
      "\n",
      "1.  This is Phineas. He's a mystical boy. Only ever appears in the hole of a donut. 13/10 \n",
      "\n",
      "2.  This is Tilly. She's just checking pup on you. Hopes you're doing ok. If not, she's available for pats, snugs, boops, the whole bit. 13/10 \n",
      "\n",
      "3.  This is Archie. He is a rare Norwegian Pouncing Corgo. Lives in the tall grass. You never know when one may strike. 12/10 \n",
      "\n",
      "4.  This is Darla. She commenced a snooze mid meal. 13/10 happens to the best of us \n",
      "\n",
      "5.  This is Franklin. He would like you to stop calling him \"cute.\" He is a very fierce shark and should be respected as such. 12/10  \n",
      "\n",
      "6.  Here we have a majestic great white breaching off South Africa's coast. Absolutely h*ckin breathtaking. 13/10 \n",
      "\n"
     ]
    }
   ],
   "source": [
    "print('Below are the first six texts from our dataset after cleaning and we can see that non of these text possesses any\\nof the quality issues we addressed: \\n')\n",
    "\n",
    "n = 1\n",
    "for text in tweets_copy['text'][:6]:\n",
    "    print(str(n)+ '.  ' + text + '\\n')\n",
    "    n = 1 + n"
   ]
  },
  {
   "cell_type": "code",
   "execution_count": null,
   "id": "e3c4887f",
   "metadata": {},
   "outputs": [],
   "source": []
  },
  {
   "cell_type": "markdown",
   "id": "f3a3c091",
   "metadata": {},
   "source": [
    "### Issue #3: Inaccurate rating numerators and denominators"
   ]
  },
  {
   "cell_type": "markdown",
   "id": "c3e7094a",
   "metadata": {},
   "source": [
    "Define: Aside the fact that the rating numerators are greater than the denominators in WeRateDogs. There are still some instances of in inaccurate rating numerators and denominators. This is an error that occured while extracting the rating from the texts. Below are 5 instances of such cases"
   ]
  },
  {
   "cell_type": "markdown",
   "id": "6e5fbbaa",
   "metadata": {},
   "source": [
    "#### code"
   ]
  },
  {
   "cell_type": "markdown",
   "id": "c75c7878",
   "metadata": {},
   "source": [
    "##### The texts of these data and their index"
   ]
  },
  {
   "cell_type": "code",
   "execution_count": 18,
   "id": "3de6a215",
   "metadata": {},
   "outputs": [
    {
     "name": "stdout",
     "output_type": "stream",
     "text": [
      "313: @jonnysun @Lin_Manuel ok jomny I know you're excited but 960/00 isn't a valid rating, 13/10 is tho\n",
      "\n",
      "1068 After so many requests, this is Bretagne. She was the last surviving 9/11 search dog, and our second ever 14/10. RIP \n",
      "\n",
      "1165 Happy 4/20 from the squad! 13/10 for all \n",
      "\n",
      "1202 This is Bluebert. He just saw that both  match ups are split 50/50. Amazed af. 11/10 \n",
      "\n",
      "2335: This is an Albanian 3 1/2 legged  Episcopalian. Loves well-polished hardwood flooring. Penis on the collar. 9/10 \n"
     ]
    }
   ],
   "source": [
    "print('313: ' + tweets[tweets_copy['rating_numerator'] == 960]['text'][313])\n",
    "print('\\n1068 ' + tweets_copy[tweets_copy['rating_denominator'] == 11]['text'][1068])\n",
    "print('\\n1165 ' + tweets_copy[tweets_copy['rating_denominator'] == 20]['text'][1165])\n",
    "print('\\n1202 ' + tweets_copy[tweets_copy['rating_denominator'] == 50]['text'][1202])\n",
    "print('\\n2335: ' + tweets_copy[tweets_copy['rating_numerator'] == 1]['text'][2335])"
   ]
  },
  {
   "cell_type": "markdown",
   "id": "fb10ad66",
   "metadata": {},
   "source": [
    "##### The rating_numerator\tand rating_denominator of the above texts data before cleaning"
   ]
  },
  {
   "cell_type": "code",
   "execution_count": 19,
   "id": "d25cc0cb",
   "metadata": {},
   "outputs": [
    {
     "data": {
      "text/html": [
       "<div>\n",
       "<style scoped>\n",
       "    .dataframe tbody tr th:only-of-type {\n",
       "        vertical-align: middle;\n",
       "    }\n",
       "\n",
       "    .dataframe tbody tr th {\n",
       "        vertical-align: top;\n",
       "    }\n",
       "\n",
       "    .dataframe thead th {\n",
       "        text-align: right;\n",
       "    }\n",
       "</style>\n",
       "<table border=\"1\" class=\"dataframe\">\n",
       "  <thead>\n",
       "    <tr style=\"text-align: right;\">\n",
       "      <th></th>\n",
       "      <th>rating_numerator</th>\n",
       "      <th>rating_denominator</th>\n",
       "    </tr>\n",
       "  </thead>\n",
       "  <tbody>\n",
       "    <tr>\n",
       "      <th>313</th>\n",
       "      <td>960</td>\n",
       "      <td>0</td>\n",
       "    </tr>\n",
       "    <tr>\n",
       "      <th>1068</th>\n",
       "      <td>9</td>\n",
       "      <td>11</td>\n",
       "    </tr>\n",
       "    <tr>\n",
       "      <th>1165</th>\n",
       "      <td>4</td>\n",
       "      <td>20</td>\n",
       "    </tr>\n",
       "    <tr>\n",
       "      <th>1202</th>\n",
       "      <td>50</td>\n",
       "      <td>50</td>\n",
       "    </tr>\n",
       "    <tr>\n",
       "      <th>2335</th>\n",
       "      <td>1</td>\n",
       "      <td>2</td>\n",
       "    </tr>\n",
       "  </tbody>\n",
       "</table>\n",
       "</div>"
      ],
      "text/plain": [
       "      rating_numerator  rating_denominator\n",
       "313                960                   0\n",
       "1068                 9                  11\n",
       "1165                 4                  20\n",
       "1202                50                  50\n",
       "2335                 1                   2"
      ]
     },
     "execution_count": 19,
     "metadata": {},
     "output_type": "execute_result"
    }
   ],
   "source": [
    "tweets_copy[(tweets.index == 313) | (tweets_copy.index == 1068) | (tweets_copy.index == 1165) |\n",
    "       (tweets_copy.index == 1202) | (tweets_copy.index == 2335)][['rating_numerator','rating_denominator']]"
   ]
  },
  {
   "cell_type": "markdown",
   "id": "df915410",
   "metadata": {},
   "source": [
    "From these scenarios we can see that in the process of extracting the exact ratings from the texts, numbers that were used as part of the texts to aid their narrartion and description were extracted in place of the actual ratings."
   ]
  },
  {
   "cell_type": "markdown",
   "id": "2d046836",
   "metadata": {},
   "source": [
    "#### Cleaning:"
   ]
  },
  {
   "cell_type": "code",
   "execution_count": 20,
   "id": "94209c5d",
   "metadata": {},
   "outputs": [
    {
     "name": "stderr",
     "output_type": "stream",
     "text": [
      "C:\\Users\\JohnInalegwu\\anaconda3\\lib\\site-packages\\pandas\\core\\indexing.py:1732: SettingWithCopyWarning: \n",
      "A value is trying to be set on a copy of a slice from a DataFrame\n",
      "\n",
      "See the caveats in the documentation: https://pandas.pydata.org/pandas-docs/stable/user_guide/indexing.html#returning-a-view-versus-a-copy\n",
      "  self._setitem_single_block(indexer, value, name)\n"
     ]
    }
   ],
   "source": [
    "tweets_copy['rating_denominator'].iloc[[313,1068,\n",
    "                    1165,1202,2335]] = tweets_copy['text'].iloc[[313,1068,\n",
    "                                    1165,1202,2335]].apply(lambda x: re.findall(r'\\d+', x)[-1])\n",
    "  \n",
    "tweets_copy['rating_numerator'].iloc[[313,1068,\n",
    "                    1165,1202,2335]] = tweets_copy['text'].iloc[[313,1068,\n",
    "                                    1165,1202,2335]].apply(lambda x: re.findall(r'\\d+', x)[-2])"
   ]
  },
  {
   "cell_type": "markdown",
   "id": "58ed4b98",
   "metadata": {},
   "source": [
    "#### Test: The rating_numerator and rating_denominator of the above texts data after cleaning"
   ]
  },
  {
   "cell_type": "code",
   "execution_count": 21,
   "id": "8dbed1ef",
   "metadata": {},
   "outputs": [
    {
     "data": {
      "text/html": [
       "<div>\n",
       "<style scoped>\n",
       "    .dataframe tbody tr th:only-of-type {\n",
       "        vertical-align: middle;\n",
       "    }\n",
       "\n",
       "    .dataframe tbody tr th {\n",
       "        vertical-align: top;\n",
       "    }\n",
       "\n",
       "    .dataframe thead th {\n",
       "        text-align: right;\n",
       "    }\n",
       "</style>\n",
       "<table border=\"1\" class=\"dataframe\">\n",
       "  <thead>\n",
       "    <tr style=\"text-align: right;\">\n",
       "      <th></th>\n",
       "      <th>rating_numerator</th>\n",
       "      <th>rating_denominator</th>\n",
       "    </tr>\n",
       "  </thead>\n",
       "  <tbody>\n",
       "    <tr>\n",
       "      <th>313</th>\n",
       "      <td>13</td>\n",
       "      <td>10</td>\n",
       "    </tr>\n",
       "    <tr>\n",
       "      <th>1068</th>\n",
       "      <td>14</td>\n",
       "      <td>10</td>\n",
       "    </tr>\n",
       "    <tr>\n",
       "      <th>1165</th>\n",
       "      <td>13</td>\n",
       "      <td>10</td>\n",
       "    </tr>\n",
       "    <tr>\n",
       "      <th>1202</th>\n",
       "      <td>11</td>\n",
       "      <td>10</td>\n",
       "    </tr>\n",
       "    <tr>\n",
       "      <th>2335</th>\n",
       "      <td>9</td>\n",
       "      <td>10</td>\n",
       "    </tr>\n",
       "  </tbody>\n",
       "</table>\n",
       "</div>"
      ],
      "text/plain": [
       "     rating_numerator rating_denominator\n",
       "313                13                 10\n",
       "1068               14                 10\n",
       "1165               13                 10\n",
       "1202               11                 10\n",
       "2335                9                 10"
      ]
     },
     "execution_count": 21,
     "metadata": {},
     "output_type": "execute_result"
    }
   ],
   "source": [
    "tweets_copy[(tweets.index == 313) | (tweets_copy.index == 1068) | (tweets_copy.index == 1165) |\n",
    "       (tweets_copy.index == 1202) | (tweets_copy.index == 2335)][['rating_numerator','rating_denominator']]"
   ]
  },
  {
   "cell_type": "markdown",
   "id": "fd99a891",
   "metadata": {},
   "source": [
    "We can see that we've been able to extract the original rating out from their texts, and these current ratings depicts the exact ratings from the original tweets."
   ]
  },
  {
   "cell_type": "code",
   "execution_count": null,
   "id": "752882ca",
   "metadata": {},
   "outputs": [],
   "source": []
  },
  {
   "cell_type": "markdown",
   "id": "67a79a2b",
   "metadata": {},
   "source": [
    "### Issue #4: Invalid names"
   ]
  },
  {
   "cell_type": "markdown",
   "id": "01bd90cb",
   "metadata": {},
   "source": [
    "Define: The 'name' column in the twitter Archive dataset has some invalid values like 'None', 'such', 'a', 'quite', 'not', 'one', 'incredibly', 'mad', 'an', 'very', 'just', 'my', 'his', 'actually', 'getting', 'this', 'unacceptable', 'all', 'old', 'infuriating', 'the', 'by', 'officially', 'life', 'light', 'space'. These set of values above are invalid. Such values needs to be assigned a NaN value to avoid skewing our analysis."
   ]
  },
  {
   "cell_type": "markdown",
   "id": "8cd23f90",
   "metadata": {},
   "source": [
    "#### code:"
   ]
  },
  {
   "cell_type": "markdown",
   "id": "ec036538",
   "metadata": {},
   "source": [
    "##### Before cleaning the name column"
   ]
  },
  {
   "cell_type": "code",
   "execution_count": 22,
   "id": "ee7253ce",
   "metadata": {},
   "outputs": [
    {
     "data": {
      "text/plain": [
       "None          745\n",
       "a              55\n",
       "Charlie        12\n",
       "Cooper         11\n",
       "Lucy           11\n",
       "             ... \n",
       "Dex             1\n",
       "Ace             1\n",
       "Tayzie          1\n",
       "Grizzie         1\n",
       "Christoper      1\n",
       "Name: name, Length: 957, dtype: int64"
      ]
     },
     "execution_count": 22,
     "metadata": {},
     "output_type": "execute_result"
    }
   ],
   "source": [
    "tweets_copy['name'].value_counts()"
   ]
  },
  {
   "cell_type": "markdown",
   "id": "361ed498",
   "metadata": {},
   "source": [
    "#####  Getting all invalid names, and this is done by geting all names in the column that starts with a lower case"
   ]
  },
  {
   "cell_type": "code",
   "execution_count": 23,
   "id": "2529f657",
   "metadata": {},
   "outputs": [],
   "source": [
    "not_names = tweets_copy[tweets_copy['name'].str.contains('^[a-z]+')]['name'].unique()"
   ]
  },
  {
   "cell_type": "markdown",
   "id": "5b019ce5",
   "metadata": {},
   "source": [
    "##### List of all invalid names in the dataset"
   ]
  },
  {
   "cell_type": "code",
   "execution_count": 24,
   "id": "dcf4350e",
   "metadata": {},
   "outputs": [
    {
     "data": {
      "text/plain": [
       "array(['such', 'a', 'quite', 'not', 'one', 'incredibly', 'mad', 'an',\n",
       "       'very', 'just', 'my', 'his', 'actually', 'getting', 'this',\n",
       "       'unacceptable', 'all', 'old', 'infuriating', 'the', 'by',\n",
       "       'officially', 'life', 'light', 'space'], dtype=object)"
      ]
     },
     "execution_count": 24,
     "metadata": {},
     "output_type": "execute_result"
    }
   ],
   "source": [
    "not_names"
   ]
  },
  {
   "cell_type": "markdown",
   "id": "0f8aabac",
   "metadata": {},
   "source": [
    "##### Cleaning up the invalid names"
   ]
  },
  {
   "cell_type": "code",
   "execution_count": 25,
   "id": "012540c8",
   "metadata": {},
   "outputs": [],
   "source": [
    "### replacing all invalid names in the 'not_names' list created above with a NaN in our dataset\n",
    "tweets_copy['name'] = tweets_copy['name'].replace(to_replace = not_names,\n",
    "                value = np.nan)\n",
    "\n",
    "### reolacing all 'None' names with a NaN in our dataset\n",
    "tweets_copy['name'] = tweets_copy['name'].replace(to_replace = 'None',\n",
    "                value = np.nan)"
   ]
  },
  {
   "cell_type": "markdown",
   "id": "c14af443",
   "metadata": {},
   "source": [
    "##### After cleaning up our name column"
   ]
  },
  {
   "cell_type": "code",
   "execution_count": 26,
   "id": "df60cee8",
   "metadata": {},
   "outputs": [
    {
     "data": {
      "text/plain": [
       "Charlie       12\n",
       "Lucy          11\n",
       "Cooper        11\n",
       "Oliver        11\n",
       "Lola          10\n",
       "              ..\n",
       "Devón          1\n",
       "Gert           1\n",
       "Dex            1\n",
       "Ace            1\n",
       "Christoper     1\n",
       "Name: name, Length: 931, dtype: int64"
      ]
     },
     "execution_count": 26,
     "metadata": {},
     "output_type": "execute_result"
    }
   ],
   "source": [
    "tweets_copy['name'].value_counts()"
   ]
  },
  {
   "cell_type": "code",
   "execution_count": null,
   "id": "c3bfbc62",
   "metadata": {},
   "outputs": [],
   "source": []
  },
  {
   "cell_type": "markdown",
   "id": "f8403b4a",
   "metadata": {},
   "source": [
    "## Issue #5: Removing ratings from text"
   ]
  },
  {
   "cell_type": "raw",
   "id": "1665e43f",
   "metadata": {},
   "source": [
    "Define: The 'text' column in the twitter Archive dataset, has certain features that are irrelevant to our analysis like the ratings. After the ratings from the texts has bbeen used to confirm the ratings on the dataset, the we must drop the existing ratings in the text column."
   ]
  },
  {
   "cell_type": "markdown",
   "id": "3400944d",
   "metadata": {},
   "source": [
    "#### code:"
   ]
  },
  {
   "cell_type": "code",
   "execution_count": 27,
   "id": "5b750845",
   "metadata": {},
   "outputs": [
    {
     "name": "stdout",
     "output_type": "stream",
     "text": [
      "This is Phineas. He's a mystical boy. Only ever appears in the hole of a donut. 13/10 \n",
      "\n",
      "This is Tilly. She's just checking pup on you. Hopes you're doing ok. If not, she's available for pats, snugs, boops, the whole bit. 13/10 \n",
      "\n"
     ]
    }
   ],
   "source": [
    "for text in tweets_copy['text'][:2]:\n",
    "    print(text + '\\n')"
   ]
  },
  {
   "cell_type": "markdown",
   "id": "42ce9791",
   "metadata": {},
   "source": [
    "##### To remove the rating"
   ]
  },
  {
   "cell_type": "code",
   "execution_count": 28,
   "id": "ba32c76a",
   "metadata": {},
   "outputs": [],
   "source": [
    "tweets_copy['text'] = tweets_copy['text'].apply(lambda x: re.sub(r'[0-9\\/]', '', x))"
   ]
  },
  {
   "cell_type": "markdown",
   "id": "996818a6",
   "metadata": {},
   "source": [
    "Test:"
   ]
  },
  {
   "cell_type": "code",
   "execution_count": 29,
   "id": "f22e6db8",
   "metadata": {},
   "outputs": [
    {
     "name": "stdout",
     "output_type": "stream",
     "text": [
      "This is Phineas. He's a mystical boy. Only ever appears in the hole of a donut.  \n",
      "\n",
      "This is Tilly. She's just checking pup on you. Hopes you're doing ok. If not, she's available for pats, snugs, boops, the whole bit.  \n",
      "\n"
     ]
    }
   ],
   "source": [
    "for text in tweets_copy['text'][:2]:\n",
    "    print(text + '\\n')"
   ]
  },
  {
   "cell_type": "code",
   "execution_count": null,
   "id": "a29a3a9a",
   "metadata": {},
   "outputs": [],
   "source": []
  },
  {
   "cell_type": "markdown",
   "id": "0547567f",
   "metadata": {},
   "source": [
    "## Issue #6: Retweet data are duplicates of original tweets"
   ]
  },
  {
   "cell_type": "markdown",
   "id": "7a223891",
   "metadata": {},
   "source": [
    "Define: \n",
    "Identify all retweets from our dataset using the contains() function\n",
    "\n",
    "Dropping all retweets from our dataset by simply using negation(~) with contains() function to get all data values that are NOT retweets"
   ]
  },
  {
   "cell_type": "markdown",
   "id": "232f6beb",
   "metadata": {},
   "source": [
    "code:"
   ]
  },
  {
   "cell_type": "code",
   "execution_count": 30,
   "id": "a7f9c8e9",
   "metadata": {},
   "outputs": [
    {
     "data": {
      "text/html": [
       "<div>\n",
       "<style scoped>\n",
       "    .dataframe tbody tr th:only-of-type {\n",
       "        vertical-align: middle;\n",
       "    }\n",
       "\n",
       "    .dataframe tbody tr th {\n",
       "        vertical-align: top;\n",
       "    }\n",
       "\n",
       "    .dataframe thead th {\n",
       "        text-align: right;\n",
       "    }\n",
       "</style>\n",
       "<table border=\"1\" class=\"dataframe\">\n",
       "  <thead>\n",
       "    <tr style=\"text-align: right;\">\n",
       "      <th></th>\n",
       "      <th>tweet_id</th>\n",
       "      <th>in_reply_to_status_id</th>\n",
       "      <th>in_reply_to_user_id</th>\n",
       "      <th>timestamp</th>\n",
       "      <th>source</th>\n",
       "      <th>text</th>\n",
       "      <th>retweeted_status_id</th>\n",
       "      <th>retweeted_status_user_id</th>\n",
       "      <th>retweeted_status_timestamp</th>\n",
       "      <th>expanded_urls</th>\n",
       "      <th>rating_numerator</th>\n",
       "      <th>rating_denominator</th>\n",
       "      <th>name</th>\n",
       "      <th>doggo</th>\n",
       "      <th>floofer</th>\n",
       "      <th>pupper</th>\n",
       "      <th>puppo</th>\n",
       "    </tr>\n",
       "  </thead>\n",
       "  <tbody>\n",
       "    <tr>\n",
       "      <th>19</th>\n",
       "      <td>888202515573088257</td>\n",
       "      <td>NaN</td>\n",
       "      <td>NaN</td>\n",
       "      <td>2017-07-21 01:02:36+00:00</td>\n",
       "      <td>&lt;a href=\"http://twitter.com/download/iphone\" r...</td>\n",
       "      <td>RT @dog_rates: This is Canela. She attempted s...</td>\n",
       "      <td>8.874740e+17</td>\n",
       "      <td>4.196984e+09</td>\n",
       "      <td>2017-07-19 00:47:34 +0000</td>\n",
       "      <td>https://twitter.com/dog_rates/status/887473957...</td>\n",
       "      <td>13</td>\n",
       "      <td>10</td>\n",
       "      <td>Canela</td>\n",
       "      <td>None</td>\n",
       "      <td>None</td>\n",
       "      <td>None</td>\n",
       "      <td>None</td>\n",
       "    </tr>\n",
       "    <tr>\n",
       "      <th>32</th>\n",
       "      <td>886054160059072513</td>\n",
       "      <td>NaN</td>\n",
       "      <td>NaN</td>\n",
       "      <td>2017-07-15 02:45:48+00:00</td>\n",
       "      <td>&lt;a href=\"http://twitter.com/download/iphone\" r...</td>\n",
       "      <td>RT @Athletics:</td>\n",
       "      <td>8.860537e+17</td>\n",
       "      <td>1.960740e+07</td>\n",
       "      <td>2017-07-15 02:44:07 +0000</td>\n",
       "      <td>https://twitter.com/dog_rates/status/886053434...</td>\n",
       "      <td>12</td>\n",
       "      <td>10</td>\n",
       "      <td>NaN</td>\n",
       "      <td>None</td>\n",
       "      <td>None</td>\n",
       "      <td>None</td>\n",
       "      <td>None</td>\n",
       "    </tr>\n",
       "    <tr>\n",
       "      <th>36</th>\n",
       "      <td>885311592912609280</td>\n",
       "      <td>NaN</td>\n",
       "      <td>NaN</td>\n",
       "      <td>2017-07-13 01:35:06+00:00</td>\n",
       "      <td>&lt;a href=\"http://twitter.com/download/iphone\" r...</td>\n",
       "      <td>RT @dog_rates: This is Lilly. She just paralle...</td>\n",
       "      <td>8.305833e+17</td>\n",
       "      <td>4.196984e+09</td>\n",
       "      <td>2017-02-12 01:04:29 +0000</td>\n",
       "      <td>https://twitter.com/dog_rates/status/830583320...</td>\n",
       "      <td>13</td>\n",
       "      <td>10</td>\n",
       "      <td>Lilly</td>\n",
       "      <td>None</td>\n",
       "      <td>None</td>\n",
       "      <td>None</td>\n",
       "      <td>None</td>\n",
       "    </tr>\n",
       "    <tr>\n",
       "      <th>68</th>\n",
       "      <td>879130579576475649</td>\n",
       "      <td>NaN</td>\n",
       "      <td>NaN</td>\n",
       "      <td>2017-06-26 00:13:58+00:00</td>\n",
       "      <td>&lt;a href=\"http://twitter.com/download/iphone\" r...</td>\n",
       "      <td>RT @dog_rates: This is Emmy. She was adopted t...</td>\n",
       "      <td>8.780576e+17</td>\n",
       "      <td>4.196984e+09</td>\n",
       "      <td>2017-06-23 01:10:23 +0000</td>\n",
       "      <td>https://twitter.com/dog_rates/status/878057613...</td>\n",
       "      <td>14</td>\n",
       "      <td>10</td>\n",
       "      <td>Emmy</td>\n",
       "      <td>None</td>\n",
       "      <td>None</td>\n",
       "      <td>None</td>\n",
       "      <td>None</td>\n",
       "    </tr>\n",
       "    <tr>\n",
       "      <th>73</th>\n",
       "      <td>878404777348136964</td>\n",
       "      <td>NaN</td>\n",
       "      <td>NaN</td>\n",
       "      <td>2017-06-24 00:09:53+00:00</td>\n",
       "      <td>&lt;a href=\"http://twitter.com/download/iphone\" r...</td>\n",
       "      <td>RT @dog_rates: Meet Shadow. In an attempt to r...</td>\n",
       "      <td>8.782815e+17</td>\n",
       "      <td>4.196984e+09</td>\n",
       "      <td>2017-06-23 16:00:04 +0000</td>\n",
       "      <td>https://www.gofundme.com/3yd6y1c,https://twitt...</td>\n",
       "      <td>13</td>\n",
       "      <td>10</td>\n",
       "      <td>Shadow</td>\n",
       "      <td>None</td>\n",
       "      <td>None</td>\n",
       "      <td>None</td>\n",
       "      <td>None</td>\n",
       "    </tr>\n",
       "    <tr>\n",
       "      <th>...</th>\n",
       "      <td>...</td>\n",
       "      <td>...</td>\n",
       "      <td>...</td>\n",
       "      <td>...</td>\n",
       "      <td>...</td>\n",
       "      <td>...</td>\n",
       "      <td>...</td>\n",
       "      <td>...</td>\n",
       "      <td>...</td>\n",
       "      <td>...</td>\n",
       "      <td>...</td>\n",
       "      <td>...</td>\n",
       "      <td>...</td>\n",
       "      <td>...</td>\n",
       "      <td>...</td>\n",
       "      <td>...</td>\n",
       "      <td>...</td>\n",
       "    </tr>\n",
       "    <tr>\n",
       "      <th>1023</th>\n",
       "      <td>746521445350707200</td>\n",
       "      <td>NaN</td>\n",
       "      <td>NaN</td>\n",
       "      <td>2016-06-25 01:52:36+00:00</td>\n",
       "      <td>&lt;a href=\"http://twitter.com/download/iphone\" r...</td>\n",
       "      <td>RT @dog_rates: This is Shaggy. He knows exactl...</td>\n",
       "      <td>6.678667e+17</td>\n",
       "      <td>4.196984e+09</td>\n",
       "      <td>2015-11-21 00:46:50 +0000</td>\n",
       "      <td>https://twitter.com/dog_rates/status/667866724...</td>\n",
       "      <td>10</td>\n",
       "      <td>10</td>\n",
       "      <td>Shaggy</td>\n",
       "      <td>None</td>\n",
       "      <td>None</td>\n",
       "      <td>None</td>\n",
       "      <td>None</td>\n",
       "    </tr>\n",
       "    <tr>\n",
       "      <th>1043</th>\n",
       "      <td>743835915802583040</td>\n",
       "      <td>NaN</td>\n",
       "      <td>NaN</td>\n",
       "      <td>2016-06-17 16:01:16+00:00</td>\n",
       "      <td>&lt;a href=\"http://twitter.com/download/iphone\" r...</td>\n",
       "      <td>RT @dog_rates: Extremely intelligent dog here....</td>\n",
       "      <td>6.671383e+17</td>\n",
       "      <td>4.196984e+09</td>\n",
       "      <td>2015-11-19 00:32:12 +0000</td>\n",
       "      <td>https://twitter.com/dog_rates/status/667138269...</td>\n",
       "      <td>10</td>\n",
       "      <td>10</td>\n",
       "      <td>NaN</td>\n",
       "      <td>None</td>\n",
       "      <td>None</td>\n",
       "      <td>None</td>\n",
       "      <td>None</td>\n",
       "    </tr>\n",
       "    <tr>\n",
       "      <th>1242</th>\n",
       "      <td>711998809858043904</td>\n",
       "      <td>NaN</td>\n",
       "      <td>NaN</td>\n",
       "      <td>2016-03-21 19:31:59+00:00</td>\n",
       "      <td>&lt;a href=\"http://twitter.com/download/iphone\" r...</td>\n",
       "      <td>RT @twitter: @dog_rates Awesome Tweet! . Would...</td>\n",
       "      <td>7.119983e+17</td>\n",
       "      <td>7.832140e+05</td>\n",
       "      <td>2016-03-21 19:29:52 +0000</td>\n",
       "      <td>https://twitter.com/twitter/status/71199827977...</td>\n",
       "      <td>12</td>\n",
       "      <td>10</td>\n",
       "      <td>NaN</td>\n",
       "      <td>None</td>\n",
       "      <td>None</td>\n",
       "      <td>None</td>\n",
       "      <td>None</td>\n",
       "    </tr>\n",
       "    <tr>\n",
       "      <th>2259</th>\n",
       "      <td>667550904950915073</td>\n",
       "      <td>NaN</td>\n",
       "      <td>NaN</td>\n",
       "      <td>2015-11-20 03:51:52+00:00</td>\n",
       "      <td>&lt;a href=\"http://twitter.com\" rel=\"nofollow\"&gt;Tw...</td>\n",
       "      <td>RT @dogratingrating: Exceptional talent. Origi...</td>\n",
       "      <td>6.675487e+17</td>\n",
       "      <td>4.296832e+09</td>\n",
       "      <td>2015-11-20 03:43:06 +0000</td>\n",
       "      <td>https://twitter.com/dogratingrating/status/667...</td>\n",
       "      <td>12</td>\n",
       "      <td>10</td>\n",
       "      <td>NaN</td>\n",
       "      <td>None</td>\n",
       "      <td>None</td>\n",
       "      <td>None</td>\n",
       "      <td>None</td>\n",
       "    </tr>\n",
       "    <tr>\n",
       "      <th>2260</th>\n",
       "      <td>667550882905632768</td>\n",
       "      <td>NaN</td>\n",
       "      <td>NaN</td>\n",
       "      <td>2015-11-20 03:51:47+00:00</td>\n",
       "      <td>&lt;a href=\"http://twitter.com\" rel=\"nofollow\"&gt;Tw...</td>\n",
       "      <td>RT @dogratingrating: Unoriginal idea. Blatant ...</td>\n",
       "      <td>6.675484e+17</td>\n",
       "      <td>4.296832e+09</td>\n",
       "      <td>2015-11-20 03:41:59 +0000</td>\n",
       "      <td>https://twitter.com/dogratingrating/status/667...</td>\n",
       "      <td>5</td>\n",
       "      <td>10</td>\n",
       "      <td>NaN</td>\n",
       "      <td>None</td>\n",
       "      <td>None</td>\n",
       "      <td>None</td>\n",
       "      <td>None</td>\n",
       "    </tr>\n",
       "  </tbody>\n",
       "</table>\n",
       "<p>181 rows × 17 columns</p>\n",
       "</div>"
      ],
      "text/plain": [
       "                tweet_id  in_reply_to_status_id  in_reply_to_user_id  \\\n",
       "19    888202515573088257                    NaN                  NaN   \n",
       "32    886054160059072513                    NaN                  NaN   \n",
       "36    885311592912609280                    NaN                  NaN   \n",
       "68    879130579576475649                    NaN                  NaN   \n",
       "73    878404777348136964                    NaN                  NaN   \n",
       "...                  ...                    ...                  ...   \n",
       "1023  746521445350707200                    NaN                  NaN   \n",
       "1043  743835915802583040                    NaN                  NaN   \n",
       "1242  711998809858043904                    NaN                  NaN   \n",
       "2259  667550904950915073                    NaN                  NaN   \n",
       "2260  667550882905632768                    NaN                  NaN   \n",
       "\n",
       "                     timestamp  \\\n",
       "19   2017-07-21 01:02:36+00:00   \n",
       "32   2017-07-15 02:45:48+00:00   \n",
       "36   2017-07-13 01:35:06+00:00   \n",
       "68   2017-06-26 00:13:58+00:00   \n",
       "73   2017-06-24 00:09:53+00:00   \n",
       "...                        ...   \n",
       "1023 2016-06-25 01:52:36+00:00   \n",
       "1043 2016-06-17 16:01:16+00:00   \n",
       "1242 2016-03-21 19:31:59+00:00   \n",
       "2259 2015-11-20 03:51:52+00:00   \n",
       "2260 2015-11-20 03:51:47+00:00   \n",
       "\n",
       "                                                 source  \\\n",
       "19    <a href=\"http://twitter.com/download/iphone\" r...   \n",
       "32    <a href=\"http://twitter.com/download/iphone\" r...   \n",
       "36    <a href=\"http://twitter.com/download/iphone\" r...   \n",
       "68    <a href=\"http://twitter.com/download/iphone\" r...   \n",
       "73    <a href=\"http://twitter.com/download/iphone\" r...   \n",
       "...                                                 ...   \n",
       "1023  <a href=\"http://twitter.com/download/iphone\" r...   \n",
       "1043  <a href=\"http://twitter.com/download/iphone\" r...   \n",
       "1242  <a href=\"http://twitter.com/download/iphone\" r...   \n",
       "2259  <a href=\"http://twitter.com\" rel=\"nofollow\">Tw...   \n",
       "2260  <a href=\"http://twitter.com\" rel=\"nofollow\">Tw...   \n",
       "\n",
       "                                                   text  retweeted_status_id  \\\n",
       "19    RT @dog_rates: This is Canela. She attempted s...         8.874740e+17   \n",
       "32                                    RT @Athletics:            8.860537e+17   \n",
       "36    RT @dog_rates: This is Lilly. She just paralle...         8.305833e+17   \n",
       "68    RT @dog_rates: This is Emmy. She was adopted t...         8.780576e+17   \n",
       "73    RT @dog_rates: Meet Shadow. In an attempt to r...         8.782815e+17   \n",
       "...                                                 ...                  ...   \n",
       "1023  RT @dog_rates: This is Shaggy. He knows exactl...         6.678667e+17   \n",
       "1043  RT @dog_rates: Extremely intelligent dog here....         6.671383e+17   \n",
       "1242  RT @twitter: @dog_rates Awesome Tweet! . Would...         7.119983e+17   \n",
       "2259  RT @dogratingrating: Exceptional talent. Origi...         6.675487e+17   \n",
       "2260  RT @dogratingrating: Unoriginal idea. Blatant ...         6.675484e+17   \n",
       "\n",
       "      retweeted_status_user_id retweeted_status_timestamp  \\\n",
       "19                4.196984e+09  2017-07-19 00:47:34 +0000   \n",
       "32                1.960740e+07  2017-07-15 02:44:07 +0000   \n",
       "36                4.196984e+09  2017-02-12 01:04:29 +0000   \n",
       "68                4.196984e+09  2017-06-23 01:10:23 +0000   \n",
       "73                4.196984e+09  2017-06-23 16:00:04 +0000   \n",
       "...                        ...                        ...   \n",
       "1023              4.196984e+09  2015-11-21 00:46:50 +0000   \n",
       "1043              4.196984e+09  2015-11-19 00:32:12 +0000   \n",
       "1242              7.832140e+05  2016-03-21 19:29:52 +0000   \n",
       "2259              4.296832e+09  2015-11-20 03:43:06 +0000   \n",
       "2260              4.296832e+09  2015-11-20 03:41:59 +0000   \n",
       "\n",
       "                                          expanded_urls rating_numerator  \\\n",
       "19    https://twitter.com/dog_rates/status/887473957...               13   \n",
       "32    https://twitter.com/dog_rates/status/886053434...               12   \n",
       "36    https://twitter.com/dog_rates/status/830583320...               13   \n",
       "68    https://twitter.com/dog_rates/status/878057613...               14   \n",
       "73    https://www.gofundme.com/3yd6y1c,https://twitt...               13   \n",
       "...                                                 ...              ...   \n",
       "1023  https://twitter.com/dog_rates/status/667866724...               10   \n",
       "1043  https://twitter.com/dog_rates/status/667138269...               10   \n",
       "1242  https://twitter.com/twitter/status/71199827977...               12   \n",
       "2259  https://twitter.com/dogratingrating/status/667...               12   \n",
       "2260  https://twitter.com/dogratingrating/status/667...                5   \n",
       "\n",
       "     rating_denominator    name doggo floofer pupper puppo  \n",
       "19                   10  Canela  None    None   None  None  \n",
       "32                   10     NaN  None    None   None  None  \n",
       "36                   10   Lilly  None    None   None  None  \n",
       "68                   10    Emmy  None    None   None  None  \n",
       "73                   10  Shadow  None    None   None  None  \n",
       "...                 ...     ...   ...     ...    ...   ...  \n",
       "1023                 10  Shaggy  None    None   None  None  \n",
       "1043                 10     NaN  None    None   None  None  \n",
       "1242                 10     NaN  None    None   None  None  \n",
       "2259                 10     NaN  None    None   None  None  \n",
       "2260                 10     NaN  None    None   None  None  \n",
       "\n",
       "[181 rows x 17 columns]"
      ]
     },
     "execution_count": 30,
     "metadata": {},
     "output_type": "execute_result"
    }
   ],
   "source": [
    "tweets_copy[tweets_copy['text'].str.contains('RT @')]"
   ]
  },
  {
   "cell_type": "markdown",
   "id": "0cfff645",
   "metadata": {},
   "source": [
    "From the above we can see that about 181 data records provided are retweets. So, the next step we would be taking is to drop all retweet values."
   ]
  },
  {
   "cell_type": "code",
   "execution_count": 31,
   "id": "58cd7e7b",
   "metadata": {},
   "outputs": [],
   "source": [
    " tweets_copy = tweets_copy[~tweets_copy['text'].str.contains('RT @')]"
   ]
  },
  {
   "cell_type": "markdown",
   "id": "c9a0304a",
   "metadata": {},
   "source": [
    "Test: Below we would be running the same code again to filter all retweet data from our dataset, to ascertain that all retweets have been dropped from our dataset."
   ]
  },
  {
   "cell_type": "code",
   "execution_count": 32,
   "id": "ff003a31",
   "metadata": {},
   "outputs": [
    {
     "data": {
      "text/html": [
       "<div>\n",
       "<style scoped>\n",
       "    .dataframe tbody tr th:only-of-type {\n",
       "        vertical-align: middle;\n",
       "    }\n",
       "\n",
       "    .dataframe tbody tr th {\n",
       "        vertical-align: top;\n",
       "    }\n",
       "\n",
       "    .dataframe thead th {\n",
       "        text-align: right;\n",
       "    }\n",
       "</style>\n",
       "<table border=\"1\" class=\"dataframe\">\n",
       "  <thead>\n",
       "    <tr style=\"text-align: right;\">\n",
       "      <th></th>\n",
       "      <th>tweet_id</th>\n",
       "      <th>in_reply_to_status_id</th>\n",
       "      <th>in_reply_to_user_id</th>\n",
       "      <th>timestamp</th>\n",
       "      <th>source</th>\n",
       "      <th>text</th>\n",
       "      <th>retweeted_status_id</th>\n",
       "      <th>retweeted_status_user_id</th>\n",
       "      <th>retweeted_status_timestamp</th>\n",
       "      <th>expanded_urls</th>\n",
       "      <th>rating_numerator</th>\n",
       "      <th>rating_denominator</th>\n",
       "      <th>name</th>\n",
       "      <th>doggo</th>\n",
       "      <th>floofer</th>\n",
       "      <th>pupper</th>\n",
       "      <th>puppo</th>\n",
       "    </tr>\n",
       "  </thead>\n",
       "  <tbody>\n",
       "  </tbody>\n",
       "</table>\n",
       "</div>"
      ],
      "text/plain": [
       "Empty DataFrame\n",
       "Columns: [tweet_id, in_reply_to_status_id, in_reply_to_user_id, timestamp, source, text, retweeted_status_id, retweeted_status_user_id, retweeted_status_timestamp, expanded_urls, rating_numerator, rating_denominator, name, doggo, floofer, pupper, puppo]\n",
       "Index: []"
      ]
     },
     "execution_count": 32,
     "metadata": {},
     "output_type": "execute_result"
    }
   ],
   "source": [
    "tweets_copy[tweets_copy['text'].str.contains('RT @')]"
   ]
  },
  {
   "cell_type": "code",
   "execution_count": null,
   "id": "af21fa9b",
   "metadata": {},
   "outputs": [],
   "source": []
  },
  {
   "cell_type": "markdown",
   "id": "26c5d9c7",
   "metadata": {},
   "source": [
    "## Issue #7: Non Dog ratings"
   ]
  },
  {
   "cell_type": "markdown",
   "id": "99c65b22",
   "metadata": {},
   "source": [
    "With the help of the image prediction dataset, we could discover that some ratings in our twitter archieve dataset are not Dog ratings. Actually **OVER** 324 entries in the image_predictions dataset are not dog ratings, therefore, are invalid in our dataset and should be dropped."
   ]
  },
  {
   "cell_type": "markdown",
   "id": "7edcadc3",
   "metadata": {},
   "source": [
    "Define: First, we filter out all data where all top three predictions turned out to be False for being a Dog prediction.\n",
    "\n",
    "Then we proceed towards dropping all False predictions from our dataset. We do this by negating the conditional statement passed earlier on for getting all Non Dog predictions"
   ]
  },
  {
   "cell_type": "markdown",
   "id": "02ec0dab",
   "metadata": {},
   "source": [
    "Code:"
   ]
  },
  {
   "cell_type": "code",
   "execution_count": 33,
   "id": "be9e7d26",
   "metadata": {},
   "outputs": [
    {
     "data": {
      "text/html": [
       "<div>\n",
       "<style scoped>\n",
       "    .dataframe tbody tr th:only-of-type {\n",
       "        vertical-align: middle;\n",
       "    }\n",
       "\n",
       "    .dataframe tbody tr th {\n",
       "        vertical-align: top;\n",
       "    }\n",
       "\n",
       "    .dataframe thead th {\n",
       "        text-align: right;\n",
       "    }\n",
       "</style>\n",
       "<table border=\"1\" class=\"dataframe\">\n",
       "  <thead>\n",
       "    <tr style=\"text-align: right;\">\n",
       "      <th></th>\n",
       "      <th>tweet_id</th>\n",
       "      <th>jpg_url</th>\n",
       "      <th>img_num</th>\n",
       "      <th>p1</th>\n",
       "      <th>p1_conf</th>\n",
       "      <th>p1_dog</th>\n",
       "      <th>p2</th>\n",
       "      <th>p2_conf</th>\n",
       "      <th>p2_dog</th>\n",
       "      <th>p3</th>\n",
       "      <th>p3_conf</th>\n",
       "      <th>p3_dog</th>\n",
       "    </tr>\n",
       "  </thead>\n",
       "  <tbody>\n",
       "    <tr>\n",
       "      <th>6</th>\n",
       "      <td>666051853826850816</td>\n",
       "      <td>https://pbs.twimg.com/media/CT5KoJ1WoAAJash.jpg</td>\n",
       "      <td>1</td>\n",
       "      <td>box_turtle</td>\n",
       "      <td>0.933012</td>\n",
       "      <td>False</td>\n",
       "      <td>mud_turtle</td>\n",
       "      <td>0.045885</td>\n",
       "      <td>False</td>\n",
       "      <td>terrapin</td>\n",
       "      <td>0.017885</td>\n",
       "      <td>False</td>\n",
       "    </tr>\n",
       "    <tr>\n",
       "      <th>17</th>\n",
       "      <td>666104133288665088</td>\n",
       "      <td>https://pbs.twimg.com/media/CT56LSZWoAAlJj2.jpg</td>\n",
       "      <td>1</td>\n",
       "      <td>hen</td>\n",
       "      <td>0.965932</td>\n",
       "      <td>False</td>\n",
       "      <td>cock</td>\n",
       "      <td>0.033919</td>\n",
       "      <td>False</td>\n",
       "      <td>partridge</td>\n",
       "      <td>0.000052</td>\n",
       "      <td>False</td>\n",
       "    </tr>\n",
       "    <tr>\n",
       "      <th>18</th>\n",
       "      <td>666268910803644416</td>\n",
       "      <td>https://pbs.twimg.com/media/CT8QCd1WEAADXws.jpg</td>\n",
       "      <td>1</td>\n",
       "      <td>desktop_computer</td>\n",
       "      <td>0.086502</td>\n",
       "      <td>False</td>\n",
       "      <td>desk</td>\n",
       "      <td>0.085547</td>\n",
       "      <td>False</td>\n",
       "      <td>bookcase</td>\n",
       "      <td>0.079480</td>\n",
       "      <td>False</td>\n",
       "    </tr>\n",
       "    <tr>\n",
       "      <th>21</th>\n",
       "      <td>666293911632134144</td>\n",
       "      <td>https://pbs.twimg.com/media/CT8mx7KW4AEQu8N.jpg</td>\n",
       "      <td>1</td>\n",
       "      <td>three-toed_sloth</td>\n",
       "      <td>0.914671</td>\n",
       "      <td>False</td>\n",
       "      <td>otter</td>\n",
       "      <td>0.015250</td>\n",
       "      <td>False</td>\n",
       "      <td>great_grey_owl</td>\n",
       "      <td>0.013207</td>\n",
       "      <td>False</td>\n",
       "    </tr>\n",
       "    <tr>\n",
       "      <th>25</th>\n",
       "      <td>666362758909284353</td>\n",
       "      <td>https://pbs.twimg.com/media/CT9lXGsUcAAyUFt.jpg</td>\n",
       "      <td>1</td>\n",
       "      <td>guinea_pig</td>\n",
       "      <td>0.996496</td>\n",
       "      <td>False</td>\n",
       "      <td>skunk</td>\n",
       "      <td>0.002402</td>\n",
       "      <td>False</td>\n",
       "      <td>hamster</td>\n",
       "      <td>0.000461</td>\n",
       "      <td>False</td>\n",
       "    </tr>\n",
       "    <tr>\n",
       "      <th>...</th>\n",
       "      <td>...</td>\n",
       "      <td>...</td>\n",
       "      <td>...</td>\n",
       "      <td>...</td>\n",
       "      <td>...</td>\n",
       "      <td>...</td>\n",
       "      <td>...</td>\n",
       "      <td>...</td>\n",
       "      <td>...</td>\n",
       "      <td>...</td>\n",
       "      <td>...</td>\n",
       "      <td>...</td>\n",
       "    </tr>\n",
       "    <tr>\n",
       "      <th>2021</th>\n",
       "      <td>880935762899988482</td>\n",
       "      <td>https://pbs.twimg.com/media/DDm2Z5aXUAEDS2u.jpg</td>\n",
       "      <td>1</td>\n",
       "      <td>street_sign</td>\n",
       "      <td>0.251801</td>\n",
       "      <td>False</td>\n",
       "      <td>umbrella</td>\n",
       "      <td>0.115123</td>\n",
       "      <td>False</td>\n",
       "      <td>traffic_light</td>\n",
       "      <td>0.069534</td>\n",
       "      <td>False</td>\n",
       "    </tr>\n",
       "    <tr>\n",
       "      <th>2022</th>\n",
       "      <td>881268444196462592</td>\n",
       "      <td>https://pbs.twimg.com/media/DDrk-f9WAAI-WQv.jpg</td>\n",
       "      <td>1</td>\n",
       "      <td>tusker</td>\n",
       "      <td>0.473303</td>\n",
       "      <td>False</td>\n",
       "      <td>Indian_elephant</td>\n",
       "      <td>0.245646</td>\n",
       "      <td>False</td>\n",
       "      <td>ibex</td>\n",
       "      <td>0.055661</td>\n",
       "      <td>False</td>\n",
       "    </tr>\n",
       "    <tr>\n",
       "      <th>2046</th>\n",
       "      <td>886680336477933568</td>\n",
       "      <td>https://pbs.twimg.com/media/DE4fEDzWAAAyHMM.jpg</td>\n",
       "      <td>1</td>\n",
       "      <td>convertible</td>\n",
       "      <td>0.738995</td>\n",
       "      <td>False</td>\n",
       "      <td>sports_car</td>\n",
       "      <td>0.139952</td>\n",
       "      <td>False</td>\n",
       "      <td>car_wheel</td>\n",
       "      <td>0.044173</td>\n",
       "      <td>False</td>\n",
       "    </tr>\n",
       "    <tr>\n",
       "      <th>2052</th>\n",
       "      <td>887517139158093824</td>\n",
       "      <td>https://pbs.twimg.com/ext_tw_video_thumb/88751...</td>\n",
       "      <td>1</td>\n",
       "      <td>limousine</td>\n",
       "      <td>0.130432</td>\n",
       "      <td>False</td>\n",
       "      <td>tow_truck</td>\n",
       "      <td>0.029175</td>\n",
       "      <td>False</td>\n",
       "      <td>shopping_cart</td>\n",
       "      <td>0.026321</td>\n",
       "      <td>False</td>\n",
       "    </tr>\n",
       "    <tr>\n",
       "      <th>2074</th>\n",
       "      <td>892420643555336193</td>\n",
       "      <td>https://pbs.twimg.com/media/DGKD1-bXoAAIAUK.jpg</td>\n",
       "      <td>1</td>\n",
       "      <td>orange</td>\n",
       "      <td>0.097049</td>\n",
       "      <td>False</td>\n",
       "      <td>bagel</td>\n",
       "      <td>0.085851</td>\n",
       "      <td>False</td>\n",
       "      <td>banana</td>\n",
       "      <td>0.076110</td>\n",
       "      <td>False</td>\n",
       "    </tr>\n",
       "  </tbody>\n",
       "</table>\n",
       "<p>324 rows × 12 columns</p>\n",
       "</div>"
      ],
      "text/plain": [
       "                tweet_id                                            jpg_url  \\\n",
       "6     666051853826850816    https://pbs.twimg.com/media/CT5KoJ1WoAAJash.jpg   \n",
       "17    666104133288665088    https://pbs.twimg.com/media/CT56LSZWoAAlJj2.jpg   \n",
       "18    666268910803644416    https://pbs.twimg.com/media/CT8QCd1WEAADXws.jpg   \n",
       "21    666293911632134144    https://pbs.twimg.com/media/CT8mx7KW4AEQu8N.jpg   \n",
       "25    666362758909284353    https://pbs.twimg.com/media/CT9lXGsUcAAyUFt.jpg   \n",
       "...                  ...                                                ...   \n",
       "2021  880935762899988482    https://pbs.twimg.com/media/DDm2Z5aXUAEDS2u.jpg   \n",
       "2022  881268444196462592    https://pbs.twimg.com/media/DDrk-f9WAAI-WQv.jpg   \n",
       "2046  886680336477933568    https://pbs.twimg.com/media/DE4fEDzWAAAyHMM.jpg   \n",
       "2052  887517139158093824  https://pbs.twimg.com/ext_tw_video_thumb/88751...   \n",
       "2074  892420643555336193    https://pbs.twimg.com/media/DGKD1-bXoAAIAUK.jpg   \n",
       "\n",
       "      img_num                p1   p1_conf  p1_dog               p2   p2_conf  \\\n",
       "6           1        box_turtle  0.933012   False       mud_turtle  0.045885   \n",
       "17          1               hen  0.965932   False             cock  0.033919   \n",
       "18          1  desktop_computer  0.086502   False             desk  0.085547   \n",
       "21          1  three-toed_sloth  0.914671   False            otter  0.015250   \n",
       "25          1        guinea_pig  0.996496   False            skunk  0.002402   \n",
       "...       ...               ...       ...     ...              ...       ...   \n",
       "2021        1       street_sign  0.251801   False         umbrella  0.115123   \n",
       "2022        1            tusker  0.473303   False  Indian_elephant  0.245646   \n",
       "2046        1       convertible  0.738995   False       sports_car  0.139952   \n",
       "2052        1         limousine  0.130432   False        tow_truck  0.029175   \n",
       "2074        1            orange  0.097049   False            bagel  0.085851   \n",
       "\n",
       "      p2_dog              p3   p3_conf  p3_dog  \n",
       "6      False        terrapin  0.017885   False  \n",
       "17     False       partridge  0.000052   False  \n",
       "18     False        bookcase  0.079480   False  \n",
       "21     False  great_grey_owl  0.013207   False  \n",
       "25     False         hamster  0.000461   False  \n",
       "...      ...             ...       ...     ...  \n",
       "2021   False   traffic_light  0.069534   False  \n",
       "2022   False            ibex  0.055661   False  \n",
       "2046   False       car_wheel  0.044173   False  \n",
       "2052   False   shopping_cart  0.026321   False  \n",
       "2074   False          banana  0.076110   False  \n",
       "\n",
       "[324 rows x 12 columns]"
      ]
     },
     "execution_count": 33,
     "metadata": {},
     "output_type": "execute_result"
    }
   ],
   "source": [
    "pics_copy[(pics_copy['p1_dog'] == False) & (pics_copy['p2_dog'] == False) & (pics_copy['p3_dog'] == False)]"
   ]
  },
  {
   "cell_type": "markdown",
   "id": "656e51dd",
   "metadata": {},
   "source": [
    "#####  Dropping all Non Dogs data"
   ]
  },
  {
   "cell_type": "code",
   "execution_count": 34,
   "id": "22688dae",
   "metadata": {},
   "outputs": [],
   "source": [
    "pics_copy = pics_copy[~((pics_copy['p1_dog'] == False) & (pics_copy['p2_dog'] == False) & (pics_copy['p3_dog'] == False))]"
   ]
  },
  {
   "cell_type": "markdown",
   "id": "9fdc7e14",
   "metadata": {},
   "source": [
    "Test: Below we would be running the same code again to filter all Non Dog data from our dataset, to ascertain that all Non Dog data have been dropped from our dataset."
   ]
  },
  {
   "cell_type": "code",
   "execution_count": 35,
   "id": "ccf3e3b0",
   "metadata": {},
   "outputs": [
    {
     "data": {
      "text/html": [
       "<div>\n",
       "<style scoped>\n",
       "    .dataframe tbody tr th:only-of-type {\n",
       "        vertical-align: middle;\n",
       "    }\n",
       "\n",
       "    .dataframe tbody tr th {\n",
       "        vertical-align: top;\n",
       "    }\n",
       "\n",
       "    .dataframe thead th {\n",
       "        text-align: right;\n",
       "    }\n",
       "</style>\n",
       "<table border=\"1\" class=\"dataframe\">\n",
       "  <thead>\n",
       "    <tr style=\"text-align: right;\">\n",
       "      <th></th>\n",
       "      <th>tweet_id</th>\n",
       "      <th>jpg_url</th>\n",
       "      <th>img_num</th>\n",
       "      <th>p1</th>\n",
       "      <th>p1_conf</th>\n",
       "      <th>p1_dog</th>\n",
       "      <th>p2</th>\n",
       "      <th>p2_conf</th>\n",
       "      <th>p2_dog</th>\n",
       "      <th>p3</th>\n",
       "      <th>p3_conf</th>\n",
       "      <th>p3_dog</th>\n",
       "    </tr>\n",
       "  </thead>\n",
       "  <tbody>\n",
       "  </tbody>\n",
       "</table>\n",
       "</div>"
      ],
      "text/plain": [
       "Empty DataFrame\n",
       "Columns: [tweet_id, jpg_url, img_num, p1, p1_conf, p1_dog, p2, p2_conf, p2_dog, p3, p3_conf, p3_dog]\n",
       "Index: []"
      ]
     },
     "execution_count": 35,
     "metadata": {},
     "output_type": "execute_result"
    }
   ],
   "source": [
    "pics_copy[(pics_copy['p1_dog'] == False) & (pics_copy['p2_dog'] == False) & (pics_copy['p3_dog'] == False)]"
   ]
  },
  {
   "cell_type": "code",
   "execution_count": null,
   "id": "b4f63585",
   "metadata": {},
   "outputs": [],
   "source": []
  },
  {
   "cell_type": "markdown",
   "id": "5f6a67cc",
   "metadata": {},
   "source": [
    "## Issue #8: Renaming Column"
   ]
  },
  {
   "cell_type": "markdown",
   "id": "39beb3f9",
   "metadata": {},
   "source": [
    "Define: we apply the rename function to our dataset and pass the column name that needs to be changed and the name it should be changed to."
   ]
  },
  {
   "cell_type": "markdown",
   "id": "4b806edd",
   "metadata": {},
   "source": [
    "Code:"
   ]
  },
  {
   "cell_type": "code",
   "execution_count": 36,
   "id": "f7155fb9",
   "metadata": {},
   "outputs": [],
   "source": [
    "rt_likes_copy.rename(columns={'id': 'tweet_id'}, inplace = True)"
   ]
  },
  {
   "cell_type": "markdown",
   "id": "f4a5f336",
   "metadata": {},
   "source": [
    "Test:"
   ]
  },
  {
   "cell_type": "code",
   "execution_count": 37,
   "id": "c1abe917",
   "metadata": {},
   "outputs": [
    {
     "data": {
      "text/html": [
       "<div>\n",
       "<style scoped>\n",
       "    .dataframe tbody tr th:only-of-type {\n",
       "        vertical-align: middle;\n",
       "    }\n",
       "\n",
       "    .dataframe tbody tr th {\n",
       "        vertical-align: top;\n",
       "    }\n",
       "\n",
       "    .dataframe thead th {\n",
       "        text-align: right;\n",
       "    }\n",
       "</style>\n",
       "<table border=\"1\" class=\"dataframe\">\n",
       "  <thead>\n",
       "    <tr style=\"text-align: right;\">\n",
       "      <th></th>\n",
       "      <th>tweet_id</th>\n",
       "      <th>favorite_count</th>\n",
       "      <th>retweet_count</th>\n",
       "    </tr>\n",
       "  </thead>\n",
       "  <tbody>\n",
       "    <tr>\n",
       "      <th>0</th>\n",
       "      <td>892420643555336193</td>\n",
       "      <td>33823</td>\n",
       "      <td>7010</td>\n",
       "    </tr>\n",
       "    <tr>\n",
       "      <th>1</th>\n",
       "      <td>892177421306343426</td>\n",
       "      <td>29337</td>\n",
       "      <td>5302</td>\n",
       "    </tr>\n",
       "    <tr>\n",
       "      <th>2</th>\n",
       "      <td>891815181378084864</td>\n",
       "      <td>22069</td>\n",
       "      <td>3482</td>\n",
       "    </tr>\n",
       "    <tr>\n",
       "      <th>3</th>\n",
       "      <td>891689557279858688</td>\n",
       "      <td>36913</td>\n",
       "      <td>7220</td>\n",
       "    </tr>\n",
       "    <tr>\n",
       "      <th>4</th>\n",
       "      <td>891327558926688256</td>\n",
       "      <td>35321</td>\n",
       "      <td>7764</td>\n",
       "    </tr>\n",
       "  </tbody>\n",
       "</table>\n",
       "</div>"
      ],
      "text/plain": [
       "             tweet_id  favorite_count  retweet_count\n",
       "0  892420643555336193           33823           7010\n",
       "1  892177421306343426           29337           5302\n",
       "2  891815181378084864           22069           3482\n",
       "3  891689557279858688           36913           7220\n",
       "4  891327558926688256           35321           7764"
      ]
     },
     "execution_count": 37,
     "metadata": {},
     "output_type": "execute_result"
    }
   ],
   "source": [
    "rt_likes_copy.head()"
   ]
  },
  {
   "cell_type": "code",
   "execution_count": null,
   "id": "f6dd4a26",
   "metadata": {},
   "outputs": [],
   "source": []
  },
  {
   "cell_type": "markdown",
   "id": "a87e9220",
   "metadata": {},
   "source": [
    "## Issue #9: Missing Values"
   ]
  },
  {
   "cell_type": "markdown",
   "id": "b118f48c",
   "metadata": {},
   "source": [
    "Define: Getting only columns with missing Values from the twitter archive dataset by using the isnull function and getting the sum of all null values.\n",
    "\n",
    "We followed that up by getting the percentage of the missing values of each column in our dataset\n"
   ]
  },
  {
   "cell_type": "markdown",
   "id": "90ca0581",
   "metadata": {},
   "source": [
    "Code: "
   ]
  },
  {
   "cell_type": "code",
   "execution_count": 38,
   "id": "cc238d66",
   "metadata": {},
   "outputs": [
    {
     "data": {
      "text/html": [
       "<div>\n",
       "<style scoped>\n",
       "    .dataframe tbody tr th:only-of-type {\n",
       "        vertical-align: middle;\n",
       "    }\n",
       "\n",
       "    .dataframe tbody tr th {\n",
       "        vertical-align: top;\n",
       "    }\n",
       "\n",
       "    .dataframe thead th {\n",
       "        text-align: right;\n",
       "    }\n",
       "</style>\n",
       "<table border=\"1\" class=\"dataframe\">\n",
       "  <thead>\n",
       "    <tr style=\"text-align: right;\">\n",
       "      <th></th>\n",
       "      <th>columnn_name</th>\n",
       "      <th>nbr_of_null_values</th>\n",
       "    </tr>\n",
       "  </thead>\n",
       "  <tbody>\n",
       "    <tr>\n",
       "      <th>0</th>\n",
       "      <td>in_reply_to_status_id</td>\n",
       "      <td>2097</td>\n",
       "    </tr>\n",
       "    <tr>\n",
       "      <th>1</th>\n",
       "      <td>in_reply_to_user_id</td>\n",
       "      <td>2097</td>\n",
       "    </tr>\n",
       "    <tr>\n",
       "      <th>2</th>\n",
       "      <td>retweeted_status_id</td>\n",
       "      <td>2175</td>\n",
       "    </tr>\n",
       "    <tr>\n",
       "      <th>3</th>\n",
       "      <td>retweeted_status_user_id</td>\n",
       "      <td>2175</td>\n",
       "    </tr>\n",
       "    <tr>\n",
       "      <th>4</th>\n",
       "      <td>retweeted_status_timestamp</td>\n",
       "      <td>2175</td>\n",
       "    </tr>\n",
       "    <tr>\n",
       "      <th>5</th>\n",
       "      <td>expanded_urls</td>\n",
       "      <td>58</td>\n",
       "    </tr>\n",
       "    <tr>\n",
       "      <th>6</th>\n",
       "      <td>name</td>\n",
       "      <td>784</td>\n",
       "    </tr>\n",
       "  </tbody>\n",
       "</table>\n",
       "</div>"
      ],
      "text/plain": [
       "                 columnn_name  nbr_of_null_values\n",
       "0       in_reply_to_status_id                2097\n",
       "1         in_reply_to_user_id                2097\n",
       "2         retweeted_status_id                2175\n",
       "3    retweeted_status_user_id                2175\n",
       "4  retweeted_status_timestamp                2175\n",
       "5               expanded_urls                  58\n",
       "6                        name                 784"
      ]
     },
     "execution_count": 38,
     "metadata": {},
     "output_type": "execute_result"
    }
   ],
   "source": [
    "missing = tweets_copy.isnull().sum()[tweets_copy.isnull().sum() != 0].reset_index().rename(columns={'index':\n",
    "                                                                                    'columnn_name',\n",
    "                                                                                         0:'nbr_of_null_values'})\n",
    "\n",
    "missing"
   ]
  },
  {
   "cell_type": "code",
   "execution_count": 39,
   "id": "3101f052",
   "metadata": {},
   "outputs": [
    {
     "data": {
      "text/html": [
       "<div>\n",
       "<style scoped>\n",
       "    .dataframe tbody tr th:only-of-type {\n",
       "        vertical-align: middle;\n",
       "    }\n",
       "\n",
       "    .dataframe tbody tr th {\n",
       "        vertical-align: top;\n",
       "    }\n",
       "\n",
       "    .dataframe thead th {\n",
       "        text-align: right;\n",
       "    }\n",
       "</style>\n",
       "<table border=\"1\" class=\"dataframe\">\n",
       "  <thead>\n",
       "    <tr style=\"text-align: right;\">\n",
       "      <th></th>\n",
       "      <th>columnn_name</th>\n",
       "      <th>nbr_of_null_values</th>\n",
       "      <th>percent_of_null_values</th>\n",
       "    </tr>\n",
       "  </thead>\n",
       "  <tbody>\n",
       "    <tr>\n",
       "      <th>0</th>\n",
       "      <td>in_reply_to_status_id</td>\n",
       "      <td>2097</td>\n",
       "      <td>96.413793</td>\n",
       "    </tr>\n",
       "    <tr>\n",
       "      <th>1</th>\n",
       "      <td>in_reply_to_user_id</td>\n",
       "      <td>2097</td>\n",
       "      <td>96.413793</td>\n",
       "    </tr>\n",
       "    <tr>\n",
       "      <th>2</th>\n",
       "      <td>retweeted_status_id</td>\n",
       "      <td>2175</td>\n",
       "      <td>100.000000</td>\n",
       "    </tr>\n",
       "    <tr>\n",
       "      <th>3</th>\n",
       "      <td>retweeted_status_user_id</td>\n",
       "      <td>2175</td>\n",
       "      <td>100.000000</td>\n",
       "    </tr>\n",
       "    <tr>\n",
       "      <th>4</th>\n",
       "      <td>retweeted_status_timestamp</td>\n",
       "      <td>2175</td>\n",
       "      <td>100.000000</td>\n",
       "    </tr>\n",
       "    <tr>\n",
       "      <th>5</th>\n",
       "      <td>expanded_urls</td>\n",
       "      <td>58</td>\n",
       "      <td>2.666667</td>\n",
       "    </tr>\n",
       "    <tr>\n",
       "      <th>6</th>\n",
       "      <td>name</td>\n",
       "      <td>784</td>\n",
       "      <td>36.045977</td>\n",
       "    </tr>\n",
       "  </tbody>\n",
       "</table>\n",
       "</div>"
      ],
      "text/plain": [
       "                 columnn_name  nbr_of_null_values  percent_of_null_values\n",
       "0       in_reply_to_status_id                2097               96.413793\n",
       "1         in_reply_to_user_id                2097               96.413793\n",
       "2         retweeted_status_id                2175              100.000000\n",
       "3    retweeted_status_user_id                2175              100.000000\n",
       "4  retweeted_status_timestamp                2175              100.000000\n",
       "5               expanded_urls                  58                2.666667\n",
       "6                        name                 784               36.045977"
      ]
     },
     "execution_count": 39,
     "metadata": {},
     "output_type": "execute_result"
    }
   ],
   "source": [
    "missing['percent_of_null_values'] = missing['nbr_of_null_values'].apply(lambda x: (x/tweets_copy.shape[0]) * 100)\n",
    "\n",
    "missing"
   ]
  },
  {
   "cell_type": "markdown",
   "id": "4e49045b",
   "metadata": {},
   "source": [
    "From the seven different column that have missing data, only the columns 'name' and 'expanded_urls', have below 50% of their data missing. As we can see from above that 'retweeted_status_timestamp', 'retweeted_status_user_id' and 'retweeted_status_id' have not a single data record in our dataset; While 'in_reply_to_user_id', and 'in_reply_to_status_id', both have about 96% of there data missing.\n",
    "\n",
    "To further address this issue of missing data in our dataset, we would be dealing more with our data structure, that has to do with our data tidiness. Although these missing columns data could have best been addressed as a quality issue, if the columns concerned were relevant our analysis and they don't have such large chunks of data missing. \n",
    "\n",
    "So, we would be cleaning up columns with missing data in this particular data wrangling process by addressing the structure of our dataset. Because it is one thing to have irrelevant columns in our dataset that complicates the structure of the dataset and another thing for this irrelevant column to possess little or no data information at all. Then why is it even in the dataset, despite it's irrelevancy.\n",
    "\n",
    "**Check Out the data cleaning of the structure of our datasets below.**"
   ]
  },
  {
   "cell_type": "code",
   "execution_count": null,
   "id": "e4e126cc",
   "metadata": {},
   "outputs": [],
   "source": []
  },
  {
   "cell_type": "markdown",
   "id": "a7762c62",
   "metadata": {},
   "source": [
    "## Issue #10: Irrelevant columns  - Tidiness issues"
   ]
  },
  {
   "cell_type": "markdown",
   "id": "ab8172f1",
   "metadata": {},
   "source": [
    "'in_reply_to_status_id',\n",
    "\n",
    "'in_reply_to_user_id', \n",
    "\n",
    "'source', \n",
    "\n",
    "'retweeted_status_id', \n",
    "\n",
    "'retweeted_status_user_id', \n",
    "\n",
    "'retweeted_status_timestamp', \n",
    "\n",
    "'expanded_urls'\n",
    "\n",
    "Based on the insight I would be creating through my analysis, the above columns would be of no relevance to our dataset."
   ]
  },
  {
   "cell_type": "markdown",
   "id": "34b6d40b",
   "metadata": {},
   "source": [
    "Define: First we try putting all the irrelevant columns in a single list.\n",
    "\n",
    "Then drop all columns by applying the irrelevant list to the drop function, and importantly passing axis=1, to signify they are for columns and using the inplace = True to save our changes made."
   ]
  },
  {
   "cell_type": "code",
   "execution_count": 40,
   "id": "89bbdacb",
   "metadata": {},
   "outputs": [],
   "source": [
    "irrelevant = ['in_reply_to_status_id', 'in_reply_to_user_id', 'source', 'retweeted_status_id',\n",
    "'retweeted_status_user_id', 'retweeted_status_timestamp', 'expanded_urls']"
   ]
  },
  {
   "cell_type": "code",
   "execution_count": 41,
   "id": "a0a4594c",
   "metadata": {},
   "outputs": [],
   "source": [
    "tweets_copy.drop(irrelevant, axis = 1, inplace = True)"
   ]
  },
  {
   "cell_type": "markdown",
   "id": "52e22eda",
   "metadata": {},
   "source": [
    "Test:"
   ]
  },
  {
   "cell_type": "code",
   "execution_count": 42,
   "id": "493a1474",
   "metadata": {},
   "outputs": [
    {
     "data": {
      "text/html": [
       "<div>\n",
       "<style scoped>\n",
       "    .dataframe tbody tr th:only-of-type {\n",
       "        vertical-align: middle;\n",
       "    }\n",
       "\n",
       "    .dataframe tbody tr th {\n",
       "        vertical-align: top;\n",
       "    }\n",
       "\n",
       "    .dataframe thead th {\n",
       "        text-align: right;\n",
       "    }\n",
       "</style>\n",
       "<table border=\"1\" class=\"dataframe\">\n",
       "  <thead>\n",
       "    <tr style=\"text-align: right;\">\n",
       "      <th></th>\n",
       "      <th>tweet_id</th>\n",
       "      <th>timestamp</th>\n",
       "      <th>text</th>\n",
       "      <th>rating_numerator</th>\n",
       "      <th>rating_denominator</th>\n",
       "      <th>name</th>\n",
       "      <th>doggo</th>\n",
       "      <th>floofer</th>\n",
       "      <th>pupper</th>\n",
       "      <th>puppo</th>\n",
       "    </tr>\n",
       "  </thead>\n",
       "  <tbody>\n",
       "    <tr>\n",
       "      <th>0</th>\n",
       "      <td>892420643555336193</td>\n",
       "      <td>2017-08-01 16:23:56+00:00</td>\n",
       "      <td>This is Phineas. He's a mystical boy. Only eve...</td>\n",
       "      <td>13</td>\n",
       "      <td>10</td>\n",
       "      <td>Phineas</td>\n",
       "      <td>None</td>\n",
       "      <td>None</td>\n",
       "      <td>None</td>\n",
       "      <td>None</td>\n",
       "    </tr>\n",
       "    <tr>\n",
       "      <th>1</th>\n",
       "      <td>892177421306343426</td>\n",
       "      <td>2017-08-01 00:17:27+00:00</td>\n",
       "      <td>This is Tilly. She's just checking pup on you....</td>\n",
       "      <td>13</td>\n",
       "      <td>10</td>\n",
       "      <td>Tilly</td>\n",
       "      <td>None</td>\n",
       "      <td>None</td>\n",
       "      <td>None</td>\n",
       "      <td>None</td>\n",
       "    </tr>\n",
       "  </tbody>\n",
       "</table>\n",
       "</div>"
      ],
      "text/plain": [
       "             tweet_id                 timestamp  \\\n",
       "0  892420643555336193 2017-08-01 16:23:56+00:00   \n",
       "1  892177421306343426 2017-08-01 00:17:27+00:00   \n",
       "\n",
       "                                                text rating_numerator  \\\n",
       "0  This is Phineas. He's a mystical boy. Only eve...               13   \n",
       "1  This is Tilly. She's just checking pup on you....               13   \n",
       "\n",
       "  rating_denominator     name doggo floofer pupper puppo  \n",
       "0                 10  Phineas  None    None   None  None  \n",
       "1                 10    Tilly  None    None   None  None  "
      ]
     },
     "execution_count": 42,
     "metadata": {},
     "output_type": "execute_result"
    }
   ],
   "source": [
    "tweets_copy.head(2)"
   ]
  },
  {
   "cell_type": "markdown",
   "id": "012b1a39",
   "metadata": {},
   "source": [
    "We can see that our dataset is void from those irrelevant columns I listed above, and another thing to note is that the columns that possessed those high number of null values are out of our dataset.\n",
    "\n",
    "Please Note!!! Addressing missing values is not done by dropping the columns affected, we only decided to take this route just to show that the structure of our datset, if not properly handled could skew our data also. If we have only relevant columns in our dataset, and they have missing values then there are alternatives towards fixing such issues. But in this case the missing data comes from irrelevant columns, so there's no fixing up the values as they are of no need to our analysis."
   ]
  },
  {
   "cell_type": "code",
   "execution_count": null,
   "id": "1d94fdc3",
   "metadata": {},
   "outputs": [],
   "source": []
  },
  {
   "cell_type": "markdown",
   "id": "8b6765ef",
   "metadata": {},
   "source": [
    "## Issue #11: Unstructured columns - Tidiness issues"
   ]
  },
  {
   "cell_type": "markdown",
   "id": "c334279d",
   "metadata": {},
   "source": [
    "'doggo', \n",
    "\n",
    "'floofer',\n",
    "\n",
    "'pupper', \n",
    "\n",
    "'puppo'\n",
    "\n",
    "These listed columns above all represent different dog growth stages. So, it's very unnecessary having a column to represent each dog stage. When we can actually have just a single column that holds the dog stage value for every Dog in our data."
   ]
  },
  {
   "cell_type": "markdown",
   "id": "150a0c1f",
   "metadata": {},
   "source": [
    "Define: \n",
    "\n",
    "Dropping all four columns representing a Dog stage\n",
    "\n",
    "Extracting the Dog stage from the text column with the extract function and also passing 're.IGNORECASE' to our function to help in ignoring lower or upper case while extracting and adding them into a new dataset column called 'dog_stage'\n",
    "\n",
    "Converting all Dog stages extracted into a lower case to make them consistent and unique with the use of the 'str.lower()' function."
   ]
  },
  {
   "cell_type": "code",
   "execution_count": 43,
   "id": "746f7afe",
   "metadata": {},
   "outputs": [],
   "source": [
    "tweets_copy.drop(['doggo','floofer','pupper','puppo'], axis=1, inplace = True)"
   ]
  },
  {
   "cell_type": "code",
   "execution_count": 44,
   "id": "d5d6bac5",
   "metadata": {},
   "outputs": [
    {
     "data": {
      "text/html": [
       "<div>\n",
       "<style scoped>\n",
       "    .dataframe tbody tr th:only-of-type {\n",
       "        vertical-align: middle;\n",
       "    }\n",
       "\n",
       "    .dataframe tbody tr th {\n",
       "        vertical-align: top;\n",
       "    }\n",
       "\n",
       "    .dataframe thead th {\n",
       "        text-align: right;\n",
       "    }\n",
       "</style>\n",
       "<table border=\"1\" class=\"dataframe\">\n",
       "  <thead>\n",
       "    <tr style=\"text-align: right;\">\n",
       "      <th></th>\n",
       "      <th>tweet_id</th>\n",
       "      <th>timestamp</th>\n",
       "      <th>text</th>\n",
       "      <th>rating_numerator</th>\n",
       "      <th>rating_denominator</th>\n",
       "      <th>name</th>\n",
       "    </tr>\n",
       "  </thead>\n",
       "  <tbody>\n",
       "    <tr>\n",
       "      <th>0</th>\n",
       "      <td>892420643555336193</td>\n",
       "      <td>2017-08-01 16:23:56+00:00</td>\n",
       "      <td>This is Phineas. He's a mystical boy. Only eve...</td>\n",
       "      <td>13</td>\n",
       "      <td>10</td>\n",
       "      <td>Phineas</td>\n",
       "    </tr>\n",
       "    <tr>\n",
       "      <th>1</th>\n",
       "      <td>892177421306343426</td>\n",
       "      <td>2017-08-01 00:17:27+00:00</td>\n",
       "      <td>This is Tilly. She's just checking pup on you....</td>\n",
       "      <td>13</td>\n",
       "      <td>10</td>\n",
       "      <td>Tilly</td>\n",
       "    </tr>\n",
       "    <tr>\n",
       "      <th>2</th>\n",
       "      <td>891815181378084864</td>\n",
       "      <td>2017-07-31 00:18:03+00:00</td>\n",
       "      <td>This is Archie. He is a rare Norwegian Pouncin...</td>\n",
       "      <td>12</td>\n",
       "      <td>10</td>\n",
       "      <td>Archie</td>\n",
       "    </tr>\n",
       "    <tr>\n",
       "      <th>3</th>\n",
       "      <td>891689557279858688</td>\n",
       "      <td>2017-07-30 15:58:51+00:00</td>\n",
       "      <td>This is Darla. She commenced a snooze mid meal...</td>\n",
       "      <td>13</td>\n",
       "      <td>10</td>\n",
       "      <td>Darla</td>\n",
       "    </tr>\n",
       "    <tr>\n",
       "      <th>4</th>\n",
       "      <td>891327558926688256</td>\n",
       "      <td>2017-07-29 16:00:24+00:00</td>\n",
       "      <td>This is Franklin. He would like you to stop ca...</td>\n",
       "      <td>12</td>\n",
       "      <td>10</td>\n",
       "      <td>Franklin</td>\n",
       "    </tr>\n",
       "  </tbody>\n",
       "</table>\n",
       "</div>"
      ],
      "text/plain": [
       "             tweet_id                 timestamp  \\\n",
       "0  892420643555336193 2017-08-01 16:23:56+00:00   \n",
       "1  892177421306343426 2017-08-01 00:17:27+00:00   \n",
       "2  891815181378084864 2017-07-31 00:18:03+00:00   \n",
       "3  891689557279858688 2017-07-30 15:58:51+00:00   \n",
       "4  891327558926688256 2017-07-29 16:00:24+00:00   \n",
       "\n",
       "                                                text rating_numerator  \\\n",
       "0  This is Phineas. He's a mystical boy. Only eve...               13   \n",
       "1  This is Tilly. She's just checking pup on you....               13   \n",
       "2  This is Archie. He is a rare Norwegian Pouncin...               12   \n",
       "3  This is Darla. She commenced a snooze mid meal...               13   \n",
       "4  This is Franklin. He would like you to stop ca...               12   \n",
       "\n",
       "  rating_denominator      name  \n",
       "0                 10   Phineas  \n",
       "1                 10     Tilly  \n",
       "2                 10    Archie  \n",
       "3                 10     Darla  \n",
       "4                 10  Franklin  "
      ]
     },
     "execution_count": 44,
     "metadata": {},
     "output_type": "execute_result"
    }
   ],
   "source": [
    "tweets_copy.head()"
   ]
  },
  {
   "cell_type": "code",
   "execution_count": 45,
   "id": "d19654eb",
   "metadata": {},
   "outputs": [],
   "source": [
    "tweets_copy['dog_stage'] = tweets_copy['text'].str.extract('(Doggo|floofer|pupper|puppo)',re.IGNORECASE)"
   ]
  },
  {
   "cell_type": "code",
   "execution_count": 46,
   "id": "1f6b2798",
   "metadata": {},
   "outputs": [],
   "source": [
    "tweets_copy['dog_stage'] = tweets_copy['dog_stage'].str.lower()"
   ]
  },
  {
   "cell_type": "markdown",
   "id": "d0e4dc9b",
   "metadata": {},
   "source": [
    "Test:"
   ]
  },
  {
   "cell_type": "code",
   "execution_count": 47,
   "id": "9c5d908d",
   "metadata": {},
   "outputs": [
    {
     "data": {
      "text/html": [
       "<div>\n",
       "<style scoped>\n",
       "    .dataframe tbody tr th:only-of-type {\n",
       "        vertical-align: middle;\n",
       "    }\n",
       "\n",
       "    .dataframe tbody tr th {\n",
       "        vertical-align: top;\n",
       "    }\n",
       "\n",
       "    .dataframe thead th {\n",
       "        text-align: right;\n",
       "    }\n",
       "</style>\n",
       "<table border=\"1\" class=\"dataframe\">\n",
       "  <thead>\n",
       "    <tr style=\"text-align: right;\">\n",
       "      <th></th>\n",
       "      <th>tweet_id</th>\n",
       "      <th>timestamp</th>\n",
       "      <th>text</th>\n",
       "      <th>rating_numerator</th>\n",
       "      <th>rating_denominator</th>\n",
       "      <th>name</th>\n",
       "      <th>dog_stage</th>\n",
       "    </tr>\n",
       "  </thead>\n",
       "  <tbody>\n",
       "    <tr>\n",
       "      <th>0</th>\n",
       "      <td>892420643555336193</td>\n",
       "      <td>2017-08-01 16:23:56+00:00</td>\n",
       "      <td>This is Phineas. He's a mystical boy. Only eve...</td>\n",
       "      <td>13</td>\n",
       "      <td>10</td>\n",
       "      <td>Phineas</td>\n",
       "      <td>NaN</td>\n",
       "    </tr>\n",
       "    <tr>\n",
       "      <th>1</th>\n",
       "      <td>892177421306343426</td>\n",
       "      <td>2017-08-01 00:17:27+00:00</td>\n",
       "      <td>This is Tilly. She's just checking pup on you....</td>\n",
       "      <td>13</td>\n",
       "      <td>10</td>\n",
       "      <td>Tilly</td>\n",
       "      <td>NaN</td>\n",
       "    </tr>\n",
       "    <tr>\n",
       "      <th>2</th>\n",
       "      <td>891815181378084864</td>\n",
       "      <td>2017-07-31 00:18:03+00:00</td>\n",
       "      <td>This is Archie. He is a rare Norwegian Pouncin...</td>\n",
       "      <td>12</td>\n",
       "      <td>10</td>\n",
       "      <td>Archie</td>\n",
       "      <td>NaN</td>\n",
       "    </tr>\n",
       "    <tr>\n",
       "      <th>3</th>\n",
       "      <td>891689557279858688</td>\n",
       "      <td>2017-07-30 15:58:51+00:00</td>\n",
       "      <td>This is Darla. She commenced a snooze mid meal...</td>\n",
       "      <td>13</td>\n",
       "      <td>10</td>\n",
       "      <td>Darla</td>\n",
       "      <td>NaN</td>\n",
       "    </tr>\n",
       "    <tr>\n",
       "      <th>4</th>\n",
       "      <td>891327558926688256</td>\n",
       "      <td>2017-07-29 16:00:24+00:00</td>\n",
       "      <td>This is Franklin. He would like you to stop ca...</td>\n",
       "      <td>12</td>\n",
       "      <td>10</td>\n",
       "      <td>Franklin</td>\n",
       "      <td>NaN</td>\n",
       "    </tr>\n",
       "  </tbody>\n",
       "</table>\n",
       "</div>"
      ],
      "text/plain": [
       "             tweet_id                 timestamp  \\\n",
       "0  892420643555336193 2017-08-01 16:23:56+00:00   \n",
       "1  892177421306343426 2017-08-01 00:17:27+00:00   \n",
       "2  891815181378084864 2017-07-31 00:18:03+00:00   \n",
       "3  891689557279858688 2017-07-30 15:58:51+00:00   \n",
       "4  891327558926688256 2017-07-29 16:00:24+00:00   \n",
       "\n",
       "                                                text rating_numerator  \\\n",
       "0  This is Phineas. He's a mystical boy. Only eve...               13   \n",
       "1  This is Tilly. She's just checking pup on you....               13   \n",
       "2  This is Archie. He is a rare Norwegian Pouncin...               12   \n",
       "3  This is Darla. She commenced a snooze mid meal...               13   \n",
       "4  This is Franklin. He would like you to stop ca...               12   \n",
       "\n",
       "  rating_denominator      name dog_stage  \n",
       "0                 10   Phineas       NaN  \n",
       "1                 10     Tilly       NaN  \n",
       "2                 10    Archie       NaN  \n",
       "3                 10     Darla       NaN  \n",
       "4                 10  Franklin       NaN  "
      ]
     },
     "execution_count": 47,
     "metadata": {},
     "output_type": "execute_result"
    }
   ],
   "source": [
    "tweets_copy.head()"
   ]
  },
  {
   "cell_type": "markdown",
   "id": "2e6af5ab",
   "metadata": {},
   "source": [
    "Present now in our dataframe is a 'dog_stage' column, what we do next now is to check out the uniqueness and value count of the values in the 'dog_stage' column."
   ]
  },
  {
   "cell_type": "code",
   "execution_count": 48,
   "id": "0c4f0b7c",
   "metadata": {},
   "outputs": [
    {
     "data": {
      "text/plain": [
       "pupper     253\n",
       "doggo       89\n",
       "puppo       32\n",
       "floofer      9\n",
       "Name: dog_stage, dtype: int64"
      ]
     },
     "execution_count": 48,
     "metadata": {},
     "output_type": "execute_result"
    }
   ],
   "source": [
    "tweets_copy['dog_stage'].value_counts()"
   ]
  },
  {
   "cell_type": "code",
   "execution_count": null,
   "id": "d1b6108c",
   "metadata": {},
   "outputs": [],
   "source": []
  },
  {
   "cell_type": "markdown",
   "id": "bc0cb873",
   "metadata": {},
   "source": [
    "## Issue #12: Splitting column - Tidiness issues"
   ]
  },
  {
   "cell_type": "markdown",
   "id": "cf8a6a77",
   "metadata": {},
   "source": [
    "The timestamp column, after the quality issues has been addressed. Then we focus more on the structure issue of the column in our dataset. We would be splitting the existing timestamp column into two different columns of date and time."
   ]
  },
  {
   "cell_type": "markdown",
   "id": "aea426d3",
   "metadata": {},
   "source": [
    "Define:\n",
    "\n",
    "Creating a date and time variable from the timestamp column\n",
    "\n",
    "Inserting the date and time variable as the first and second columns in our dataframe respectively.\n",
    "\n",
    "Dropping the existing 'timestamp' column"
   ]
  },
  {
   "cell_type": "code",
   "execution_count": 49,
   "id": "7e34a181",
   "metadata": {},
   "outputs": [],
   "source": [
    "date = tweets_copy['timestamp'].dt.date\n",
    "\n",
    "time = tweets_copy['timestamp'].dt.time"
   ]
  },
  {
   "cell_type": "code",
   "execution_count": 50,
   "id": "750fe7bd",
   "metadata": {},
   "outputs": [],
   "source": [
    "tweets_copy.insert(1, 'date', date)\n",
    "\n",
    "tweets_copy.insert(2, 'time', time)"
   ]
  },
  {
   "cell_type": "code",
   "execution_count": 51,
   "id": "c936a9d0",
   "metadata": {},
   "outputs": [],
   "source": [
    "del tweets_copy['timestamp']"
   ]
  },
  {
   "cell_type": "code",
   "execution_count": 52,
   "id": "1f199996",
   "metadata": {},
   "outputs": [],
   "source": [
    "tweets_copy['date'] = pd.to_datetime(tweets_copy['date'])"
   ]
  },
  {
   "cell_type": "markdown",
   "id": "162b6a3f",
   "metadata": {},
   "source": [
    "Test:"
   ]
  },
  {
   "cell_type": "code",
   "execution_count": 53,
   "id": "fb85b4bc",
   "metadata": {},
   "outputs": [
    {
     "data": {
      "text/html": [
       "<div>\n",
       "<style scoped>\n",
       "    .dataframe tbody tr th:only-of-type {\n",
       "        vertical-align: middle;\n",
       "    }\n",
       "\n",
       "    .dataframe tbody tr th {\n",
       "        vertical-align: top;\n",
       "    }\n",
       "\n",
       "    .dataframe thead th {\n",
       "        text-align: right;\n",
       "    }\n",
       "</style>\n",
       "<table border=\"1\" class=\"dataframe\">\n",
       "  <thead>\n",
       "    <tr style=\"text-align: right;\">\n",
       "      <th></th>\n",
       "      <th>tweet_id</th>\n",
       "      <th>date</th>\n",
       "      <th>time</th>\n",
       "      <th>text</th>\n",
       "      <th>rating_numerator</th>\n",
       "      <th>rating_denominator</th>\n",
       "      <th>name</th>\n",
       "      <th>dog_stage</th>\n",
       "    </tr>\n",
       "  </thead>\n",
       "  <tbody>\n",
       "    <tr>\n",
       "      <th>0</th>\n",
       "      <td>892420643555336193</td>\n",
       "      <td>2017-08-01</td>\n",
       "      <td>16:23:56</td>\n",
       "      <td>This is Phineas. He's a mystical boy. Only eve...</td>\n",
       "      <td>13</td>\n",
       "      <td>10</td>\n",
       "      <td>Phineas</td>\n",
       "      <td>NaN</td>\n",
       "    </tr>\n",
       "    <tr>\n",
       "      <th>1</th>\n",
       "      <td>892177421306343426</td>\n",
       "      <td>2017-08-01</td>\n",
       "      <td>00:17:27</td>\n",
       "      <td>This is Tilly. She's just checking pup on you....</td>\n",
       "      <td>13</td>\n",
       "      <td>10</td>\n",
       "      <td>Tilly</td>\n",
       "      <td>NaN</td>\n",
       "    </tr>\n",
       "    <tr>\n",
       "      <th>2</th>\n",
       "      <td>891815181378084864</td>\n",
       "      <td>2017-07-31</td>\n",
       "      <td>00:18:03</td>\n",
       "      <td>This is Archie. He is a rare Norwegian Pouncin...</td>\n",
       "      <td>12</td>\n",
       "      <td>10</td>\n",
       "      <td>Archie</td>\n",
       "      <td>NaN</td>\n",
       "    </tr>\n",
       "    <tr>\n",
       "      <th>3</th>\n",
       "      <td>891689557279858688</td>\n",
       "      <td>2017-07-30</td>\n",
       "      <td>15:58:51</td>\n",
       "      <td>This is Darla. She commenced a snooze mid meal...</td>\n",
       "      <td>13</td>\n",
       "      <td>10</td>\n",
       "      <td>Darla</td>\n",
       "      <td>NaN</td>\n",
       "    </tr>\n",
       "    <tr>\n",
       "      <th>4</th>\n",
       "      <td>891327558926688256</td>\n",
       "      <td>2017-07-29</td>\n",
       "      <td>16:00:24</td>\n",
       "      <td>This is Franklin. He would like you to stop ca...</td>\n",
       "      <td>12</td>\n",
       "      <td>10</td>\n",
       "      <td>Franklin</td>\n",
       "      <td>NaN</td>\n",
       "    </tr>\n",
       "  </tbody>\n",
       "</table>\n",
       "</div>"
      ],
      "text/plain": [
       "             tweet_id       date      time  \\\n",
       "0  892420643555336193 2017-08-01  16:23:56   \n",
       "1  892177421306343426 2017-08-01  00:17:27   \n",
       "2  891815181378084864 2017-07-31  00:18:03   \n",
       "3  891689557279858688 2017-07-30  15:58:51   \n",
       "4  891327558926688256 2017-07-29  16:00:24   \n",
       "\n",
       "                                                text rating_numerator  \\\n",
       "0  This is Phineas. He's a mystical boy. Only eve...               13   \n",
       "1  This is Tilly. She's just checking pup on you....               13   \n",
       "2  This is Archie. He is a rare Norwegian Pouncin...               12   \n",
       "3  This is Darla. She commenced a snooze mid meal...               13   \n",
       "4  This is Franklin. He would like you to stop ca...               12   \n",
       "\n",
       "  rating_denominator      name dog_stage  \n",
       "0                 10   Phineas       NaN  \n",
       "1                 10     Tilly       NaN  \n",
       "2                 10    Archie       NaN  \n",
       "3                 10     Darla       NaN  \n",
       "4                 10  Franklin       NaN  "
      ]
     },
     "execution_count": 53,
     "metadata": {},
     "output_type": "execute_result"
    }
   ],
   "source": [
    "tweets_copy.head()"
   ]
  },
  {
   "cell_type": "code",
   "execution_count": null,
   "id": "be3ea346",
   "metadata": {},
   "outputs": [],
   "source": []
  },
  {
   "cell_type": "markdown",
   "id": "bd205a36",
   "metadata": {},
   "source": [
    "## Issue #13: Collapsing Unnecessary columns - Tidiness issues"
   ]
  },
  {
   "cell_type": "markdown",
   "id": "50a1e59c",
   "metadata": {},
   "source": [
    "Define: \n",
    "\n",
    "First, we filter to get all image predictions in our dataset where the top 3 predictions are Dog predictions. Then, we move towards having only the top Dog prediction and it's attributes in our dataset. Since, we already filtered out all data that have a True Dog prediction in all three predictions from our dataset, we would be dropping two of such predictions and their attributes from our dataset leaving only the top prediction.\n",
    "\n",
    "Secondly, we repeat the same step as the first but in this case, we would be filtering out only data that have their first prediction as True for a Dog, irregardless of the second and third predictions. After filtering, we would proceed towards dropping the other two predictions from our dataset.\n",
    "\n",
    "\n",
    "Thirdly, Just like the above two steps, we would be filtering but in this case, it is only data that has the first prediction as false and the second prediction must be True, while the third prediction can be True or False. After filtering out these set of data, we proceed towards dropping the first and third predictions and their attributes from our dataset. What this does is that it leaves us with the second prediction and it's attributes asthe top and only needed dog prediction amongst such filtered data.\n",
    "\n",
    "\n",
    "Fourthly, We apply the same approach to te third prediction. We filter out only data that has the third prediction as True and the first and second prediction as False. so, we proceed into dropping the first and second predictions from our filtered dataset.\n",
    "\n",
    "\n",
    "At this stage we have four different filtered dataset holding the three different top Dog predictions. So, we proceed into cleaning all four of these datasets, first we rename prediction column to  'dog_breed'and the prediction score to 'confidence_score', we also dropped the conditional values for if the prediction is a Dog. Since we have dropped all Non Dog image ratings and predictions. Finally, we add a new column to specify the prediction ranking that got the dog prediction right.\n",
    "\n",
    "Then, it's time to put it all together, at this point we concatenate all four datsets together into one."
   ]
  },
  {
   "cell_type": "code",
   "execution_count": 54,
   "id": "edccc968",
   "metadata": {},
   "outputs": [
    {
     "data": {
      "text/html": [
       "<div>\n",
       "<style scoped>\n",
       "    .dataframe tbody tr th:only-of-type {\n",
       "        vertical-align: middle;\n",
       "    }\n",
       "\n",
       "    .dataframe tbody tr th {\n",
       "        vertical-align: top;\n",
       "    }\n",
       "\n",
       "    .dataframe thead th {\n",
       "        text-align: right;\n",
       "    }\n",
       "</style>\n",
       "<table border=\"1\" class=\"dataframe\">\n",
       "  <thead>\n",
       "    <tr style=\"text-align: right;\">\n",
       "      <th></th>\n",
       "      <th>tweet_id</th>\n",
       "      <th>jpg_url</th>\n",
       "      <th>img_num</th>\n",
       "      <th>p1</th>\n",
       "      <th>p1_conf</th>\n",
       "      <th>p1_dog</th>\n",
       "      <th>p2</th>\n",
       "      <th>p2_conf</th>\n",
       "      <th>p2_dog</th>\n",
       "      <th>p3</th>\n",
       "      <th>p3_conf</th>\n",
       "      <th>p3_dog</th>\n",
       "    </tr>\n",
       "  </thead>\n",
       "  <tbody>\n",
       "    <tr>\n",
       "      <th>0</th>\n",
       "      <td>666020888022790149</td>\n",
       "      <td>https://pbs.twimg.com/media/CT4udn0WwAA0aMy.jpg</td>\n",
       "      <td>1</td>\n",
       "      <td>Welsh_springer_spaniel</td>\n",
       "      <td>0.465074</td>\n",
       "      <td>True</td>\n",
       "      <td>collie</td>\n",
       "      <td>0.156665</td>\n",
       "      <td>True</td>\n",
       "      <td>Shetland_sheepdog</td>\n",
       "      <td>0.061428</td>\n",
       "      <td>True</td>\n",
       "    </tr>\n",
       "    <tr>\n",
       "      <th>1</th>\n",
       "      <td>666029285002620928</td>\n",
       "      <td>https://pbs.twimg.com/media/CT42GRgUYAA5iDo.jpg</td>\n",
       "      <td>1</td>\n",
       "      <td>redbone</td>\n",
       "      <td>0.506826</td>\n",
       "      <td>True</td>\n",
       "      <td>miniature_pinscher</td>\n",
       "      <td>0.074192</td>\n",
       "      <td>True</td>\n",
       "      <td>Rhodesian_ridgeback</td>\n",
       "      <td>0.072010</td>\n",
       "      <td>True</td>\n",
       "    </tr>\n",
       "    <tr>\n",
       "      <th>2</th>\n",
       "      <td>666033412701032449</td>\n",
       "      <td>https://pbs.twimg.com/media/CT4521TWwAEvMyu.jpg</td>\n",
       "      <td>1</td>\n",
       "      <td>German_shepherd</td>\n",
       "      <td>0.596461</td>\n",
       "      <td>True</td>\n",
       "      <td>malinois</td>\n",
       "      <td>0.138584</td>\n",
       "      <td>True</td>\n",
       "      <td>bloodhound</td>\n",
       "      <td>0.116197</td>\n",
       "      <td>True</td>\n",
       "    </tr>\n",
       "    <tr>\n",
       "      <th>3</th>\n",
       "      <td>666044226329800704</td>\n",
       "      <td>https://pbs.twimg.com/media/CT5Dr8HUEAA-lEu.jpg</td>\n",
       "      <td>1</td>\n",
       "      <td>Rhodesian_ridgeback</td>\n",
       "      <td>0.408143</td>\n",
       "      <td>True</td>\n",
       "      <td>redbone</td>\n",
       "      <td>0.360687</td>\n",
       "      <td>True</td>\n",
       "      <td>miniature_pinscher</td>\n",
       "      <td>0.222752</td>\n",
       "      <td>True</td>\n",
       "    </tr>\n",
       "    <tr>\n",
       "      <th>4</th>\n",
       "      <td>666049248165822465</td>\n",
       "      <td>https://pbs.twimg.com/media/CT5IQmsXIAAKY4A.jpg</td>\n",
       "      <td>1</td>\n",
       "      <td>miniature_pinscher</td>\n",
       "      <td>0.560311</td>\n",
       "      <td>True</td>\n",
       "      <td>Rottweiler</td>\n",
       "      <td>0.243682</td>\n",
       "      <td>True</td>\n",
       "      <td>Doberman</td>\n",
       "      <td>0.154629</td>\n",
       "      <td>True</td>\n",
       "    </tr>\n",
       "  </tbody>\n",
       "</table>\n",
       "</div>"
      ],
      "text/plain": [
       "             tweet_id                                          jpg_url  \\\n",
       "0  666020888022790149  https://pbs.twimg.com/media/CT4udn0WwAA0aMy.jpg   \n",
       "1  666029285002620928  https://pbs.twimg.com/media/CT42GRgUYAA5iDo.jpg   \n",
       "2  666033412701032449  https://pbs.twimg.com/media/CT4521TWwAEvMyu.jpg   \n",
       "3  666044226329800704  https://pbs.twimg.com/media/CT5Dr8HUEAA-lEu.jpg   \n",
       "4  666049248165822465  https://pbs.twimg.com/media/CT5IQmsXIAAKY4A.jpg   \n",
       "\n",
       "   img_num                      p1   p1_conf  p1_dog                  p2  \\\n",
       "0        1  Welsh_springer_spaniel  0.465074    True              collie   \n",
       "1        1                 redbone  0.506826    True  miniature_pinscher   \n",
       "2        1         German_shepherd  0.596461    True            malinois   \n",
       "3        1     Rhodesian_ridgeback  0.408143    True             redbone   \n",
       "4        1      miniature_pinscher  0.560311    True          Rottweiler   \n",
       "\n",
       "    p2_conf  p2_dog                   p3   p3_conf  p3_dog  \n",
       "0  0.156665    True    Shetland_sheepdog  0.061428    True  \n",
       "1  0.074192    True  Rhodesian_ridgeback  0.072010    True  \n",
       "2  0.138584    True           bloodhound  0.116197    True  \n",
       "3  0.360687    True   miniature_pinscher  0.222752    True  \n",
       "4  0.243682    True             Doberman  0.154629    True  "
      ]
     },
     "execution_count": 54,
     "metadata": {},
     "output_type": "execute_result"
    }
   ],
   "source": [
    "pics_copy.head()"
   ]
  },
  {
   "cell_type": "markdown",
   "id": "f16e845b",
   "metadata": {},
   "source": [
    "#####  Top 3 predictions are all True for dogs"
   ]
  },
  {
   "cell_type": "code",
   "execution_count": 55,
   "id": "f7239379",
   "metadata": {},
   "outputs": [],
   "source": [
    "all_True = pics_copy[((pics_copy['p1_dog'] == True) & \n",
    "           (pics_copy['p2_dog'] == True) & \n",
    "           (pics_copy['p3_dog'] == True))]"
   ]
  },
  {
   "cell_type": "markdown",
   "id": "8ae311be",
   "metadata": {},
   "source": [
    "##### Dropping the second and third prediction since the first prediction is True"
   ]
  },
  {
   "cell_type": "code",
   "execution_count": 56,
   "id": "a8843231",
   "metadata": {},
   "outputs": [
    {
     "name": "stderr",
     "output_type": "stream",
     "text": [
      "C:\\Users\\JohnInalegwu\\anaconda3\\lib\\site-packages\\pandas\\core\\frame.py:4906: SettingWithCopyWarning: \n",
      "A value is trying to be set on a copy of a slice from a DataFrame\n",
      "\n",
      "See the caveats in the documentation: https://pandas.pydata.org/pandas-docs/stable/user_guide/indexing.html#returning-a-view-versus-a-copy\n",
      "  return super().drop(\n"
     ]
    }
   ],
   "source": [
    "all_True.drop(['p2','p2_conf', 'p2_dog', 'p3', 'p3_conf', 'p3_dog'], axis=1, inplace = True)"
   ]
  },
  {
   "cell_type": "markdown",
   "id": "c32f30a4",
   "metadata": {},
   "source": [
    "##### At least one prediction is True for Dogs"
   ]
  },
  {
   "cell_type": "code",
   "execution_count": 57,
   "id": "d5fee52e",
   "metadata": {},
   "outputs": [
    {
     "data": {
      "text/html": [
       "<div>\n",
       "<style scoped>\n",
       "    .dataframe tbody tr th:only-of-type {\n",
       "        vertical-align: middle;\n",
       "    }\n",
       "\n",
       "    .dataframe tbody tr th {\n",
       "        vertical-align: top;\n",
       "    }\n",
       "\n",
       "    .dataframe thead th {\n",
       "        text-align: right;\n",
       "    }\n",
       "</style>\n",
       "<table border=\"1\" class=\"dataframe\">\n",
       "  <thead>\n",
       "    <tr style=\"text-align: right;\">\n",
       "      <th></th>\n",
       "      <th>tweet_id</th>\n",
       "      <th>jpg_url</th>\n",
       "      <th>img_num</th>\n",
       "      <th>p1</th>\n",
       "      <th>p1_conf</th>\n",
       "      <th>p1_dog</th>\n",
       "      <th>p2</th>\n",
       "      <th>p2_conf</th>\n",
       "      <th>p2_dog</th>\n",
       "      <th>p3</th>\n",
       "      <th>p3_conf</th>\n",
       "      <th>p3_dog</th>\n",
       "    </tr>\n",
       "  </thead>\n",
       "  <tbody>\n",
       "    <tr>\n",
       "      <th>7</th>\n",
       "      <td>666055525042405380</td>\n",
       "      <td>https://pbs.twimg.com/media/CT5N9tpXIAAifs1.jpg</td>\n",
       "      <td>1</td>\n",
       "      <td>chow</td>\n",
       "      <td>0.692517</td>\n",
       "      <td>True</td>\n",
       "      <td>Tibetan_mastiff</td>\n",
       "      <td>0.058279</td>\n",
       "      <td>True</td>\n",
       "      <td>fur_coat</td>\n",
       "      <td>0.054449</td>\n",
       "      <td>False</td>\n",
       "    </tr>\n",
       "    <tr>\n",
       "      <th>8</th>\n",
       "      <td>666057090499244032</td>\n",
       "      <td>https://pbs.twimg.com/media/CT5PY90WoAAQGLo.jpg</td>\n",
       "      <td>1</td>\n",
       "      <td>shopping_cart</td>\n",
       "      <td>0.962465</td>\n",
       "      <td>False</td>\n",
       "      <td>shopping_basket</td>\n",
       "      <td>0.014594</td>\n",
       "      <td>False</td>\n",
       "      <td>golden_retriever</td>\n",
       "      <td>0.007959</td>\n",
       "      <td>True</td>\n",
       "    </tr>\n",
       "    <tr>\n",
       "      <th>22</th>\n",
       "      <td>666337882303524864</td>\n",
       "      <td>https://pbs.twimg.com/media/CT9OwFIWEAMuRje.jpg</td>\n",
       "      <td>1</td>\n",
       "      <td>ox</td>\n",
       "      <td>0.416669</td>\n",
       "      <td>False</td>\n",
       "      <td>Newfoundland</td>\n",
       "      <td>0.278407</td>\n",
       "      <td>True</td>\n",
       "      <td>groenendael</td>\n",
       "      <td>0.102643</td>\n",
       "      <td>True</td>\n",
       "    </tr>\n",
       "    <tr>\n",
       "      <th>33</th>\n",
       "      <td>666430724426358785</td>\n",
       "      <td>https://pbs.twimg.com/media/CT-jNYqW4AAPi2M.jpg</td>\n",
       "      <td>1</td>\n",
       "      <td>llama</td>\n",
       "      <td>0.505184</td>\n",
       "      <td>False</td>\n",
       "      <td>Irish_terrier</td>\n",
       "      <td>0.104109</td>\n",
       "      <td>True</td>\n",
       "      <td>dingo</td>\n",
       "      <td>0.062071</td>\n",
       "      <td>False</td>\n",
       "    </tr>\n",
       "    <tr>\n",
       "      <th>34</th>\n",
       "      <td>666435652385423360</td>\n",
       "      <td>https://pbs.twimg.com/media/CT-nsTQWEAEkyDn.jpg</td>\n",
       "      <td>1</td>\n",
       "      <td>Chesapeake_Bay_retriever</td>\n",
       "      <td>0.184130</td>\n",
       "      <td>True</td>\n",
       "      <td>chain_saw</td>\n",
       "      <td>0.056775</td>\n",
       "      <td>False</td>\n",
       "      <td>power_drill</td>\n",
       "      <td>0.036763</td>\n",
       "      <td>False</td>\n",
       "    </tr>\n",
       "  </tbody>\n",
       "</table>\n",
       "</div>"
      ],
      "text/plain": [
       "              tweet_id                                          jpg_url  \\\n",
       "7   666055525042405380  https://pbs.twimg.com/media/CT5N9tpXIAAifs1.jpg   \n",
       "8   666057090499244032  https://pbs.twimg.com/media/CT5PY90WoAAQGLo.jpg   \n",
       "22  666337882303524864  https://pbs.twimg.com/media/CT9OwFIWEAMuRje.jpg   \n",
       "33  666430724426358785  https://pbs.twimg.com/media/CT-jNYqW4AAPi2M.jpg   \n",
       "34  666435652385423360  https://pbs.twimg.com/media/CT-nsTQWEAEkyDn.jpg   \n",
       "\n",
       "    img_num                        p1   p1_conf  p1_dog               p2  \\\n",
       "7         1                      chow  0.692517    True  Tibetan_mastiff   \n",
       "8         1             shopping_cart  0.962465   False  shopping_basket   \n",
       "22        1                        ox  0.416669   False     Newfoundland   \n",
       "33        1                     llama  0.505184   False    Irish_terrier   \n",
       "34        1  Chesapeake_Bay_retriever  0.184130    True        chain_saw   \n",
       "\n",
       "     p2_conf  p2_dog                p3   p3_conf  p3_dog  \n",
       "7   0.058279    True          fur_coat  0.054449   False  \n",
       "8   0.014594   False  golden_retriever  0.007959    True  \n",
       "22  0.278407    True       groenendael  0.102643    True  \n",
       "33  0.104109    True             dingo  0.062071   False  \n",
       "34  0.056775   False       power_drill  0.036763   False  "
      ]
     },
     "execution_count": 57,
     "metadata": {},
     "output_type": "execute_result"
    }
   ],
   "source": [
    "# The aim of this filtering is to further help in filtering through the top 3 predictions to get \n",
    "# the top Dog prediction for every value.\n",
    "\n",
    "\n",
    "\n",
    "a = pics_copy[~((pics_copy['p1_dog'] == True) & \n",
    "       (pics_copy['p2_dog'] == True) & \n",
    "       (pics_copy['p3_dog'] == True))]\n",
    "a.head()  "
   ]
  },
  {
   "cell_type": "markdown",
   "id": "8ea20596",
   "metadata": {},
   "source": [
    "##### All first predictions are True"
   ]
  },
  {
   "cell_type": "code",
   "execution_count": 58,
   "id": "fd705391",
   "metadata": {},
   "outputs": [],
   "source": [
    "first_T = a[a['p1_dog'] ==  True] "
   ]
  },
  {
   "cell_type": "markdown",
   "id": "401bf8f8",
   "metadata": {},
   "source": [
    "##### Dropping the second and third prediction since the first prediction is True"
   ]
  },
  {
   "cell_type": "code",
   "execution_count": 59,
   "id": "57976807",
   "metadata": {},
   "outputs": [
    {
     "name": "stderr",
     "output_type": "stream",
     "text": [
      "C:\\Users\\JohnInalegwu\\anaconda3\\lib\\site-packages\\pandas\\core\\frame.py:4906: SettingWithCopyWarning: \n",
      "A value is trying to be set on a copy of a slice from a DataFrame\n",
      "\n",
      "See the caveats in the documentation: https://pandas.pydata.org/pandas-docs/stable/user_guide/indexing.html#returning-a-view-versus-a-copy\n",
      "  return super().drop(\n"
     ]
    }
   ],
   "source": [
    "first_T.drop(['p2','p2_conf', 'p2_dog', 'p3', 'p3_conf', 'p3_dog'], axis=1, inplace = True)"
   ]
  },
  {
   "cell_type": "markdown",
   "id": "d6ecc2fc",
   "metadata": {},
   "source": [
    "##### All first prediction are False and second predictions are True"
   ]
  },
  {
   "cell_type": "code",
   "execution_count": 60,
   "id": "f4b76ccb",
   "metadata": {},
   "outputs": [],
   "source": [
    "second_T = a[(a['p2_dog'] ==  True) & (a['p1_dog'] ==  False)] "
   ]
  },
  {
   "cell_type": "markdown",
   "id": "c9476e2a",
   "metadata": {},
   "source": [
    "##### Dropping **the first and third** prediction since the first prediction is True"
   ]
  },
  {
   "cell_type": "code",
   "execution_count": 61,
   "id": "60c8ca8b",
   "metadata": {},
   "outputs": [],
   "source": [
    "second_T.drop(['p1','p1_conf', 'p1_dog', 'p3', 'p3_conf', 'p3_dog'], axis=1, inplace = True)"
   ]
  },
  {
   "cell_type": "markdown",
   "id": "ea574c1d",
   "metadata": {},
   "source": [
    "##### All first and second predictions are False and third predictions only are True"
   ]
  },
  {
   "cell_type": "code",
   "execution_count": 62,
   "id": "69c41796",
   "metadata": {},
   "outputs": [],
   "source": [
    "third_T = a[(a['p3_dog'] ==  True) & (a['p2_dog'] ==  False) &  (a['p1_dog'] ==  False)]"
   ]
  },
  {
   "cell_type": "markdown",
   "id": "42743723",
   "metadata": {},
   "source": [
    "##### Dropping **the first and second** prediction since the first prediction is True"
   ]
  },
  {
   "cell_type": "code",
   "execution_count": 63,
   "id": "de594ec2",
   "metadata": {},
   "outputs": [],
   "source": [
    "third_T.drop(['p1','p1_conf', 'p1_dog', 'p2', 'p2_conf', 'p2_dog'], axis=1, inplace = True)"
   ]
  },
  {
   "cell_type": "code",
   "execution_count": null,
   "id": "a99ac885",
   "metadata": {},
   "outputs": [],
   "source": []
  },
  {
   "cell_type": "code",
   "execution_count": 64,
   "id": "579ca450",
   "metadata": {},
   "outputs": [
    {
     "name": "stderr",
     "output_type": "stream",
     "text": [
      "C:\\Users\\JohnInalegwu\\anaconda3\\lib\\site-packages\\pandas\\core\\frame.py:5039: SettingWithCopyWarning: \n",
      "A value is trying to be set on a copy of a slice from a DataFrame\n",
      "\n",
      "See the caveats in the documentation: https://pandas.pydata.org/pandas-docs/stable/user_guide/indexing.html#returning-a-view-versus-a-copy\n",
      "  return super().rename(\n",
      "C:\\Users\\JOHNIN~1\\AppData\\Local\\Temp/ipykernel_2028/2182498468.py:2: SettingWithCopyWarning: \n",
      "A value is trying to be set on a copy of a slice from a DataFrame.\n",
      "Try using .loc[row_indexer,col_indexer] = value instead\n",
      "\n",
      "See the caveats in the documentation: https://pandas.pydata.org/pandas-docs/stable/user_guide/indexing.html#returning-a-view-versus-a-copy\n",
      "  all_True['prediction_rank'] = 'first'\n",
      "C:\\Users\\JOHNIN~1\\AppData\\Local\\Temp/ipykernel_2028/2182498468.py:6: SettingWithCopyWarning: \n",
      "A value is trying to be set on a copy of a slice from a DataFrame.\n",
      "Try using .loc[row_indexer,col_indexer] = value instead\n",
      "\n",
      "See the caveats in the documentation: https://pandas.pydata.org/pandas-docs/stable/user_guide/indexing.html#returning-a-view-versus-a-copy\n",
      "  first_T['prediction_rank'] = 'first'\n",
      "C:\\Users\\JOHNIN~1\\AppData\\Local\\Temp/ipykernel_2028/2182498468.py:11: SettingWithCopyWarning: \n",
      "A value is trying to be set on a copy of a slice from a DataFrame.\n",
      "Try using .loc[row_indexer,col_indexer] = value instead\n",
      "\n",
      "See the caveats in the documentation: https://pandas.pydata.org/pandas-docs/stable/user_guide/indexing.html#returning-a-view-versus-a-copy\n",
      "  second_T['prediction_rank'] = 'second'\n",
      "C:\\Users\\JOHNIN~1\\AppData\\Local\\Temp/ipykernel_2028/2182498468.py:16: SettingWithCopyWarning: \n",
      "A value is trying to be set on a copy of a slice from a DataFrame.\n",
      "Try using .loc[row_indexer,col_indexer] = value instead\n",
      "\n",
      "See the caveats in the documentation: https://pandas.pydata.org/pandas-docs/stable/user_guide/indexing.html#returning-a-view-versus-a-copy\n",
      "  third_T['prediction_rank'] = 'third'\n"
     ]
    }
   ],
   "source": [
    "all_True.rename(columns={'p1': 'dog_breed', 'p1_conf':'confidence_score'}, inplace = True)\n",
    "all_True['prediction_rank'] = 'first'\n",
    "del all_True['p1_dog']\n",
    "\n",
    "first_T.rename(columns={'p1': 'dog_breed', 'p1_conf':'confidence_score'}, inplace = True)\n",
    "first_T['prediction_rank'] = 'first'\n",
    "del first_T['p1_dog']\n",
    "\n",
    "\n",
    "second_T.rename(columns={'p2': 'dog_breed', 'p2_conf':'confidence_score'}, inplace = True)\n",
    "second_T['prediction_rank'] = 'second'\n",
    "del second_T['p2_dog']\n",
    "\n",
    "\n",
    "third_T.rename(columns={'p3': 'dog_breed', 'p3_conf':'confidence_score'}, inplace = True)\n",
    "third_T['prediction_rank'] = 'third'\n",
    "del third_T['p3_dog']"
   ]
  },
  {
   "cell_type": "code",
   "execution_count": 65,
   "id": "8d6b956b",
   "metadata": {},
   "outputs": [],
   "source": [
    "pics_copy = pd.concat([all_True, first_T, second_T, third_T])"
   ]
  },
  {
   "cell_type": "markdown",
   "id": "e09a5933",
   "metadata": {},
   "source": [
    "This brings us to a partial end of our wrangle process, Just to take a glimpse of what we've done so far in transforming our data, we would be taking a look at the before and after wrangling of our dataset"
   ]
  },
  {
   "cell_type": "markdown",
   "id": "53765bd7",
   "metadata": {},
   "source": [
    "# BEFORE WRANGLING   [TWITTER ARCHIVE]"
   ]
  },
  {
   "cell_type": "code",
   "execution_count": 66,
   "id": "43517a55",
   "metadata": {},
   "outputs": [
    {
     "data": {
      "text/html": [
       "<div>\n",
       "<style scoped>\n",
       "    .dataframe tbody tr th:only-of-type {\n",
       "        vertical-align: middle;\n",
       "    }\n",
       "\n",
       "    .dataframe tbody tr th {\n",
       "        vertical-align: top;\n",
       "    }\n",
       "\n",
       "    .dataframe thead th {\n",
       "        text-align: right;\n",
       "    }\n",
       "</style>\n",
       "<table border=\"1\" class=\"dataframe\">\n",
       "  <thead>\n",
       "    <tr style=\"text-align: right;\">\n",
       "      <th></th>\n",
       "      <th>tweet_id</th>\n",
       "      <th>in_reply_to_status_id</th>\n",
       "      <th>in_reply_to_user_id</th>\n",
       "      <th>timestamp</th>\n",
       "      <th>source</th>\n",
       "      <th>text</th>\n",
       "      <th>retweeted_status_id</th>\n",
       "      <th>retweeted_status_user_id</th>\n",
       "      <th>retweeted_status_timestamp</th>\n",
       "      <th>expanded_urls</th>\n",
       "      <th>rating_numerator</th>\n",
       "      <th>rating_denominator</th>\n",
       "      <th>name</th>\n",
       "      <th>doggo</th>\n",
       "      <th>floofer</th>\n",
       "      <th>pupper</th>\n",
       "      <th>puppo</th>\n",
       "    </tr>\n",
       "  </thead>\n",
       "  <tbody>\n",
       "    <tr>\n",
       "      <th>0</th>\n",
       "      <td>892420643555336193</td>\n",
       "      <td>NaN</td>\n",
       "      <td>NaN</td>\n",
       "      <td>2017-08-01 16:23:56 +0000</td>\n",
       "      <td>&lt;a href=\"http://twitter.com/download/iphone\" r...</td>\n",
       "      <td>This is Phineas. He's a mystical boy. Only eve...</td>\n",
       "      <td>NaN</td>\n",
       "      <td>NaN</td>\n",
       "      <td>NaN</td>\n",
       "      <td>https://twitter.com/dog_rates/status/892420643...</td>\n",
       "      <td>13</td>\n",
       "      <td>10</td>\n",
       "      <td>Phineas</td>\n",
       "      <td>None</td>\n",
       "      <td>None</td>\n",
       "      <td>None</td>\n",
       "      <td>None</td>\n",
       "    </tr>\n",
       "    <tr>\n",
       "      <th>1</th>\n",
       "      <td>892177421306343426</td>\n",
       "      <td>NaN</td>\n",
       "      <td>NaN</td>\n",
       "      <td>2017-08-01 00:17:27 +0000</td>\n",
       "      <td>&lt;a href=\"http://twitter.com/download/iphone\" r...</td>\n",
       "      <td>This is Tilly. She's just checking pup on you....</td>\n",
       "      <td>NaN</td>\n",
       "      <td>NaN</td>\n",
       "      <td>NaN</td>\n",
       "      <td>https://twitter.com/dog_rates/status/892177421...</td>\n",
       "      <td>13</td>\n",
       "      <td>10</td>\n",
       "      <td>Tilly</td>\n",
       "      <td>None</td>\n",
       "      <td>None</td>\n",
       "      <td>None</td>\n",
       "      <td>None</td>\n",
       "    </tr>\n",
       "  </tbody>\n",
       "</table>\n",
       "</div>"
      ],
      "text/plain": [
       "             tweet_id  in_reply_to_status_id  in_reply_to_user_id  \\\n",
       "0  892420643555336193                    NaN                  NaN   \n",
       "1  892177421306343426                    NaN                  NaN   \n",
       "\n",
       "                   timestamp  \\\n",
       "0  2017-08-01 16:23:56 +0000   \n",
       "1  2017-08-01 00:17:27 +0000   \n",
       "\n",
       "                                              source  \\\n",
       "0  <a href=\"http://twitter.com/download/iphone\" r...   \n",
       "1  <a href=\"http://twitter.com/download/iphone\" r...   \n",
       "\n",
       "                                                text  retweeted_status_id  \\\n",
       "0  This is Phineas. He's a mystical boy. Only eve...                  NaN   \n",
       "1  This is Tilly. She's just checking pup on you....                  NaN   \n",
       "\n",
       "   retweeted_status_user_id retweeted_status_timestamp  \\\n",
       "0                       NaN                        NaN   \n",
       "1                       NaN                        NaN   \n",
       "\n",
       "                                       expanded_urls  rating_numerator  \\\n",
       "0  https://twitter.com/dog_rates/status/892420643...                13   \n",
       "1  https://twitter.com/dog_rates/status/892177421...                13   \n",
       "\n",
       "   rating_denominator     name doggo floofer pupper puppo  \n",
       "0                  10  Phineas  None    None   None  None  \n",
       "1                  10    Tilly  None    None   None  None  "
      ]
     },
     "execution_count": 66,
     "metadata": {},
     "output_type": "execute_result"
    }
   ],
   "source": [
    "tweets.head(2)"
   ]
  },
  {
   "cell_type": "markdown",
   "id": "f955250e",
   "metadata": {},
   "source": [
    "# AFTER WRANGLING [TWITTER ARCHIVE]"
   ]
  },
  {
   "cell_type": "code",
   "execution_count": 67,
   "id": "c41313e9",
   "metadata": {},
   "outputs": [
    {
     "data": {
      "text/html": [
       "<div>\n",
       "<style scoped>\n",
       "    .dataframe tbody tr th:only-of-type {\n",
       "        vertical-align: middle;\n",
       "    }\n",
       "\n",
       "    .dataframe tbody tr th {\n",
       "        vertical-align: top;\n",
       "    }\n",
       "\n",
       "    .dataframe thead th {\n",
       "        text-align: right;\n",
       "    }\n",
       "</style>\n",
       "<table border=\"1\" class=\"dataframe\">\n",
       "  <thead>\n",
       "    <tr style=\"text-align: right;\">\n",
       "      <th></th>\n",
       "      <th>tweet_id</th>\n",
       "      <th>date</th>\n",
       "      <th>time</th>\n",
       "      <th>text</th>\n",
       "      <th>rating_numerator</th>\n",
       "      <th>rating_denominator</th>\n",
       "      <th>name</th>\n",
       "      <th>dog_stage</th>\n",
       "    </tr>\n",
       "  </thead>\n",
       "  <tbody>\n",
       "    <tr>\n",
       "      <th>0</th>\n",
       "      <td>892420643555336193</td>\n",
       "      <td>2017-08-01</td>\n",
       "      <td>16:23:56</td>\n",
       "      <td>This is Phineas. He's a mystical boy. Only eve...</td>\n",
       "      <td>13</td>\n",
       "      <td>10</td>\n",
       "      <td>Phineas</td>\n",
       "      <td>NaN</td>\n",
       "    </tr>\n",
       "    <tr>\n",
       "      <th>1</th>\n",
       "      <td>892177421306343426</td>\n",
       "      <td>2017-08-01</td>\n",
       "      <td>00:17:27</td>\n",
       "      <td>This is Tilly. She's just checking pup on you....</td>\n",
       "      <td>13</td>\n",
       "      <td>10</td>\n",
       "      <td>Tilly</td>\n",
       "      <td>NaN</td>\n",
       "    </tr>\n",
       "  </tbody>\n",
       "</table>\n",
       "</div>"
      ],
      "text/plain": [
       "             tweet_id       date      time  \\\n",
       "0  892420643555336193 2017-08-01  16:23:56   \n",
       "1  892177421306343426 2017-08-01  00:17:27   \n",
       "\n",
       "                                                text rating_numerator  \\\n",
       "0  This is Phineas. He's a mystical boy. Only eve...               13   \n",
       "1  This is Tilly. She's just checking pup on you....               13   \n",
       "\n",
       "  rating_denominator     name dog_stage  \n",
       "0                 10  Phineas       NaN  \n",
       "1                 10    Tilly       NaN  "
      ]
     },
     "execution_count": 67,
     "metadata": {},
     "output_type": "execute_result"
    }
   ],
   "source": [
    "tweets_copy.head(2)"
   ]
  },
  {
   "cell_type": "markdown",
   "id": "0779ce21",
   "metadata": {},
   "source": [
    "# BEFORE WRANGLING [IMAGE PREDICTION]"
   ]
  },
  {
   "cell_type": "code",
   "execution_count": 68,
   "id": "b3b145a3",
   "metadata": {},
   "outputs": [
    {
     "data": {
      "text/html": [
       "<div>\n",
       "<style scoped>\n",
       "    .dataframe tbody tr th:only-of-type {\n",
       "        vertical-align: middle;\n",
       "    }\n",
       "\n",
       "    .dataframe tbody tr th {\n",
       "        vertical-align: top;\n",
       "    }\n",
       "\n",
       "    .dataframe thead th {\n",
       "        text-align: right;\n",
       "    }\n",
       "</style>\n",
       "<table border=\"1\" class=\"dataframe\">\n",
       "  <thead>\n",
       "    <tr style=\"text-align: right;\">\n",
       "      <th></th>\n",
       "      <th>tweet_id</th>\n",
       "      <th>jpg_url</th>\n",
       "      <th>img_num</th>\n",
       "      <th>p1</th>\n",
       "      <th>p1_conf</th>\n",
       "      <th>p1_dog</th>\n",
       "      <th>p2</th>\n",
       "      <th>p2_conf</th>\n",
       "      <th>p2_dog</th>\n",
       "      <th>p3</th>\n",
       "      <th>p3_conf</th>\n",
       "      <th>p3_dog</th>\n",
       "    </tr>\n",
       "  </thead>\n",
       "  <tbody>\n",
       "    <tr>\n",
       "      <th>0</th>\n",
       "      <td>666020888022790149</td>\n",
       "      <td>https://pbs.twimg.com/media/CT4udn0WwAA0aMy.jpg</td>\n",
       "      <td>1</td>\n",
       "      <td>Welsh_springer_spaniel</td>\n",
       "      <td>0.465074</td>\n",
       "      <td>True</td>\n",
       "      <td>collie</td>\n",
       "      <td>0.156665</td>\n",
       "      <td>True</td>\n",
       "      <td>Shetland_sheepdog</td>\n",
       "      <td>0.061428</td>\n",
       "      <td>True</td>\n",
       "    </tr>\n",
       "    <tr>\n",
       "      <th>1</th>\n",
       "      <td>666029285002620928</td>\n",
       "      <td>https://pbs.twimg.com/media/CT42GRgUYAA5iDo.jpg</td>\n",
       "      <td>1</td>\n",
       "      <td>redbone</td>\n",
       "      <td>0.506826</td>\n",
       "      <td>True</td>\n",
       "      <td>miniature_pinscher</td>\n",
       "      <td>0.074192</td>\n",
       "      <td>True</td>\n",
       "      <td>Rhodesian_ridgeback</td>\n",
       "      <td>0.072010</td>\n",
       "      <td>True</td>\n",
       "    </tr>\n",
       "  </tbody>\n",
       "</table>\n",
       "</div>"
      ],
      "text/plain": [
       "             tweet_id                                          jpg_url  \\\n",
       "0  666020888022790149  https://pbs.twimg.com/media/CT4udn0WwAA0aMy.jpg   \n",
       "1  666029285002620928  https://pbs.twimg.com/media/CT42GRgUYAA5iDo.jpg   \n",
       "\n",
       "   img_num                      p1   p1_conf  p1_dog                  p2  \\\n",
       "0        1  Welsh_springer_spaniel  0.465074    True              collie   \n",
       "1        1                 redbone  0.506826    True  miniature_pinscher   \n",
       "\n",
       "    p2_conf  p2_dog                   p3   p3_conf  p3_dog  \n",
       "0  0.156665    True    Shetland_sheepdog  0.061428    True  \n",
       "1  0.074192    True  Rhodesian_ridgeback  0.072010    True  "
      ]
     },
     "execution_count": 68,
     "metadata": {},
     "output_type": "execute_result"
    }
   ],
   "source": [
    "pics.head(2)"
   ]
  },
  {
   "cell_type": "markdown",
   "id": "7942889a",
   "metadata": {},
   "source": [
    "# AFTER WRANGLING [IMAGE PREDICTION]"
   ]
  },
  {
   "cell_type": "code",
   "execution_count": 69,
   "id": "ecd73fc4",
   "metadata": {},
   "outputs": [
    {
     "data": {
      "text/html": [
       "<div>\n",
       "<style scoped>\n",
       "    .dataframe tbody tr th:only-of-type {\n",
       "        vertical-align: middle;\n",
       "    }\n",
       "\n",
       "    .dataframe tbody tr th {\n",
       "        vertical-align: top;\n",
       "    }\n",
       "\n",
       "    .dataframe thead th {\n",
       "        text-align: right;\n",
       "    }\n",
       "</style>\n",
       "<table border=\"1\" class=\"dataframe\">\n",
       "  <thead>\n",
       "    <tr style=\"text-align: right;\">\n",
       "      <th></th>\n",
       "      <th>tweet_id</th>\n",
       "      <th>jpg_url</th>\n",
       "      <th>img_num</th>\n",
       "      <th>dog_breed</th>\n",
       "      <th>confidence_score</th>\n",
       "      <th>prediction_rank</th>\n",
       "    </tr>\n",
       "  </thead>\n",
       "  <tbody>\n",
       "    <tr>\n",
       "      <th>0</th>\n",
       "      <td>666020888022790149</td>\n",
       "      <td>https://pbs.twimg.com/media/CT4udn0WwAA0aMy.jpg</td>\n",
       "      <td>1</td>\n",
       "      <td>Welsh_springer_spaniel</td>\n",
       "      <td>0.465074</td>\n",
       "      <td>first</td>\n",
       "    </tr>\n",
       "    <tr>\n",
       "      <th>1</th>\n",
       "      <td>666029285002620928</td>\n",
       "      <td>https://pbs.twimg.com/media/CT42GRgUYAA5iDo.jpg</td>\n",
       "      <td>1</td>\n",
       "      <td>redbone</td>\n",
       "      <td>0.506826</td>\n",
       "      <td>first</td>\n",
       "    </tr>\n",
       "  </tbody>\n",
       "</table>\n",
       "</div>"
      ],
      "text/plain": [
       "             tweet_id                                          jpg_url  \\\n",
       "0  666020888022790149  https://pbs.twimg.com/media/CT4udn0WwAA0aMy.jpg   \n",
       "1  666029285002620928  https://pbs.twimg.com/media/CT42GRgUYAA5iDo.jpg   \n",
       "\n",
       "   img_num               dog_breed  confidence_score prediction_rank  \n",
       "0        1  Welsh_springer_spaniel          0.465074           first  \n",
       "1        1                 redbone          0.506826           first  "
      ]
     },
     "execution_count": 69,
     "metadata": {},
     "output_type": "execute_result"
    }
   ],
   "source": [
    "pics_copy.head(2)"
   ]
  },
  {
   "cell_type": "markdown",
   "id": "e8a5926c",
   "metadata": {},
   "source": [
    "# BEFORE WRANGLING [RETWEET AND LIKES]"
   ]
  },
  {
   "cell_type": "code",
   "execution_count": 70,
   "id": "31a43ff6",
   "metadata": {},
   "outputs": [
    {
     "data": {
      "text/html": [
       "<div>\n",
       "<style scoped>\n",
       "    .dataframe tbody tr th:only-of-type {\n",
       "        vertical-align: middle;\n",
       "    }\n",
       "\n",
       "    .dataframe tbody tr th {\n",
       "        vertical-align: top;\n",
       "    }\n",
       "\n",
       "    .dataframe thead th {\n",
       "        text-align: right;\n",
       "    }\n",
       "</style>\n",
       "<table border=\"1\" class=\"dataframe\">\n",
       "  <thead>\n",
       "    <tr style=\"text-align: right;\">\n",
       "      <th></th>\n",
       "      <th>id</th>\n",
       "      <th>favorite_count</th>\n",
       "      <th>retweet_count</th>\n",
       "    </tr>\n",
       "  </thead>\n",
       "  <tbody>\n",
       "    <tr>\n",
       "      <th>0</th>\n",
       "      <td>892420643555336193</td>\n",
       "      <td>33823</td>\n",
       "      <td>7010</td>\n",
       "    </tr>\n",
       "    <tr>\n",
       "      <th>1</th>\n",
       "      <td>892177421306343426</td>\n",
       "      <td>29337</td>\n",
       "      <td>5302</td>\n",
       "    </tr>\n",
       "  </tbody>\n",
       "</table>\n",
       "</div>"
      ],
      "text/plain": [
       "                   id  favorite_count  retweet_count\n",
       "0  892420643555336193           33823           7010\n",
       "1  892177421306343426           29337           5302"
      ]
     },
     "execution_count": 70,
     "metadata": {},
     "output_type": "execute_result"
    }
   ],
   "source": [
    "rt_likes.head(2)"
   ]
  },
  {
   "cell_type": "markdown",
   "id": "e7660058",
   "metadata": {},
   "source": [
    "# AFTER WRANGLING [RETWEET AND LIKES]"
   ]
  },
  {
   "cell_type": "code",
   "execution_count": 71,
   "id": "5517da0b",
   "metadata": {},
   "outputs": [
    {
     "data": {
      "text/html": [
       "<div>\n",
       "<style scoped>\n",
       "    .dataframe tbody tr th:only-of-type {\n",
       "        vertical-align: middle;\n",
       "    }\n",
       "\n",
       "    .dataframe tbody tr th {\n",
       "        vertical-align: top;\n",
       "    }\n",
       "\n",
       "    .dataframe thead th {\n",
       "        text-align: right;\n",
       "    }\n",
       "</style>\n",
       "<table border=\"1\" class=\"dataframe\">\n",
       "  <thead>\n",
       "    <tr style=\"text-align: right;\">\n",
       "      <th></th>\n",
       "      <th>tweet_id</th>\n",
       "      <th>favorite_count</th>\n",
       "      <th>retweet_count</th>\n",
       "    </tr>\n",
       "  </thead>\n",
       "  <tbody>\n",
       "    <tr>\n",
       "      <th>0</th>\n",
       "      <td>892420643555336193</td>\n",
       "      <td>33823</td>\n",
       "      <td>7010</td>\n",
       "    </tr>\n",
       "    <tr>\n",
       "      <th>1</th>\n",
       "      <td>892177421306343426</td>\n",
       "      <td>29337</td>\n",
       "      <td>5302</td>\n",
       "    </tr>\n",
       "  </tbody>\n",
       "</table>\n",
       "</div>"
      ],
      "text/plain": [
       "             tweet_id  favorite_count  retweet_count\n",
       "0  892420643555336193           33823           7010\n",
       "1  892177421306343426           29337           5302"
      ]
     },
     "execution_count": 71,
     "metadata": {},
     "output_type": "execute_result"
    }
   ],
   "source": [
    "rt_likes_copy.head(2)"
   ]
  },
  {
   "cell_type": "code",
   "execution_count": null,
   "id": "d3303783",
   "metadata": {},
   "outputs": [],
   "source": []
  },
  {
   "cell_type": "markdown",
   "id": "c7e5104a",
   "metadata": {},
   "source": [
    "### Merging all cleaned datasets into one"
   ]
  },
  {
   "cell_type": "code",
   "execution_count": 72,
   "id": "61f007d3",
   "metadata": {},
   "outputs": [],
   "source": [
    "new_twitter_archive = tweets_copy.merge(pics_copy, how='left', \n",
    "                                        on='tweet_id').merge(rt_likes_copy, how='left', on='tweet_id')"
   ]
  },
  {
   "cell_type": "markdown",
   "id": "9a8d17e4",
   "metadata": {},
   "source": [
    "### Saving dataset"
   ]
  },
  {
   "cell_type": "code",
   "execution_count": 73,
   "id": "ed9bfb50",
   "metadata": {},
   "outputs": [],
   "source": [
    "new_twitter_archive.to_csv('twitter_archive_master.csv', index=False )"
   ]
  },
  {
   "cell_type": "code",
   "execution_count": null,
   "id": "dff110b7",
   "metadata": {},
   "outputs": [],
   "source": []
  },
  {
   "cell_type": "markdown",
   "id": "61785c7d",
   "metadata": {},
   "source": [
    "So much work put into the wrangling process is definitely not to give the dataset some sort of aesthetical feel or look, but sometimes you just really have to appreciate the finish product of the wrangling process. Taking a look of the dataset after wrangling process, it just sets you ahead towards creating some amazing insights and analysis. Imagine, how can someome be critical and craetive while working on a dirty environment, definitely not me. That's why it's always important to clean up the dataset before proceeding into analysis, as this would not only give you a clean and well structured dataset at the end of the wrangling process, but it would connect you more with the dataset you're working on, inspire you towards amazing insights and asking the right questionsabout the dataset. \n",
    "\n",
    "\n",
    "Having said all that, I'm so much eager towards getting started with this dataset, exploring, visualizing and drawing data influenced conclusions."
   ]
  },
  {
   "cell_type": "code",
   "execution_count": null,
   "id": "ae33f0be",
   "metadata": {},
   "outputs": [],
   "source": []
  },
  {
   "cell_type": "markdown",
   "id": "d1b68400",
   "metadata": {},
   "source": [
    "### Reading in our saved wrangled dataset"
   ]
  },
  {
   "cell_type": "code",
   "execution_count": 203,
   "id": "ec10e825",
   "metadata": {},
   "outputs": [
    {
     "data": {
      "text/html": [
       "<div>\n",
       "<style scoped>\n",
       "    .dataframe tbody tr th:only-of-type {\n",
       "        vertical-align: middle;\n",
       "    }\n",
       "\n",
       "    .dataframe tbody tr th {\n",
       "        vertical-align: top;\n",
       "    }\n",
       "\n",
       "    .dataframe thead th {\n",
       "        text-align: right;\n",
       "    }\n",
       "</style>\n",
       "<table border=\"1\" class=\"dataframe\">\n",
       "  <thead>\n",
       "    <tr style=\"text-align: right;\">\n",
       "      <th></th>\n",
       "      <th>tweet_id</th>\n",
       "      <th>date</th>\n",
       "      <th>time</th>\n",
       "      <th>text</th>\n",
       "      <th>rating_numerator</th>\n",
       "      <th>rating_denominator</th>\n",
       "      <th>name</th>\n",
       "      <th>dog_stage</th>\n",
       "      <th>jpg_url</th>\n",
       "      <th>img_num</th>\n",
       "      <th>dog_breed</th>\n",
       "      <th>confidence_score</th>\n",
       "      <th>prediction_rank</th>\n",
       "      <th>favorite_count</th>\n",
       "      <th>retweet_count</th>\n",
       "    </tr>\n",
       "  </thead>\n",
       "  <tbody>\n",
       "    <tr>\n",
       "      <th>0</th>\n",
       "      <td>892420643555336193</td>\n",
       "      <td>2017-08-01</td>\n",
       "      <td>16:23:56</td>\n",
       "      <td>This is Phineas. He's a mystical boy. Only eve...</td>\n",
       "      <td>13</td>\n",
       "      <td>10</td>\n",
       "      <td>Phineas</td>\n",
       "      <td>NaN</td>\n",
       "      <td>NaN</td>\n",
       "      <td>NaN</td>\n",
       "      <td>NaN</td>\n",
       "      <td>NaN</td>\n",
       "      <td>NaN</td>\n",
       "      <td>33823.0</td>\n",
       "      <td>7010.0</td>\n",
       "    </tr>\n",
       "    <tr>\n",
       "      <th>1</th>\n",
       "      <td>892177421306343426</td>\n",
       "      <td>2017-08-01</td>\n",
       "      <td>00:17:27</td>\n",
       "      <td>This is Tilly. She's just checking pup on you....</td>\n",
       "      <td>13</td>\n",
       "      <td>10</td>\n",
       "      <td>Tilly</td>\n",
       "      <td>NaN</td>\n",
       "      <td>https://pbs.twimg.com/media/DGGmoV4XsAAUL6n.jpg</td>\n",
       "      <td>1.0</td>\n",
       "      <td>Chihuahua</td>\n",
       "      <td>0.323581</td>\n",
       "      <td>first</td>\n",
       "      <td>29337.0</td>\n",
       "      <td>5302.0</td>\n",
       "    </tr>\n",
       "    <tr>\n",
       "      <th>2</th>\n",
       "      <td>891815181378084864</td>\n",
       "      <td>2017-07-31</td>\n",
       "      <td>00:18:03</td>\n",
       "      <td>This is Archie. He is a rare Norwegian Pouncin...</td>\n",
       "      <td>12</td>\n",
       "      <td>10</td>\n",
       "      <td>Archie</td>\n",
       "      <td>NaN</td>\n",
       "      <td>https://pbs.twimg.com/media/DGBdLU1WsAANxJ9.jpg</td>\n",
       "      <td>1.0</td>\n",
       "      <td>Chihuahua</td>\n",
       "      <td>0.716012</td>\n",
       "      <td>first</td>\n",
       "      <td>22069.0</td>\n",
       "      <td>3482.0</td>\n",
       "    </tr>\n",
       "  </tbody>\n",
       "</table>\n",
       "</div>"
      ],
      "text/plain": [
       "             tweet_id        date      time  \\\n",
       "0  892420643555336193  2017-08-01  16:23:56   \n",
       "1  892177421306343426  2017-08-01  00:17:27   \n",
       "2  891815181378084864  2017-07-31  00:18:03   \n",
       "\n",
       "                                                text  rating_numerator  \\\n",
       "0  This is Phineas. He's a mystical boy. Only eve...                13   \n",
       "1  This is Tilly. She's just checking pup on you....                13   \n",
       "2  This is Archie. He is a rare Norwegian Pouncin...                12   \n",
       "\n",
       "   rating_denominator     name dog_stage  \\\n",
       "0                  10  Phineas       NaN   \n",
       "1                  10    Tilly       NaN   \n",
       "2                  10   Archie       NaN   \n",
       "\n",
       "                                           jpg_url  img_num  dog_breed  \\\n",
       "0                                              NaN      NaN        NaN   \n",
       "1  https://pbs.twimg.com/media/DGGmoV4XsAAUL6n.jpg      1.0  Chihuahua   \n",
       "2  https://pbs.twimg.com/media/DGBdLU1WsAANxJ9.jpg      1.0  Chihuahua   \n",
       "\n",
       "   confidence_score prediction_rank  favorite_count  retweet_count  \n",
       "0               NaN             NaN         33823.0         7010.0  \n",
       "1          0.323581           first         29337.0         5302.0  \n",
       "2          0.716012           first         22069.0         3482.0  "
      ]
     },
     "execution_count": 203,
     "metadata": {},
     "output_type": "execute_result"
    }
   ],
   "source": [
    "df = pd.read_csv('twitter_archive_master.csv')\n",
    "\n",
    "df.head(3)"
   ]
  },
  {
   "cell_type": "markdown",
   "id": "0a25ce52",
   "metadata": {},
   "source": [
    "1. Dog with the highest and lowest rating_numerator?\n",
    "2. The most common Dog name?\n",
    "3. The most common Dog stage?\n",
    "4. The most common predicted Dog breed?\n",
    "5. The most common words used by weratedogs?\n",
    "7. The tweet with the highest retweet \n",
    "8. The tweet with the highest likes\n",
    "9. What hour of the day do weratedogs tweet most?\n",
    "10. How have the retweet and likes count grown for weratedogs by month and year\n",
    "11. The days with less or no activities on weratedogs page\n",
    "12. How often does we rate Dogs rate Dogs?"
   ]
  },
  {
   "cell_type": "code",
   "execution_count": null,
   "id": "1158a7e5",
   "metadata": {},
   "outputs": [],
   "source": []
  },
  {
   "cell_type": "markdown",
   "id": "a80b98f0",
   "metadata": {},
   "source": [
    "### Most liked Dog rating tweet"
   ]
  },
  {
   "cell_type": "code",
   "execution_count": 75,
   "id": "1c55b78c",
   "metadata": {},
   "outputs": [],
   "source": [
    "likes = df.sort_values('favorite_count', ascending = False).head(1)['favorite_count'][348]\n",
    "\n",
    "date = df.sort_values('favorite_count', ascending = False).head(1)['date'][348]\n",
    "\n",
    "nume = df.sort_values('favorite_count', ascending = False).head(1)['rating_numerator'][348]\n",
    "\n",
    "deno = df.sort_values('favorite_count', ascending = False).head(1)['rating_denominator'][348]\n",
    "\n",
    "time = df.sort_values('favorite_count', ascending = False).head(1)['time'][348]\n",
    "\n",
    "text = df.sort_values('favorite_count', ascending = False).head(1)['text'][348]"
   ]
  },
  {
   "cell_type": "code",
   "execution_count": 76,
   "id": "4f3a4e49",
   "metadata": {},
   "outputs": [
    {
     "name": "stdout",
     "output_type": "stream",
     "text": [
      "The tweet made by weratedogs on 2017-01-21 at about 18:26:02 has the highest number of likes for any of their single tweet, with a total   likes of 124150.0, this tweet remains their top liked tweet within this time frame. \n",
      "\t The tweet about the dog was: 'Here's a super supportive puppo participating in the Toronto   today.  '\n",
      "Attached below is the photo of the dog.\n",
      "The Dog rating is 13/10\n"
     ]
    },
    {
     "ename": "TypeError",
     "evalue": "'module' object is not callable",
     "output_type": "error",
     "traceback": [
      "\u001b[1;31m---------------------------------------------------------------------------\u001b[0m",
      "\u001b[1;31mTypeError\u001b[0m                                 Traceback (most recent call last)",
      "\u001b[1;32mC:\\Users\\JOHNIN~1\\AppData\\Local\\Temp/ipykernel_2028/2640836625.py\u001b[0m in \u001b[0;36m<module>\u001b[1;34m\u001b[0m\n\u001b[0;32m      1\u001b[0m \u001b[0mprint\u001b[0m\u001b[1;33m(\u001b[0m\u001b[1;34mf\"The tweet made by weratedogs on {date} at about {time} has the highest number of likes for any of their single tweet, with a total   likes of {likes}, this tweet remains their top liked tweet within this time frame. \\n\\t The tweet about the dog was: '{text}'\\nAttached below is the photo of the dog.\\nThe Dog rating is {nume}/{deno}\"\u001b[0m\u001b[1;33m)\u001b[0m\u001b[1;33m\u001b[0m\u001b[1;33m\u001b[0m\u001b[0m\n\u001b[0;32m      2\u001b[0m \u001b[1;33m\u001b[0m\u001b[0m\n\u001b[1;32m----> 3\u001b[1;33m \u001b[0mImage\u001b[0m\u001b[1;33m(\u001b[0m\u001b[0murl\u001b[0m\u001b[1;33m=\u001b[0m \u001b[1;34m\"https://pbs.twimg.com/media/C2tugXLXgAArJO4.jpg\"\u001b[0m\u001b[1;33m)\u001b[0m\u001b[1;33m\u001b[0m\u001b[1;33m\u001b[0m\u001b[0m\n\u001b[0m\u001b[0;32m      4\u001b[0m \u001b[1;33m\u001b[0m\u001b[0m\n",
      "\u001b[1;31mTypeError\u001b[0m: 'module' object is not callable"
     ]
    }
   ],
   "source": [
    "print(f\"The tweet made by weratedogs on {date} at about {time} has the highest number of likes for any of their single tweet, with a total   likes of {likes}, this tweet remains their top liked tweet within this time frame. \\n\\t The tweet about the dog was: '{text}'\\nAttached below is the photo of the dog.\\nThe Dog rating is {nume}/{deno}\") \n",
    "\n",
    "Image(url= \"https://pbs.twimg.com/media/C2tugXLXgAArJO4.jpg\")\n",
    "\n"
   ]
  },
  {
   "cell_type": "markdown",
   "id": "d660b6a2",
   "metadata": {},
   "source": [
    "### Most retweeted Dog rating tweet"
   ]
  },
  {
   "cell_type": "code",
   "execution_count": null,
   "id": "165ce978",
   "metadata": {},
   "outputs": [],
   "source": [
    "retweets = df.sort_values('retweet_count', ascending = False).head(1)['retweet_count'][445]\n",
    "\n",
    "date = df.sort_values('retweet_count', ascending = False).head(1)['date'][445]\n",
    "\n",
    "nume = df.sort_values('retweet_count', ascending = False).head(1)['rating_numerator'][445]\n",
    "\n",
    "deno = df.sort_values('retweet_count', ascending = False).head(1)['rating_denominator'][445]\n",
    "\n",
    "time = df.sort_values('retweet_count', ascending = False).head(1)['time'][445]\n",
    "\n",
    "text = df.sort_values('retweet_count', ascending = False).head(1)['text'][445]"
   ]
  },
  {
   "cell_type": "code",
   "execution_count": null,
   "id": "34ad2ea4",
   "metadata": {},
   "outputs": [],
   "source": [
    "print(f\"The tweet made by weratedogs on {date} at about {time} has the highest number of retweets for any of their single tweet, with a      total retweets of {retweets}, this tweet remains their top liked tweet within this time frame. \\n\\t The tweet about the dog was: '{text}'\\nAttached below is the photo of the dog.\\nThe Dog rating is {nume}/{deno}\") \n",
    "\n",
    "Image(url= \"https://pbs.twimg.com/ext_tw_video_thumb/807106774843039744/pu/img/8XZg1xW35Xp2J6JW.jpg\")\n"
   ]
  },
  {
   "cell_type": "markdown",
   "id": "bb40ce90",
   "metadata": {},
   "source": [
    "### Most Common predicted Dog breed"
   ]
  },
  {
   "cell_type": "markdown",
   "id": "06178c9b",
   "metadata": {},
   "source": [
    "##### Number of  unique Dogs breeds predicted"
   ]
  },
  {
   "cell_type": "code",
   "execution_count": 77,
   "id": "f3ed509c",
   "metadata": {},
   "outputs": [
    {
     "data": {
      "text/plain": [
       "113"
      ]
     },
     "execution_count": 77,
     "metadata": {},
     "output_type": "execute_result"
    }
   ],
   "source": [
    "df['dog_breed'].nunique()"
   ]
  },
  {
   "cell_type": "markdown",
   "id": "f023f211",
   "metadata": {},
   "source": [
    "We can say during the timeframe of our analysis about 113 different Dog breeds has been tweeted about and rated by Weratedogs. This result is based on all the top dog predictions made for each tweet image."
   ]
  },
  {
   "cell_type": "markdown",
   "id": "2d3b3f47",
   "metadata": {},
   "source": [
    "##### The top 10 Dog breeds in our dataset with the highest value count"
   ]
  },
  {
   "cell_type": "code",
   "execution_count": 78,
   "id": "ff3d3e29",
   "metadata": {},
   "outputs": [],
   "source": [
    "t_10 = df['dog_breed'].value_counts().sort_values(ascending=False).reset_index(drop=True)\n",
    "\n",
    "t_10 = t_10.unique()[9]"
   ]
  },
  {
   "cell_type": "code",
   "execution_count": 79,
   "id": "e73df060",
   "metadata": {},
   "outputs": [
    {
     "data": {
      "text/plain": [
       "golden_retriever            158\n",
       "Labrador_retriever          108\n",
       "Pembroke                     95\n",
       "Chihuahua                    91\n",
       "pug                          62\n",
       "toy_poodle                   51\n",
       "chow                         48\n",
       "Samoyed                      42\n",
       "Pomeranian                   42\n",
       "malamute                     33\n",
       "Chesapeake_Bay_retriever     31\n",
       "French_bulldog               31\n",
       "Name: dog_breed, dtype: int64"
      ]
     },
     "execution_count": 79,
     "metadata": {},
     "output_type": "execute_result"
    }
   ],
   "source": [
    "df['dog_breed'].value_counts()[df['dog_breed'].value_counts().values >= t_10]"
   ]
  },
  {
   "cell_type": "markdown",
   "id": "4424d009",
   "metadata": {},
   "source": [
    "### The most common words used by weratedogs?"
   ]
  },
  {
   "cell_type": "markdown",
   "id": "d5de6921",
   "metadata": {},
   "source": [
    "We would like to know some of the most frequent words used by weratedogs while tweeting, and to do this we would be visualizing all words using a wordcloud."
   ]
  },
  {
   "cell_type": "markdown",
   "id": "0b7011f5",
   "metadata": {},
   "source": [
    "#####  wordcloud for all tweet"
   ]
  },
  {
   "cell_type": "code",
   "execution_count": 80,
   "id": "8f63b6f0",
   "metadata": {},
   "outputs": [
    {
     "data": {
      "image/png": "[encoded data removed]",
      "text/plain": [
       "<Figure size 720x1080 with 1 Axes>"
      ]
     },
     "metadata": {
      "needs_background": "light"
     },
     "output_type": "display_data"
    }
   ],
   "source": [
    "plt.figure( figsize=(10,15))\n",
    "\n",
    "allwords = ' '.join( [tweet for tweet in df['text']] )\n",
    "stopwords = set(STOPWORDS)\n",
    "mask = np.array(Image.open(r\"C:\\Users\\JohnInalegwu\\Downloads\\dog_PNG50317.png\"))\n",
    "\n",
    "wordcloud = WordCloud(collocations=False, stopwords = STOPWORDS,\n",
    "                      mask=mask, background_color=\"white\", max_words=700,max_font_size=200, \n",
    "                      contour_color='#023075',contour_width=3,colormap='rainbow').generate(allwords)\n",
    "\n",
    "plt.imshow(wordcloud, interpolation='bilinear')\n",
    "plt.axis('off')\n",
    "\n",
    "plt.show()"
   ]
  },
  {
   "cell_type": "markdown",
   "id": "ef68a636",
   "metadata": {},
   "source": [
    "Some outstanding words from our wordcloud 'pet', 'dog', 'rate', 'hello', 'Meet' 'doggo', and 'pupper'. We can easily see series of words as frequently used by Weratedogs, but I'm just specific about some outstanding listed above, cause they indicate what the page is all about and how it presents it's information to followers. Having no prior idea about what weratedogs is all aboutand also if the name does not give much information out about what it's all about, then this is what one can easily deduce from my selected outstanding words from the word colud.\n",
    "\n",
    "**Pet**: Seeing pet signifies that most tweets are about pets. What pets?\n",
    "\n",
    "**Dog**: Their tweets aren't just about any pets but a Dog kind of pet. Why tweet about Dogs so much?\n",
    "\n",
    "**Rate**: We Rate Dogs, Yeah, You read that right. Weratedogs twitter page is all about rating dogs.\n",
    "\n",
    "**Hello**: Certainly, handlers of this twitter page don't lack matters. So they often greet and start conversations with 'hello'. After greeting what next?\n",
    "       \n",
    "**Meet**: You would be introduced to a Dog. A picture of a Dog is posted, that would be rated...\n",
    "\n",
    "**Doggo** and **Pupper**: These are two different Dog growth stages and it seems, most Dogs rated on this page are in either one of this Dog stages.\n",
    "       \n",
    "\n",
    "\n",
    "\n",
    "\n",
    "**Lets get clarity on all Dog stages used in weratedogs twitter page below!**"
   ]
  },
  {
   "cell_type": "markdown",
   "id": "1ec884c0",
   "metadata": {},
   "source": [
    "### Most Common Dog growth stages"
   ]
  },
  {
   "cell_type": "markdown",
   "id": "5d221ebc",
   "metadata": {},
   "source": [
    "##### Unique stages mentioned across tweets"
   ]
  },
  {
   "cell_type": "code",
   "execution_count": 81,
   "id": "1b0cd3dc",
   "metadata": {},
   "outputs": [
    {
     "data": {
      "text/plain": [
       "array(['doggo', 'puppo', 'pupper', 'floofer'], dtype=object)"
      ]
     },
     "execution_count": 81,
     "metadata": {},
     "output_type": "execute_result"
    }
   ],
   "source": [
    "df['dog_stage'].dropna().unique()"
   ]
  },
  {
   "cell_type": "markdown",
   "id": "371cf359",
   "metadata": {},
   "source": [
    "From the above list, we can see that aside doggo and puppo, there are still two other dog stages mentioned and rated by weratedogs, which are pupper and floofer"
   ]
  },
  {
   "cell_type": "markdown",
   "id": "527e280f",
   "metadata": {},
   "source": [
    "#### How each Dog stage is represented our dataset"
   ]
  },
  {
   "cell_type": "code",
   "execution_count": 82,
   "id": "320792b1",
   "metadata": {},
   "outputs": [
    {
     "data": {
      "text/plain": [
       "pupper     253\n",
       "doggo       89\n",
       "puppo       32\n",
       "floofer      9\n",
       "Name: dog_stage, dtype: int64"
      ]
     },
     "execution_count": 82,
     "metadata": {},
     "output_type": "execute_result"
    }
   ],
   "source": [
    "df['dog_stage'].value_counts()"
   ]
  },
  {
   "cell_type": "markdown",
   "id": "811300aa",
   "metadata": {},
   "source": [
    "## How often does we rate Dogs rate Dogs?"
   ]
  },
  {
   "cell_type": "code",
   "execution_count": 89,
   "id": "489f9135",
   "metadata": {},
   "outputs": [
    {
     "name": "stdout",
     "output_type": "stream",
     "text": [
      "The timeframe of this dataset is between 2015-11-15 to 2017-08-01, there exist 626 number of days within this period, and weratedogs rated at least a dog for 600 unique number of days. That is to say there are about 26 unique number of days when not even a single Dog was rated.\n",
      "Let's take a look at some of those days below.\n"
     ]
    }
   ],
   "source": [
    "date_range = len(pd.date_range(start=df['date'].min(),end=df['date'].max()))\n",
    "date_count = df['date'].nunique()\n",
    "diff = date_range - date_count\n",
    "\n",
    "print(f\"The timeframe of this dataset is between {df.date.min()} to {df.date.max()}, there exist {date_range} number of days within this period, and weratedogs rated at least a dog for {date_count} unique number of days. That is to say there are about {diff} unique number of days when not even a single Dog was rated.\\nLet's take a look at some of those days below.\") "
   ]
  },
  {
   "cell_type": "markdown",
   "id": "9094f266",
   "metadata": {},
   "source": [
    "##### The 26 Days where Dogs were not rated"
   ]
  },
  {
   "cell_type": "code",
   "execution_count": 91,
   "id": "be0666f8",
   "metadata": {},
   "outputs": [
    {
     "data": {
      "text/plain": [
       "0    2016-04-07\n",
       "1    2016-04-16\n",
       "2    2016-04-18\n",
       "3    2016-04-19\n",
       "4    2016-04-22\n",
       "5    2016-05-15\n",
       "6    2016-05-22\n",
       "7    2016-07-20\n",
       "8    2016-08-27\n",
       "9    2016-09-24\n",
       "10   2016-11-13\n",
       "11   2016-11-15\n",
       "12   2016-12-01\n",
       "13   2016-12-03\n",
       "14   2016-12-16\n",
       "15   2016-12-20\n",
       "16   2017-02-11\n",
       "17   2017-03-09\n",
       "18   2017-03-12\n",
       "19   2017-04-09\n",
       "20   2017-04-20\n",
       "21   2017-04-25\n",
       "22   2017-04-29\n",
       "23   2017-05-09\n",
       "24   2017-05-20\n",
       "25   2017-07-21\n",
       "dtype: datetime64[ns]"
      ]
     },
     "execution_count": 91,
     "metadata": {},
     "output_type": "execute_result"
    }
   ],
   "source": [
    "date_index = df.set_index('date')\n",
    "\n",
    "date_index.index = pd.to_datetime(date_index.index)\n",
    "\n",
    "no_rating = pd.Series(pd.date_range(\n",
    "  start=date_index.index.min(), \n",
    "    end=date_index.index.max()).difference(date_index.index))\n",
    "\n",
    "no_rating"
   ]
  },
  {
   "cell_type": "markdown",
   "id": "f1a10329",
   "metadata": {},
   "source": [
    "##### Daily count in month with  no rating"
   ]
  },
  {
   "cell_type": "code",
   "execution_count": 92,
   "id": "03580b49",
   "metadata": {},
   "outputs": [
    {
     "data": {
      "text/plain": [
       "Apr-2016    5\n",
       "Dec-2016    4\n",
       "Apr-2017    4\n",
       "May-2016    2\n",
       "Nov-2016    2\n",
       "Mar-2017    2\n",
       "May-2017    2\n",
       "Jul-2016    1\n",
       "Aug-2016    1\n",
       "Sep-2016    1\n",
       "Feb-2017    1\n",
       "Jul-2017    1\n",
       "dtype: int64"
      ]
     },
     "execution_count": 92,
     "metadata": {},
     "output_type": "execute_result"
    }
   ],
   "source": [
    "no_rating.dt.strftime('%b-%Y').value_counts()"
   ]
  },
  {
   "cell_type": "markdown",
   "id": "09f6189b",
   "metadata": {},
   "source": [
    "In April 2016, Dogs were not rated for 5 different days, and that happens to be highest number of days weratedogs has not rated a dog in a single month."
   ]
  },
  {
   "cell_type": "code",
   "execution_count": null,
   "id": "cc118308",
   "metadata": {},
   "outputs": [],
   "source": []
  },
  {
   "cell_type": "markdown",
   "id": "0798296d",
   "metadata": {},
   "source": [
    "### Month with the most tweets by weratedogs"
   ]
  },
  {
   "cell_type": "code",
   "execution_count": 93,
   "id": "e78bd1ac",
   "metadata": {},
   "outputs": [],
   "source": [
    "df['date'] = pd.to_datetime(df['date'])"
   ]
  },
  {
   "cell_type": "code",
   "execution_count": 94,
   "id": "7f24c29e",
   "metadata": {},
   "outputs": [
    {
     "data": {
      "text/plain": [
       "Dec-2015    388\n",
       "Nov-2015    300\n",
       "Jan-2016    194\n",
       "Mar-2016    136\n",
       "Feb-2016    125\n",
       "Jul-2016     97\n",
       "Jun-2016     94\n",
       "Oct-2016     73\n",
       "Feb-2017     72\n",
       "Jan-2017     71\n",
       "Sep-2016     69\n",
       "Aug-2016     63\n",
       "May-2016     60\n",
       "Apr-2016     60\n",
       "Dec-2016     59\n",
       "Nov-2016     58\n",
       "Mar-2017     57\n",
       "Jul-2017     53\n",
       "Jun-2017     50\n",
       "Apr-2017     49\n",
       "May-2017     45\n",
       "Aug-2017      2\n",
       "Name: date, dtype: int64"
      ]
     },
     "execution_count": 94,
     "metadata": {},
     "output_type": "execute_result"
    }
   ],
   "source": [
    "df['date'].dt.strftime('%b-%Y').value_counts()"
   ]
  },
  {
   "cell_type": "markdown",
   "id": "f800add3",
   "metadata": {},
   "source": [
    "### Year with the most tweets by weratedogs"
   ]
  },
  {
   "cell_type": "code",
   "execution_count": 95,
   "id": "0d94531a",
   "metadata": {},
   "outputs": [
    {
     "data": {
      "text/plain": [
       "2016    1088\n",
       "2015     688\n",
       "2017     399\n",
       "Freq: A-DEC, Name: date, dtype: int64"
      ]
     },
     "execution_count": 95,
     "metadata": {},
     "output_type": "execute_result"
    }
   ],
   "source": [
    "df['date'].dt.to_period(\"Y\").value_counts()"
   ]
  },
  {
   "cell_type": "markdown",
   "id": "01a6482b",
   "metadata": {},
   "source": [
    "### Days with  top 10 number of tweets by weratedogs"
   ]
  },
  {
   "cell_type": "code",
   "execution_count": 96,
   "id": "6581883d",
   "metadata": {},
   "outputs": [],
   "source": [
    "t_10 = df['date'].value_counts().sort_values(ascending=False).reset_index(drop=True)\n",
    "\n",
    "t_10 = t_10.unique()[9]"
   ]
  },
  {
   "cell_type": "code",
   "execution_count": 97,
   "id": "14eedbb3",
   "metadata": {},
   "outputs": [
    {
     "data": {
      "text/plain": [
       "29-Nov-2015    26\n",
       "28-Nov-2015    26\n",
       "16-Nov-2015    25\n",
       "01-Dec-2015    24\n",
       "19-Nov-2015    23\n",
       "25-Nov-2015    21\n",
       "23-Nov-2015    21\n",
       "07-Dec-2015    21\n",
       "08-Dec-2015    21\n",
       "22-Nov-2015    20\n",
       "20-Nov-2015    20\n",
       "24-Nov-2015    18\n",
       "03-Dec-2015    18\n",
       "18-Nov-2015    18\n",
       "10-Dec-2015    18\n",
       "09-Dec-2015    17\n",
       "30-Nov-2015    17\n",
       "27-Nov-2015    17\n",
       "21-Nov-2015    17\n",
       "12-Dec-2015    16\n",
       "06-Dec-2015    16\n",
       "11-Dec-2015    16\n",
       "15-Dec-2015    15\n",
       "17-Nov-2015    15\n",
       "Name: date, dtype: int64"
      ]
     },
     "execution_count": 97,
     "metadata": {},
     "output_type": "execute_result"
    }
   ],
   "source": [
    "df['date'].dt.strftime('%d-%b-%Y').value_counts()[df['date'].dt.strftime('%d-%b-%Y').value_counts() >=t_10]"
   ]
  },
  {
   "cell_type": "markdown",
   "id": "ae5d90b0",
   "metadata": {},
   "source": [
    "November and December 2015 had days with the top 10 highest number of tweet count, and we can see that this resulted in the two months having the highest number of tweets posted in a month, far above the rest."
   ]
  },
  {
   "cell_type": "code",
   "execution_count": 98,
   "id": "b709956f",
   "metadata": {},
   "outputs": [],
   "source": [
    "no_time = pd.DataFrame({'hour':[7,8,9,10,11], 'tweet_count':0})"
   ]
  },
  {
   "cell_type": "markdown",
   "id": "afffd0e8",
   "metadata": {},
   "source": [
    "### Hour of the day with most tweets  --- VISUALIZATION"
   ]
  },
  {
   "cell_type": "code",
   "execution_count": 100,
   "id": "35abcd96",
   "metadata": {},
   "outputs": [
    {
     "data": {
      "image/png": "[encoded data removed]",
      "text/plain": [
       "<Figure size 1296x576 with 1 Axes>"
      ]
     },
     "metadata": {},
     "output_type": "display_data"
    }
   ],
   "source": [
    "hour_count = pd.to_datetime(df['time']).dt.hour.value_counts().sort_index().reset_index().rename(columns={'index':'hour',\n",
    "                                                                                   'time':'tweet_count'})\n",
    "hour_count = pd.concat([hour_count,no_time]).reset_index(drop=True).sort_values('hour')\n",
    "\n",
    "\n",
    "fig,ax = plt.subplots(figsize=(18,8))\n",
    "\n",
    "sns.lineplot(x='hour',y='tweet_count', marker='.', data=hour_count,ci=95,ax=ax,palette = 'coolwarm')\n",
    "\n",
    "ax.set_title('Count of tweets by hour of the day',backgroundcolor ='#565656',\n",
    "fontsize=20, weight='bold',color='white',style='italic',loc='center',pad=30)\n",
    "\n",
    "sns.set(context='notebook', style='ticks',palette='inferno')\n",
    "plt.box(False)\n",
    "ax.tick_params(labelsize=12,length=0)\n",
    "# add grid lines for y axis\n",
    "ax.yaxis.grid(linewidth=0.3,color='grey')\n",
    "# put the grid lines below bars\n",
    "ax.set_axisbelow(True)\n",
    "\n",
    "for v in hour_count.iterrows():\n",
    "    plt.text(v[1][0], v[1][1], f'{v[1][1]}', size='small', color='grey', weight='bold')\n",
    "\n",
    "\n",
    "plt.xticks(rotation=0,color='#565656', size = 10)\n",
    "plt.yticks(color='#565656', size = 12)\n",
    "\n",
    "\n",
    "ax.set_xticks(np.arange(len(hour_count)))\n",
    "plt.xlim(0,24)\n",
    "\n",
    "\n",
    "plt.show()"
   ]
  },
  {
   "cell_type": "markdown",
   "id": "9ce250b7",
   "metadata": {},
   "source": [
    "If you're a vivid fan of weratedogs then there are some hours of the day, you should expect no rating of dogs from them at all. Using a 12-hour format and Nigeria local time (WAT) too. Within the timeframe of this data weratedogs have rated dogs **2175** times, across, **3** years and in **600** different number of days and non of these ratings has ever been done within the hours of **7am and 11am**. While there have been an increase in number of tweets between **12 am and 1am** of the day, which both holds the highest number of tweets for a hour. There has also been a steady decrease of number of tweets after 1am, up to the point of **NO** tweet between **7am and 11am** of the day. After 11am, there starts to be a gradual but slow increase in number of tweets, up to 4pm in the day, and then it starts diminishing again through to 10pm, but this time not below the **50 tweets** count. By 11pm, there is an increase in number of tweets and this leads to the **peak hours** of weratedogs rating for dogs between **12am and 1am**.\n",
    "\n",
    "This analysis is subject to **timezone**. So, If you're in Nigeria and you really dont want to miss those Dog ratings as they drop, then you might want to sacrifice some sleeping time. If You're a twitter influencer or a blogger whose major audience are Dog lovers, and particularly Nigeria Dog lovers, and you also have a competitor like weratedogs for followers, then you should really consider putting out contents on twitter between 6am and 2pm when weratedogs are definitely SLEEPING!!!"
   ]
  },
  {
   "cell_type": "code",
   "execution_count": null,
   "id": "ba1f9bcc",
   "metadata": {},
   "outputs": [],
   "source": []
  },
  {
   "cell_type": "markdown",
   "id": "78093b00",
   "metadata": {},
   "source": [
    "### Insight on the growth of  the WeRateDogs twitter  account(2015-2017)"
   ]
  },
  {
   "cell_type": "markdown",
   "id": "fefc3e61",
   "metadata": {},
   "source": [
    "First we would be getting the count af total number of tweets within the timeframe. Please note, for the sake of this analysis, only tweets with retweet_count and favorite_count data would be counted.\n",
    "\n",
    "The sum total of retweets and likes during these periods, would also be gotten through 'groupby'.\n",
    "\n",
    "Finally, we visualize all three result for proper insight.\n",
    "\n"
   ]
  },
  {
   "cell_type": "code",
   "execution_count": 101,
   "id": "9b91999a",
   "metadata": {},
   "outputs": [
    {
     "data": {
      "text/html": [
       "<div>\n",
       "<style scoped>\n",
       "    .dataframe tbody tr th:only-of-type {\n",
       "        vertical-align: middle;\n",
       "    }\n",
       "\n",
       "    .dataframe tbody tr th {\n",
       "        vertical-align: top;\n",
       "    }\n",
       "\n",
       "    .dataframe thead th {\n",
       "        text-align: right;\n",
       "    }\n",
       "</style>\n",
       "<table border=\"1\" class=\"dataframe\">\n",
       "  <thead>\n",
       "    <tr style=\"text-align: right;\">\n",
       "      <th></th>\n",
       "      <th>date</th>\n",
       "      <th>tweet_count</th>\n",
       "    </tr>\n",
       "  </thead>\n",
       "  <tbody>\n",
       "    <tr>\n",
       "      <th>0</th>\n",
       "      <td>2015</td>\n",
       "      <td>687</td>\n",
       "    </tr>\n",
       "    <tr>\n",
       "      <th>1</th>\n",
       "      <td>2016</td>\n",
       "      <td>332</td>\n",
       "    </tr>\n",
       "    <tr>\n",
       "      <th>2</th>\n",
       "      <td>2017</td>\n",
       "      <td>395</td>\n",
       "    </tr>\n",
       "  </tbody>\n",
       "</table>\n",
       "</div>"
      ],
      "text/plain": [
       "   date  tweet_count\n",
       "0  2015          687\n",
       "1  2016          332\n",
       "2  2017          395"
      ]
     },
     "execution_count": 101,
     "metadata": {},
     "output_type": "execute_result"
    }
   ],
   "source": [
    "tweet_count = df['retweet_count'].groupby(df['date'].dt.year).count().reset_index().rename(columns={'retweet_count':\n",
    "                                                                                     'tweet_count'})\n",
    "tweet_count"
   ]
  },
  {
   "cell_type": "code",
   "execution_count": 102,
   "id": "3ad90e54",
   "metadata": {},
   "outputs": [
    {
     "data": {
      "text/html": [
       "<div>\n",
       "<style scoped>\n",
       "    .dataframe tbody tr th:only-of-type {\n",
       "        vertical-align: middle;\n",
       "    }\n",
       "\n",
       "    .dataframe tbody tr th {\n",
       "        vertical-align: top;\n",
       "    }\n",
       "\n",
       "    .dataframe thead th {\n",
       "        text-align: right;\n",
       "    }\n",
       "</style>\n",
       "<table border=\"1\" class=\"dataframe\">\n",
       "  <thead>\n",
       "    <tr style=\"text-align: right;\">\n",
       "      <th></th>\n",
       "      <th>date</th>\n",
       "      <th>retweet_count</th>\n",
       "    </tr>\n",
       "  </thead>\n",
       "  <tbody>\n",
       "    <tr>\n",
       "      <th>0</th>\n",
       "      <td>2015</td>\n",
       "      <td>603661.0</td>\n",
       "    </tr>\n",
       "    <tr>\n",
       "      <th>1</th>\n",
       "      <td>2016</td>\n",
       "      <td>1143654.0</td>\n",
       "    </tr>\n",
       "    <tr>\n",
       "      <th>2</th>\n",
       "      <td>2017</td>\n",
       "      <td>1801973.0</td>\n",
       "    </tr>\n",
       "  </tbody>\n",
       "</table>\n",
       "</div>"
      ],
      "text/plain": [
       "   date  retweet_count\n",
       "0  2015       603661.0\n",
       "1  2016      1143654.0\n",
       "2  2017      1801973.0"
      ]
     },
     "execution_count": 102,
     "metadata": {},
     "output_type": "execute_result"
    }
   ],
   "source": [
    "retweet_count = df['retweet_count'].groupby(df['date'].dt.year).sum().reset_index()\n",
    "\n",
    "retweet_count"
   ]
  },
  {
   "cell_type": "code",
   "execution_count": 103,
   "id": "0b126a4b",
   "metadata": {},
   "outputs": [
    {
     "data": {
      "text/html": [
       "<div>\n",
       "<style scoped>\n",
       "    .dataframe tbody tr th:only-of-type {\n",
       "        vertical-align: middle;\n",
       "    }\n",
       "\n",
       "    .dataframe tbody tr th {\n",
       "        vertical-align: top;\n",
       "    }\n",
       "\n",
       "    .dataframe thead th {\n",
       "        text-align: right;\n",
       "    }\n",
       "</style>\n",
       "<table border=\"1\" class=\"dataframe\">\n",
       "  <thead>\n",
       "    <tr style=\"text-align: right;\">\n",
       "      <th></th>\n",
       "      <th>date</th>\n",
       "      <th>favorite_count</th>\n",
       "    </tr>\n",
       "  </thead>\n",
       "  <tbody>\n",
       "    <tr>\n",
       "      <th>0</th>\n",
       "      <td>2015</td>\n",
       "      <td>1491317.0</td>\n",
       "    </tr>\n",
       "    <tr>\n",
       "      <th>1</th>\n",
       "      <td>2016</td>\n",
       "      <td>3613898.0</td>\n",
       "    </tr>\n",
       "    <tr>\n",
       "      <th>2</th>\n",
       "      <td>2017</td>\n",
       "      <td>7757222.0</td>\n",
       "    </tr>\n",
       "  </tbody>\n",
       "</table>\n",
       "</div>"
      ],
      "text/plain": [
       "   date  favorite_count\n",
       "0  2015       1491317.0\n",
       "1  2016       3613898.0\n",
       "2  2017       7757222.0"
      ]
     },
     "execution_count": 103,
     "metadata": {},
     "output_type": "execute_result"
    }
   ],
   "source": [
    "favorite_count = df['favorite_count'].groupby(df['date'].dt.year).sum().reset_index()\n",
    "\n",
    "favorite_count"
   ]
  },
  {
   "cell_type": "markdown",
   "id": "31597d3b",
   "metadata": {},
   "source": [
    "##### Visualizing our result"
   ]
  },
  {
   "cell_type": "code",
   "execution_count": 104,
   "id": "ca27c322",
   "metadata": {},
   "outputs": [
    {
     "data": {
      "image/png": "[encoded data removed]",
      "text/plain": [
       "<Figure size 1080x720 with 3 Axes>"
      ]
     },
     "metadata": {},
     "output_type": "display_data"
    }
   ],
   "source": [
    "Grid_plot = plt.GridSpec(23, 6, wspace = 5.5,\n",
    "                        hspace = 5)\n",
    "\n",
    "fig,ax = plt.subplots(figsize=(15,10))\n",
    "\n",
    "    \n",
    "axes1 = plt.subplot(Grid_plot[:7,:])\n",
    "sns.lineplot(x='date',y='tweet_count',data=tweet_count,ci=95,ax=axes1,palette = 'coolwarm')\n",
    "axes1.set_title('Total tweet_count for tweets in a year',backgroundcolor ='#565656',\n",
    "fontsize=15, weight='bold',color='white',style='italic',loc='center',pad=30, y=0.4, x=0.2)\n",
    "sns.set(context='notebook', style='ticks',palette='inferno')\n",
    "plt.box(False)\n",
    "axes1.tick_params(labelsize=12,length=0)\n",
    "# add grid lines for y axis\n",
    "axes1.yaxis.grid(linewidth=0.3,color='grey')\n",
    "axes1.xaxis.grid(linewidth=0.4,color='grey')\n",
    "# put the grid lines below bars\n",
    "axes1.set_axisbelow(True)\n",
    "axes1.set_xlabel('')\n",
    "# turn off the x axis tick labels without disturbing the originals\n",
    "[lbl.set_visible(False) for lbl in axes1.get_xticklabels()]\n",
    "\n",
    "plt.yticks(color='#565656', size = 12)\n",
    "\n",
    "\n",
    "#------------------------------------------------------------------------------------------------------------------------------#\n",
    "\n",
    "axes2 = plt.subplot(Grid_plot[7:14, :])\n",
    "sns.lineplot(x='date',y='retweet_count',data=retweet_count,ci=95,ax=axes2,palette = 'coolwarm')\n",
    "axes2.set_title('Total retweet_count for tweets in a year',backgroundcolor ='#565656',\n",
    "fontsize=15, weight='bold',color='white',style='italic',loc='center',pad=30, y=0.4, x=0.2)\n",
    "sns.set(context='notebook', style='ticks',palette='inferno')\n",
    "plt.box(False)\n",
    "axes2.tick_params(labelsize=12,length=0)\n",
    "# add grid lines for y axis\n",
    "axes2.yaxis.grid(linewidth=0.3,color='grey')\n",
    "axes2.xaxis.grid(linewidth=0.4,color='grey')\n",
    "# put the grid lines below bars\n",
    "axes2.set_axisbelow(True)\n",
    "# turn off the x axis tick labels without disturbing the originals\n",
    "[lbl.set_visible(False) for lbl in axes2.get_xticklabels()]\n",
    "\n",
    "axes2.set_xlabel('')\n",
    "plt.yticks(color='#565656', size = 12)\n",
    "\n",
    "\n",
    "#------------------------------------------------------------------------------------------------------------------------------#\n",
    "\n",
    "\n",
    "axes3 = plt.subplot(Grid_plot[14:23, :])\n",
    "sns.lineplot(x='date',y='favorite_count',data=favorite_count,ci=95,ax=axes3,palette = 'coolwarm')\n",
    "axes3.set_title('Total favorite_count for all tweets in a year',backgroundcolor ='#565656',\n",
    "fontsize=15, weight='bold',color='white',style='italic',loc='center',pad=30, y=0.4, x=0.2)\n",
    "sns.set(context='notebook', style='ticks',palette='inferno')\n",
    "plt.box(False)\n",
    "axes3.tick_params(left=False, bottom=False)\n",
    "# add grid lines for y axis\n",
    "axes3.yaxis.grid(linewidth=0.3,color='grey')\n",
    "axes3.xaxis.grid(linewidth=0.4,color='grey')\n",
    "# removing the x axis label\n",
    "axes3.set(xlabel=None)\n",
    "# put the grid lines below bars\n",
    "axes3.set_axisbelow(True)\n",
    "\n",
    "plt.xticks(rotation=0,color='#565656', size = 10)\n",
    "plt.yticks(color='#565656', size = 12)\n",
    "\n",
    "\n",
    "locator = mdates.DayLocator(interval=1)\n",
    "axes3.xaxis.set_major_locator(locator)\n",
    "\n",
    "plt.show()"
   ]
  },
  {
   "cell_type": "markdown",
   "id": "31092cc9",
   "metadata": {},
   "source": [
    "## Insight and Conclusion"
   ]
  },
  {
   "cell_type": "markdown",
   "id": "85bae79e",
   "metadata": {},
   "source": [
    "'WeRateDogs is a Twitter account that rates people's dogs with a humorous comment about the dog. The account was started in 2015 by college student Matt Nelson, and has received international media attention both for its popularity...'[(Wikipedia)](https://en.wikipedia.org/wiki/WeRateDogs). The above analysis and visualization gives us a proper insight of how much this twitter account has grown, since it's inception in November 15, 2015. From having over 1.4 million total LIKES❤️ in its first year in 2015, to having over 7.7 million total LIKES❤️as at August 1, 2017, is just what I can describe as a skyrocket kind of growth. Also for the retweets🔁 on this account, It has also been a positive increase for this account.\n",
    "\n",
    "Now, for an interesting insight from this analysis, is the very fact that all this growth experienced by increase in number of likes and retweets was definitely not as a result of increase in tweets made by this account. HOW? \n",
    "\n",
    "The first year, 2015, this account was active for only two months, since it was founded only in November that year.\n",
    "During these two months we could accurately account for 687 tweets made from this account.\n",
    "These 687 tweets resulted in 603661 Retweets🔁 and 1,491,317 Likes❤️\n",
    "\n",
    "The second year, 2016, they were active for the full year.\n",
    "During the year we could accurately account for 332 tweets made from this account.\n",
    "These 332 tweets resulted in 1,143,654 Retweets🔁 and 3,613,898 Likes❤️\n",
    "This is where the first interesting fact comes in, One would have thought that if this twitter account could rate 687 unique Dogs Dogs in just two months alone, then you should be expecting them to double or even tripple that number in their first full active year. Did they do the numbers?\n",
    "Definitely, NO. Rather, they reduced the number of Dog rating tweets below half the number of total tweets made in 2015(November and December).\n",
    "The second interesting fact is the fact that cutting down the number of Dog rating tweets, did not affect the growth of this twitter account in any way. As there was more than double in total Likes❤️ in 2016 from 2015, and the Retweets🔁 broke through the one million mark too, which it didn't in 2015.\n",
    "\n",
    "The third year, 2017, this account was active for the second full year.\n",
    "Data in this report was dated till August 1, 2017. So, only data for the first seven months have been fully recorded.\n",
    "During these months in 2017 we could accurately account for 395 tweets made from this account.\n",
    "These 395 tweets has resulted in 1,801,973 Retweets🔁 and 7,757,222 Likes❤️.\n",
    "We would be projecting a total of over 672 tweets if they continue averaging a total of 56 tweets every month.\n",
    "projecting over 3,000,000 Retweets🔁, with a continual average of 257,424 Retweets🔁 monthly.\n",
    "projecting  over 13,298,088 Likes❤️, with a continual average of 1,108,174 Likes❤️"
   ]
  },
  {
   "cell_type": "code",
   "execution_count": 165,
   "id": "14e13b1d",
   "metadata": {},
   "outputs": [],
   "source": [
    "import snscrape.modules.twitter as sntwitter"
   ]
  },
  {
   "cell_type": "code",
   "execution_count": 200,
   "id": "ce48c400",
   "metadata": {},
   "outputs": [],
   "source": [
    "query = '(from:dog_rates) until:2017-12-31 since:2017-08-01'\n",
    "tweets = []\n",
    "limit = 50000\n",
    "\n",
    "for tweet in sntwitter.TwitterSearchScraper(query).get_items():\n",
    "    if len(tweets) == limit:\n",
    "        break\n",
    "    else:\n",
    "        tweets.append([tweet.id, tweet.user.username, tweet.date, tweet.content, \n",
    "                       tweet.likeCount, tweet.retweetCount])"
   ]
  },
  {
   "cell_type": "code",
   "execution_count": 243,
   "id": "b69d4cb4",
   "metadata": {},
   "outputs": [],
   "source": [
    "new_df = pd.DataFrame(tweets, columns=['id', 'user', 'datetime', 'text',\n",
    "                                  'favorite_count', 'retweet_count'])"
   ]
  },
  {
   "cell_type": "code",
   "execution_count": 244,
   "id": "f95778c1",
   "metadata": {},
   "outputs": [
    {
     "data": {
      "text/html": [
       "<div>\n",
       "<style scoped>\n",
       "    .dataframe tbody tr th:only-of-type {\n",
       "        vertical-align: middle;\n",
       "    }\n",
       "\n",
       "    .dataframe tbody tr th {\n",
       "        vertical-align: top;\n",
       "    }\n",
       "\n",
       "    .dataframe thead th {\n",
       "        text-align: right;\n",
       "    }\n",
       "</style>\n",
       "<table border=\"1\" class=\"dataframe\">\n",
       "  <thead>\n",
       "    <tr style=\"text-align: right;\">\n",
       "      <th></th>\n",
       "      <th>id</th>\n",
       "      <th>user</th>\n",
       "      <th>datetime</th>\n",
       "      <th>text</th>\n",
       "      <th>favorite_count</th>\n",
       "      <th>retweet_count</th>\n",
       "    </tr>\n",
       "  </thead>\n",
       "  <tbody>\n",
       "    <tr>\n",
       "      <th>0</th>\n",
       "      <td>946433880898359300</td>\n",
       "      <td>dog_rates</td>\n",
       "      <td>2017-12-28 17:33:15+00:00</td>\n",
       "      <td>This is Gimli. He absolutely shreds. Mlem game...</td>\n",
       "      <td>24079</td>\n",
       "      <td>2807</td>\n",
       "    </tr>\n",
       "    <tr>\n",
       "      <th>1</th>\n",
       "      <td>946068980296568833</td>\n",
       "      <td>dog_rates</td>\n",
       "      <td>2017-12-27 17:23:16+00:00</td>\n",
       "      <td>This is Fox. He is a jubilant boy. Hopes your ...</td>\n",
       "      <td>29027</td>\n",
       "      <td>3153</td>\n",
       "    </tr>\n",
       "    <tr>\n",
       "      <th>2</th>\n",
       "      <td>945474393618120705</td>\n",
       "      <td>dog_rates</td>\n",
       "      <td>2017-12-26 02:00:36+00:00</td>\n",
       "      <td>Oh c’mon. I know it’s christmas but we still o...</td>\n",
       "      <td>38456</td>\n",
       "      <td>4157</td>\n",
       "    </tr>\n",
       "    <tr>\n",
       "      <th>3</th>\n",
       "      <td>945459196014813184</td>\n",
       "      <td>dog_rates</td>\n",
       "      <td>2017-12-26 01:00:12+00:00</td>\n",
       "      <td>This is Nugget. He just arrived. Hopes he’s no...</td>\n",
       "      <td>26370</td>\n",
       "      <td>2940</td>\n",
       "    </tr>\n",
       "    <tr>\n",
       "      <th>4</th>\n",
       "      <td>945444330315091968</td>\n",
       "      <td>dog_rates</td>\n",
       "      <td>2017-12-26 00:01:08+00:00</td>\n",
       "      <td>Say hello to Luke and Oliver. They opened the ...</td>\n",
       "      <td>33043</td>\n",
       "      <td>5066</td>\n",
       "    </tr>\n",
       "  </tbody>\n",
       "</table>\n",
       "</div>"
      ],
      "text/plain": [
       "                   id       user                  datetime  \\\n",
       "0  946433880898359300  dog_rates 2017-12-28 17:33:15+00:00   \n",
       "1  946068980296568833  dog_rates 2017-12-27 17:23:16+00:00   \n",
       "2  945474393618120705  dog_rates 2017-12-26 02:00:36+00:00   \n",
       "3  945459196014813184  dog_rates 2017-12-26 01:00:12+00:00   \n",
       "4  945444330315091968  dog_rates 2017-12-26 00:01:08+00:00   \n",
       "\n",
       "                                                text  favorite_count  \\\n",
       "0  This is Gimli. He absolutely shreds. Mlem game...           24079   \n",
       "1  This is Fox. He is a jubilant boy. Hopes your ...           29027   \n",
       "2  Oh c’mon. I know it’s christmas but we still o...           38456   \n",
       "3  This is Nugget. He just arrived. Hopes he’s no...           26370   \n",
       "4  Say hello to Luke and Oliver. They opened the ...           33043   \n",
       "\n",
       "   retweet_count  \n",
       "0           2807  \n",
       "1           3153  \n",
       "2           4157  \n",
       "3           2940  \n",
       "4           5066  "
      ]
     },
     "execution_count": 244,
     "metadata": {},
     "output_type": "execute_result"
    }
   ],
   "source": [
    "new_df = new_df[new_df['text'].str.contains('[0-9]/')].reset_index(drop = True)\n",
    "\n",
    "new_df.head()"
   ]
  },
  {
   "cell_type": "code",
   "execution_count": 245,
   "id": "144ca39b",
   "metadata": {},
   "outputs": [],
   "source": [
    "new_df.to_csv('WeRateDogs.csv', index=False)"
   ]
  },
  {
   "cell_type": "code",
   "execution_count": 246,
   "id": "014ebf14",
   "metadata": {},
   "outputs": [],
   "source": [
    "date = new_df['datetime'].dt.date\n",
    "\n",
    "time = new_df['datetime'].dt.time"
   ]
  },
  {
   "cell_type": "code",
   "execution_count": 247,
   "id": "d5743e88",
   "metadata": {},
   "outputs": [],
   "source": [
    "new_df.insert(2, 'date', date)\n",
    "\n",
    "new_df.insert(3, 'time', time)"
   ]
  },
  {
   "cell_type": "code",
   "execution_count": 248,
   "id": "5379d842",
   "metadata": {},
   "outputs": [],
   "source": [
    "del new_df['datetime']"
   ]
  },
  {
   "cell_type": "code",
   "execution_count": 250,
   "id": "c5206892",
   "metadata": {},
   "outputs": [
    {
     "data": {
      "text/html": [
       "<div>\n",
       "<style scoped>\n",
       "    .dataframe tbody tr th:only-of-type {\n",
       "        vertical-align: middle;\n",
       "    }\n",
       "\n",
       "    .dataframe tbody tr th {\n",
       "        vertical-align: top;\n",
       "    }\n",
       "\n",
       "    .dataframe thead th {\n",
       "        text-align: right;\n",
       "    }\n",
       "</style>\n",
       "<table border=\"1\" class=\"dataframe\">\n",
       "  <thead>\n",
       "    <tr style=\"text-align: right;\">\n",
       "      <th></th>\n",
       "      <th>id</th>\n",
       "      <th>user</th>\n",
       "      <th>date</th>\n",
       "      <th>time</th>\n",
       "      <th>text</th>\n",
       "      <th>favorite_count</th>\n",
       "      <th>retweet_count</th>\n",
       "    </tr>\n",
       "  </thead>\n",
       "  <tbody>\n",
       "    <tr>\n",
       "      <th>0</th>\n",
       "      <td>946433880898359300</td>\n",
       "      <td>dog_rates</td>\n",
       "      <td>2017-12-28</td>\n",
       "      <td>17:33:15</td>\n",
       "      <td>This is Gimli. He absolutely shreds. Mlem game...</td>\n",
       "      <td>24079</td>\n",
       "      <td>2807</td>\n",
       "    </tr>\n",
       "    <tr>\n",
       "      <th>1</th>\n",
       "      <td>946068980296568833</td>\n",
       "      <td>dog_rates</td>\n",
       "      <td>2017-12-27</td>\n",
       "      <td>17:23:16</td>\n",
       "      <td>This is Fox. He is a jubilant boy. Hopes your ...</td>\n",
       "      <td>29027</td>\n",
       "      <td>3153</td>\n",
       "    </tr>\n",
       "    <tr>\n",
       "      <th>2</th>\n",
       "      <td>945474393618120705</td>\n",
       "      <td>dog_rates</td>\n",
       "      <td>2017-12-26</td>\n",
       "      <td>02:00:36</td>\n",
       "      <td>Oh c’mon. I know it’s christmas but we still o...</td>\n",
       "      <td>38456</td>\n",
       "      <td>4157</td>\n",
       "    </tr>\n",
       "    <tr>\n",
       "      <th>3</th>\n",
       "      <td>945459196014813184</td>\n",
       "      <td>dog_rates</td>\n",
       "      <td>2017-12-26</td>\n",
       "      <td>01:00:12</td>\n",
       "      <td>This is Nugget. He just arrived. Hopes he’s no...</td>\n",
       "      <td>26370</td>\n",
       "      <td>2940</td>\n",
       "    </tr>\n",
       "    <tr>\n",
       "      <th>4</th>\n",
       "      <td>945444330315091968</td>\n",
       "      <td>dog_rates</td>\n",
       "      <td>2017-12-26</td>\n",
       "      <td>00:01:08</td>\n",
       "      <td>Say hello to Luke and Oliver. They opened the ...</td>\n",
       "      <td>33043</td>\n",
       "      <td>5066</td>\n",
       "    </tr>\n",
       "  </tbody>\n",
       "</table>\n",
       "</div>"
      ],
      "text/plain": [
       "                   id       user        date      time  \\\n",
       "0  946433880898359300  dog_rates  2017-12-28  17:33:15   \n",
       "1  946068980296568833  dog_rates  2017-12-27  17:23:16   \n",
       "2  945474393618120705  dog_rates  2017-12-26  02:00:36   \n",
       "3  945459196014813184  dog_rates  2017-12-26  01:00:12   \n",
       "4  945444330315091968  dog_rates  2017-12-26  00:01:08   \n",
       "\n",
       "                                                text  favorite_count  \\\n",
       "0  This is Gimli. He absolutely shreds. Mlem game...           24079   \n",
       "1  This is Fox. He is a jubilant boy. Hopes your ...           29027   \n",
       "2  Oh c’mon. I know it’s christmas but we still o...           38456   \n",
       "3  This is Nugget. He just arrived. Hopes he’s no...           26370   \n",
       "4  Say hello to Luke and Oliver. They opened the ...           33043   \n",
       "\n",
       "   retweet_count  \n",
       "0           2807  \n",
       "1           3153  \n",
       "2           4157  \n",
       "3           2940  \n",
       "4           5066  "
      ]
     },
     "execution_count": 250,
     "metadata": {},
     "output_type": "execute_result"
    }
   ],
   "source": [
    "new_df.head()"
   ]
  },
  {
   "cell_type": "code",
   "execution_count": 254,
   "id": "2a288f1e",
   "metadata": {},
   "outputs": [],
   "source": [
    "new_df['date'] = pd.to_datetime(new_df['date'])"
   ]
  },
  {
   "cell_type": "code",
   "execution_count": 257,
   "id": "1060a882",
   "metadata": {},
   "outputs": [
    {
     "data": {
      "text/html": [
       "<div>\n",
       "<style scoped>\n",
       "    .dataframe tbody tr th:only-of-type {\n",
       "        vertical-align: middle;\n",
       "    }\n",
       "\n",
       "    .dataframe tbody tr th {\n",
       "        vertical-align: top;\n",
       "    }\n",
       "\n",
       "    .dataframe thead th {\n",
       "        text-align: right;\n",
       "    }\n",
       "</style>\n",
       "<table border=\"1\" class=\"dataframe\">\n",
       "  <thead>\n",
       "    <tr style=\"text-align: right;\">\n",
       "      <th></th>\n",
       "      <th>date</th>\n",
       "      <th>favorite_count</th>\n",
       "    </tr>\n",
       "  </thead>\n",
       "  <tbody>\n",
       "    <tr>\n",
       "      <th>0</th>\n",
       "      <td>2017</td>\n",
       "      <td>7886555</td>\n",
       "    </tr>\n",
       "  </tbody>\n",
       "</table>\n",
       "</div>"
      ],
      "text/plain": [
       "   date  favorite_count\n",
       "0  2017         7886555"
      ]
     },
     "execution_count": 257,
     "metadata": {},
     "output_type": "execute_result"
    }
   ],
   "source": [
    "new_favorite_count = new_df['favorite_count'].groupby(new_df['date'].dt.year).sum().reset_index()\n",
    "\n",
    "new_favorite_count"
   ]
  },
  {
   "cell_type": "code",
   "execution_count": 256,
   "id": "403435ca",
   "metadata": {},
   "outputs": [
    {
     "data": {
      "text/html": [
       "<div>\n",
       "<style scoped>\n",
       "    .dataframe tbody tr th:only-of-type {\n",
       "        vertical-align: middle;\n",
       "    }\n",
       "\n",
       "    .dataframe tbody tr th {\n",
       "        vertical-align: top;\n",
       "    }\n",
       "\n",
       "    .dataframe thead th {\n",
       "        text-align: right;\n",
       "    }\n",
       "</style>\n",
       "<table border=\"1\" class=\"dataframe\">\n",
       "  <thead>\n",
       "    <tr style=\"text-align: right;\">\n",
       "      <th></th>\n",
       "      <th>date</th>\n",
       "      <th>retweet_count</th>\n",
       "    </tr>\n",
       "  </thead>\n",
       "  <tbody>\n",
       "    <tr>\n",
       "      <th>0</th>\n",
       "      <td>2017</td>\n",
       "      <td>1416000</td>\n",
       "    </tr>\n",
       "  </tbody>\n",
       "</table>\n",
       "</div>"
      ],
      "text/plain": [
       "   date  retweet_count\n",
       "0  2017        1416000"
      ]
     },
     "execution_count": 256,
     "metadata": {},
     "output_type": "execute_result"
    }
   ],
   "source": [
    "new_retweet_count = new_df['retweet_count'].groupby(new_df['date'].dt.year).sum().reset_index()\n",
    "\n",
    "new_retweet_count"
   ]
  },
  {
   "cell_type": "code",
   "execution_count": null,
   "id": "5b6069ea",
   "metadata": {},
   "outputs": [],
   "source": []
  }
 ],
 "metadata": {
  "kernelspec": {
   "display_name": "Python 3 (ipykernel)",
   "language": "python",
   "name": "python3"
  },
  "language_info": {
   "codemirror_mode": {
    "name": "ipython",
    "version": 3
   },
   "file_extension": ".py",
   "mimetype": "text/x-python",
   "name": "python",
   "nbconvert_exporter": "python",
   "pygments_lexer": "ipython3",
   "version": "3.9.7"
  }
 },
 "nbformat": 4,
 "nbformat_minor": 5
}
